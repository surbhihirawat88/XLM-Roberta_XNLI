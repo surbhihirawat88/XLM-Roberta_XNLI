{
  "nbformat": 4,
  "nbformat_minor": 0,
  "metadata": {
    "accelerator": "GPU",
    "colab": {
      "name": "XNLI.ipynb",
      "provenance": [],
      "collapsed_sections": [],
      "toc_visible": true
    },
    "kernelspec": {
      "display_name": "Python 3",
      "name": "python3"
    },
    "widgets": {
      "application/vnd.jupyter.widget-state+json": {
        "93e4e9b12a154ec88e20f1aa7f521ccd": {
          "model_module": "@jupyter-widgets/controls",
          "model_name": "HBoxModel",
          "state": {
            "_dom_classes": [],
            "_model_module": "@jupyter-widgets/controls",
            "_model_module_version": "1.5.0",
            "_model_name": "HBoxModel",
            "_view_count": null,
            "_view_module": "@jupyter-widgets/controls",
            "_view_module_version": "1.5.0",
            "_view_name": "HBoxView",
            "box_style": "",
            "children": [
              "IPY_MODEL_e7f71479de13433aa3e7d48be8c7bdec",
              "IPY_MODEL_5116c3d3160a4c39a5cb522cb7781b2f"
            ],
            "layout": "IPY_MODEL_bf18a22b185f4952a827313a0940fa54"
          }
        },
        "e7f71479de13433aa3e7d48be8c7bdec": {
          "model_module": "@jupyter-widgets/controls",
          "model_name": "FloatProgressModel",
          "state": {
            "_dom_classes": [],
            "_model_module": "@jupyter-widgets/controls",
            "_model_module_version": "1.5.0",
            "_model_name": "FloatProgressModel",
            "_view_count": null,
            "_view_module": "@jupyter-widgets/controls",
            "_view_module_version": "1.5.0",
            "_view_name": "ProgressView",
            "bar_style": "success",
            "description": "Dl Completed...: 100%",
            "description_tooltip": null,
            "layout": "IPY_MODEL_31674342b8344b51b469e395b9005246",
            "max": 1,
            "min": 0,
            "orientation": "horizontal",
            "style": "IPY_MODEL_dd18489f46c246fbb0e327e6b9c21df7",
            "value": 1
          }
        },
        "5116c3d3160a4c39a5cb522cb7781b2f": {
          "model_module": "@jupyter-widgets/controls",
          "model_name": "HTMLModel",
          "state": {
            "_dom_classes": [],
            "_model_module": "@jupyter-widgets/controls",
            "_model_module_version": "1.5.0",
            "_model_name": "HTMLModel",
            "_view_count": null,
            "_view_module": "@jupyter-widgets/controls",
            "_view_module_version": "1.5.0",
            "_view_name": "HTMLView",
            "description": "",
            "description_tooltip": null,
            "layout": "IPY_MODEL_b97fa7ebddb749d4a9659be02d2eebf6",
            "placeholder": "​",
            "style": "IPY_MODEL_76d7f720b7d84e84810e64ca49b62ad8",
            "value": " 1/1 [03:29&lt;00:00, 209.39s/ url]"
          }
        },
        "bf18a22b185f4952a827313a0940fa54": {
          "model_module": "@jupyter-widgets/base",
          "model_name": "LayoutModel",
          "state": {
            "_model_module": "@jupyter-widgets/base",
            "_model_module_version": "1.2.0",
            "_model_name": "LayoutModel",
            "_view_count": null,
            "_view_module": "@jupyter-widgets/base",
            "_view_module_version": "1.2.0",
            "_view_name": "LayoutView",
            "align_content": null,
            "align_items": null,
            "align_self": null,
            "border": null,
            "bottom": null,
            "display": null,
            "flex": null,
            "flex_flow": null,
            "grid_area": null,
            "grid_auto_columns": null,
            "grid_auto_flow": null,
            "grid_auto_rows": null,
            "grid_column": null,
            "grid_gap": null,
            "grid_row": null,
            "grid_template_areas": null,
            "grid_template_columns": null,
            "grid_template_rows": null,
            "height": null,
            "justify_content": null,
            "justify_items": null,
            "left": null,
            "margin": null,
            "max_height": null,
            "max_width": null,
            "min_height": null,
            "min_width": null,
            "object_fit": null,
            "object_position": null,
            "order": null,
            "overflow": null,
            "overflow_x": null,
            "overflow_y": null,
            "padding": null,
            "right": null,
            "top": null,
            "visibility": null,
            "width": null
          }
        },
        "31674342b8344b51b469e395b9005246": {
          "model_module": "@jupyter-widgets/base",
          "model_name": "LayoutModel",
          "state": {
            "_model_module": "@jupyter-widgets/base",
            "_model_module_version": "1.2.0",
            "_model_name": "LayoutModel",
            "_view_count": null,
            "_view_module": "@jupyter-widgets/base",
            "_view_module_version": "1.2.0",
            "_view_name": "LayoutView",
            "align_content": null,
            "align_items": null,
            "align_self": null,
            "border": null,
            "bottom": null,
            "display": null,
            "flex": null,
            "flex_flow": null,
            "grid_area": null,
            "grid_auto_columns": null,
            "grid_auto_flow": null,
            "grid_auto_rows": null,
            "grid_column": null,
            "grid_gap": null,
            "grid_row": null,
            "grid_template_areas": null,
            "grid_template_columns": null,
            "grid_template_rows": null,
            "height": null,
            "justify_content": null,
            "justify_items": null,
            "left": null,
            "margin": null,
            "max_height": null,
            "max_width": null,
            "min_height": null,
            "min_width": null,
            "object_fit": null,
            "object_position": null,
            "order": null,
            "overflow": null,
            "overflow_x": null,
            "overflow_y": null,
            "padding": null,
            "right": null,
            "top": null,
            "visibility": null,
            "width": null
          }
        },
        "dd18489f46c246fbb0e327e6b9c21df7": {
          "model_module": "@jupyter-widgets/controls",
          "model_name": "ProgressStyleModel",
          "state": {
            "_model_module": "@jupyter-widgets/controls",
            "_model_module_version": "1.5.0",
            "_model_name": "ProgressStyleModel",
            "_view_count": null,
            "_view_module": "@jupyter-widgets/base",
            "_view_module_version": "1.2.0",
            "_view_name": "StyleView",
            "bar_color": null,
            "description_width": "initial"
          }
        },
        "b97fa7ebddb749d4a9659be02d2eebf6": {
          "model_module": "@jupyter-widgets/base",
          "model_name": "LayoutModel",
          "state": {
            "_model_module": "@jupyter-widgets/base",
            "_model_module_version": "1.2.0",
            "_model_name": "LayoutModel",
            "_view_count": null,
            "_view_module": "@jupyter-widgets/base",
            "_view_module_version": "1.2.0",
            "_view_name": "LayoutView",
            "align_content": null,
            "align_items": null,
            "align_self": null,
            "border": null,
            "bottom": null,
            "display": null,
            "flex": null,
            "flex_flow": null,
            "grid_area": null,
            "grid_auto_columns": null,
            "grid_auto_flow": null,
            "grid_auto_rows": null,
            "grid_column": null,
            "grid_gap": null,
            "grid_row": null,
            "grid_template_areas": null,
            "grid_template_columns": null,
            "grid_template_rows": null,
            "height": null,
            "justify_content": null,
            "justify_items": null,
            "left": null,
            "margin": null,
            "max_height": null,
            "max_width": null,
            "min_height": null,
            "min_width": null,
            "object_fit": null,
            "object_position": null,
            "order": null,
            "overflow": null,
            "overflow_x": null,
            "overflow_y": null,
            "padding": null,
            "right": null,
            "top": null,
            "visibility": null,
            "width": null
          }
        },
        "76d7f720b7d84e84810e64ca49b62ad8": {
          "model_module": "@jupyter-widgets/controls",
          "model_name": "DescriptionStyleModel",
          "state": {
            "_model_module": "@jupyter-widgets/controls",
            "_model_module_version": "1.5.0",
            "_model_name": "DescriptionStyleModel",
            "_view_count": null,
            "_view_module": "@jupyter-widgets/base",
            "_view_module_version": "1.2.0",
            "_view_name": "StyleView",
            "description_width": ""
          }
        },
        "a7abd052cc124b749e2c45ad1afef524": {
          "model_module": "@jupyter-widgets/controls",
          "model_name": "HBoxModel",
          "state": {
            "_dom_classes": [],
            "_model_module": "@jupyter-widgets/controls",
            "_model_module_version": "1.5.0",
            "_model_name": "HBoxModel",
            "_view_count": null,
            "_view_module": "@jupyter-widgets/controls",
            "_view_module_version": "1.5.0",
            "_view_name": "HBoxView",
            "box_style": "",
            "children": [
              "IPY_MODEL_db6a22919540482ab599229bb5855e2e",
              "IPY_MODEL_882f4f6e61d3406da1c3111bf3b8e37d"
            ],
            "layout": "IPY_MODEL_340ca12a3d6e42d0ac5ceea93149055f"
          }
        },
        "db6a22919540482ab599229bb5855e2e": {
          "model_module": "@jupyter-widgets/controls",
          "model_name": "FloatProgressModel",
          "state": {
            "_dom_classes": [],
            "_model_module": "@jupyter-widgets/controls",
            "_model_module_version": "1.5.0",
            "_model_name": "FloatProgressModel",
            "_view_count": null,
            "_view_module": "@jupyter-widgets/controls",
            "_view_module_version": "1.5.0",
            "_view_name": "ProgressView",
            "bar_style": "success",
            "description": "Dl Size...: 100%",
            "description_tooltip": null,
            "layout": "IPY_MODEL_43af3d4bf92947d19557b38bc0eb0666",
            "max": 1,
            "min": 0,
            "orientation": "horizontal",
            "style": "IPY_MODEL_a2a0c7c187b24c4b8912af24576bb4e2",
            "value": 1
          }
        },
        "882f4f6e61d3406da1c3111bf3b8e37d": {
          "model_module": "@jupyter-widgets/controls",
          "model_name": "HTMLModel",
          "state": {
            "_dom_classes": [],
            "_model_module": "@jupyter-widgets/controls",
            "_model_module_version": "1.5.0",
            "_model_name": "HTMLModel",
            "_view_count": null,
            "_view_module": "@jupyter-widgets/controls",
            "_view_module_version": "1.5.0",
            "_view_name": "HTMLView",
            "description": "",
            "description_tooltip": null,
            "layout": "IPY_MODEL_0ecc70d148b9469ea5ea1b9559c9c640",
            "placeholder": "​",
            "style": "IPY_MODEL_23095ad224be430ca6da33ef62fc3a6e",
            "value": " 216/216 [03:29&lt;00:00,  1.03 MiB/s]"
          }
        },
        "340ca12a3d6e42d0ac5ceea93149055f": {
          "model_module": "@jupyter-widgets/base",
          "model_name": "LayoutModel",
          "state": {
            "_model_module": "@jupyter-widgets/base",
            "_model_module_version": "1.2.0",
            "_model_name": "LayoutModel",
            "_view_count": null,
            "_view_module": "@jupyter-widgets/base",
            "_view_module_version": "1.2.0",
            "_view_name": "LayoutView",
            "align_content": null,
            "align_items": null,
            "align_self": null,
            "border": null,
            "bottom": null,
            "display": null,
            "flex": null,
            "flex_flow": null,
            "grid_area": null,
            "grid_auto_columns": null,
            "grid_auto_flow": null,
            "grid_auto_rows": null,
            "grid_column": null,
            "grid_gap": null,
            "grid_row": null,
            "grid_template_areas": null,
            "grid_template_columns": null,
            "grid_template_rows": null,
            "height": null,
            "justify_content": null,
            "justify_items": null,
            "left": null,
            "margin": null,
            "max_height": null,
            "max_width": null,
            "min_height": null,
            "min_width": null,
            "object_fit": null,
            "object_position": null,
            "order": null,
            "overflow": null,
            "overflow_x": null,
            "overflow_y": null,
            "padding": null,
            "right": null,
            "top": null,
            "visibility": null,
            "width": null
          }
        },
        "43af3d4bf92947d19557b38bc0eb0666": {
          "model_module": "@jupyter-widgets/base",
          "model_name": "LayoutModel",
          "state": {
            "_model_module": "@jupyter-widgets/base",
            "_model_module_version": "1.2.0",
            "_model_name": "LayoutModel",
            "_view_count": null,
            "_view_module": "@jupyter-widgets/base",
            "_view_module_version": "1.2.0",
            "_view_name": "LayoutView",
            "align_content": null,
            "align_items": null,
            "align_self": null,
            "border": null,
            "bottom": null,
            "display": null,
            "flex": null,
            "flex_flow": null,
            "grid_area": null,
            "grid_auto_columns": null,
            "grid_auto_flow": null,
            "grid_auto_rows": null,
            "grid_column": null,
            "grid_gap": null,
            "grid_row": null,
            "grid_template_areas": null,
            "grid_template_columns": null,
            "grid_template_rows": null,
            "height": null,
            "justify_content": null,
            "justify_items": null,
            "left": null,
            "margin": null,
            "max_height": null,
            "max_width": null,
            "min_height": null,
            "min_width": null,
            "object_fit": null,
            "object_position": null,
            "order": null,
            "overflow": null,
            "overflow_x": null,
            "overflow_y": null,
            "padding": null,
            "right": null,
            "top": null,
            "visibility": null,
            "width": null
          }
        },
        "a2a0c7c187b24c4b8912af24576bb4e2": {
          "model_module": "@jupyter-widgets/controls",
          "model_name": "ProgressStyleModel",
          "state": {
            "_model_module": "@jupyter-widgets/controls",
            "_model_module_version": "1.5.0",
            "_model_name": "ProgressStyleModel",
            "_view_count": null,
            "_view_module": "@jupyter-widgets/base",
            "_view_module_version": "1.2.0",
            "_view_name": "StyleView",
            "bar_color": null,
            "description_width": "initial"
          }
        },
        "0ecc70d148b9469ea5ea1b9559c9c640": {
          "model_module": "@jupyter-widgets/base",
          "model_name": "LayoutModel",
          "state": {
            "_model_module": "@jupyter-widgets/base",
            "_model_module_version": "1.2.0",
            "_model_name": "LayoutModel",
            "_view_count": null,
            "_view_module": "@jupyter-widgets/base",
            "_view_module_version": "1.2.0",
            "_view_name": "LayoutView",
            "align_content": null,
            "align_items": null,
            "align_self": null,
            "border": null,
            "bottom": null,
            "display": null,
            "flex": null,
            "flex_flow": null,
            "grid_area": null,
            "grid_auto_columns": null,
            "grid_auto_flow": null,
            "grid_auto_rows": null,
            "grid_column": null,
            "grid_gap": null,
            "grid_row": null,
            "grid_template_areas": null,
            "grid_template_columns": null,
            "grid_template_rows": null,
            "height": null,
            "justify_content": null,
            "justify_items": null,
            "left": null,
            "margin": null,
            "max_height": null,
            "max_width": null,
            "min_height": null,
            "min_width": null,
            "object_fit": null,
            "object_position": null,
            "order": null,
            "overflow": null,
            "overflow_x": null,
            "overflow_y": null,
            "padding": null,
            "right": null,
            "top": null,
            "visibility": null,
            "width": null
          }
        },
        "23095ad224be430ca6da33ef62fc3a6e": {
          "model_module": "@jupyter-widgets/controls",
          "model_name": "DescriptionStyleModel",
          "state": {
            "_model_module": "@jupyter-widgets/controls",
            "_model_module_version": "1.5.0",
            "_model_name": "DescriptionStyleModel",
            "_view_count": null,
            "_view_module": "@jupyter-widgets/base",
            "_view_module_version": "1.2.0",
            "_view_name": "StyleView",
            "description_width": ""
          }
        },
        "65ccb4389d0346e2b6ca41abd08f7434": {
          "model_module": "@jupyter-widgets/controls",
          "model_name": "HBoxModel",
          "state": {
            "_dom_classes": [],
            "_model_module": "@jupyter-widgets/controls",
            "_model_module_version": "1.5.0",
            "_model_name": "HBoxModel",
            "_view_count": null,
            "_view_module": "@jupyter-widgets/controls",
            "_view_module_version": "1.5.0",
            "_view_name": "HBoxView",
            "box_style": "",
            "children": [
              "IPY_MODEL_c0ea34d6fef94d838d63d8f2194ac247",
              "IPY_MODEL_ea1dc15138be4770b5113a56239d7091"
            ],
            "layout": "IPY_MODEL_a2aaae81dfcf4475b79b201ee06a2e4b"
          }
        },
        "c0ea34d6fef94d838d63d8f2194ac247": {
          "model_module": "@jupyter-widgets/controls",
          "model_name": "FloatProgressModel",
          "state": {
            "_dom_classes": [],
            "_model_module": "@jupyter-widgets/controls",
            "_model_module_version": "1.5.0",
            "_model_name": "FloatProgressModel",
            "_view_count": null,
            "_view_module": "@jupyter-widgets/controls",
            "_view_module_version": "1.5.0",
            "_view_name": "ProgressView",
            "bar_style": "success",
            "description": "Extraction completed...: 100%",
            "description_tooltip": null,
            "layout": "IPY_MODEL_f7a1c734d68f460482def2a1866f4266",
            "max": 1,
            "min": 0,
            "orientation": "horizontal",
            "style": "IPY_MODEL_f39a183556384fa2a74ec2e6f4a1761c",
            "value": 1
          }
        },
        "ea1dc15138be4770b5113a56239d7091": {
          "model_module": "@jupyter-widgets/controls",
          "model_name": "HTMLModel",
          "state": {
            "_dom_classes": [],
            "_model_module": "@jupyter-widgets/controls",
            "_model_module_version": "1.5.0",
            "_model_name": "HTMLModel",
            "_view_count": null,
            "_view_module": "@jupyter-widgets/controls",
            "_view_module_version": "1.5.0",
            "_view_name": "HTMLView",
            "description": "",
            "description_tooltip": null,
            "layout": "IPY_MODEL_c70bac2fe33140769d03bc693cbcd1be",
            "placeholder": "​",
            "style": "IPY_MODEL_22e09214907642f69cb643b539858fbd",
            "value": " 1/1 [03:29&lt;00:00, 209.33s/ file]"
          }
        },
        "a2aaae81dfcf4475b79b201ee06a2e4b": {
          "model_module": "@jupyter-widgets/base",
          "model_name": "LayoutModel",
          "state": {
            "_model_module": "@jupyter-widgets/base",
            "_model_module_version": "1.2.0",
            "_model_name": "LayoutModel",
            "_view_count": null,
            "_view_module": "@jupyter-widgets/base",
            "_view_module_version": "1.2.0",
            "_view_name": "LayoutView",
            "align_content": null,
            "align_items": null,
            "align_self": null,
            "border": null,
            "bottom": null,
            "display": null,
            "flex": null,
            "flex_flow": null,
            "grid_area": null,
            "grid_auto_columns": null,
            "grid_auto_flow": null,
            "grid_auto_rows": null,
            "grid_column": null,
            "grid_gap": null,
            "grid_row": null,
            "grid_template_areas": null,
            "grid_template_columns": null,
            "grid_template_rows": null,
            "height": null,
            "justify_content": null,
            "justify_items": null,
            "left": null,
            "margin": null,
            "max_height": null,
            "max_width": null,
            "min_height": null,
            "min_width": null,
            "object_fit": null,
            "object_position": null,
            "order": null,
            "overflow": null,
            "overflow_x": null,
            "overflow_y": null,
            "padding": null,
            "right": null,
            "top": null,
            "visibility": null,
            "width": null
          }
        },
        "f7a1c734d68f460482def2a1866f4266": {
          "model_module": "@jupyter-widgets/base",
          "model_name": "LayoutModel",
          "state": {
            "_model_module": "@jupyter-widgets/base",
            "_model_module_version": "1.2.0",
            "_model_name": "LayoutModel",
            "_view_count": null,
            "_view_module": "@jupyter-widgets/base",
            "_view_module_version": "1.2.0",
            "_view_name": "LayoutView",
            "align_content": null,
            "align_items": null,
            "align_self": null,
            "border": null,
            "bottom": null,
            "display": null,
            "flex": null,
            "flex_flow": null,
            "grid_area": null,
            "grid_auto_columns": null,
            "grid_auto_flow": null,
            "grid_auto_rows": null,
            "grid_column": null,
            "grid_gap": null,
            "grid_row": null,
            "grid_template_areas": null,
            "grid_template_columns": null,
            "grid_template_rows": null,
            "height": null,
            "justify_content": null,
            "justify_items": null,
            "left": null,
            "margin": null,
            "max_height": null,
            "max_width": null,
            "min_height": null,
            "min_width": null,
            "object_fit": null,
            "object_position": null,
            "order": null,
            "overflow": null,
            "overflow_x": null,
            "overflow_y": null,
            "padding": null,
            "right": null,
            "top": null,
            "visibility": null,
            "width": null
          }
        },
        "f39a183556384fa2a74ec2e6f4a1761c": {
          "model_module": "@jupyter-widgets/controls",
          "model_name": "ProgressStyleModel",
          "state": {
            "_model_module": "@jupyter-widgets/controls",
            "_model_module_version": "1.5.0",
            "_model_name": "ProgressStyleModel",
            "_view_count": null,
            "_view_module": "@jupyter-widgets/base",
            "_view_module_version": "1.2.0",
            "_view_name": "StyleView",
            "bar_color": null,
            "description_width": "initial"
          }
        },
        "c70bac2fe33140769d03bc693cbcd1be": {
          "model_module": "@jupyter-widgets/base",
          "model_name": "LayoutModel",
          "state": {
            "_model_module": "@jupyter-widgets/base",
            "_model_module_version": "1.2.0",
            "_model_name": "LayoutModel",
            "_view_count": null,
            "_view_module": "@jupyter-widgets/base",
            "_view_module_version": "1.2.0",
            "_view_name": "LayoutView",
            "align_content": null,
            "align_items": null,
            "align_self": null,
            "border": null,
            "bottom": null,
            "display": null,
            "flex": null,
            "flex_flow": null,
            "grid_area": null,
            "grid_auto_columns": null,
            "grid_auto_flow": null,
            "grid_auto_rows": null,
            "grid_column": null,
            "grid_gap": null,
            "grid_row": null,
            "grid_template_areas": null,
            "grid_template_columns": null,
            "grid_template_rows": null,
            "height": null,
            "justify_content": null,
            "justify_items": null,
            "left": null,
            "margin": null,
            "max_height": null,
            "max_width": null,
            "min_height": null,
            "min_width": null,
            "object_fit": null,
            "object_position": null,
            "order": null,
            "overflow": null,
            "overflow_x": null,
            "overflow_y": null,
            "padding": null,
            "right": null,
            "top": null,
            "visibility": null,
            "width": null
          }
        },
        "22e09214907642f69cb643b539858fbd": {
          "model_module": "@jupyter-widgets/controls",
          "model_name": "DescriptionStyleModel",
          "state": {
            "_model_module": "@jupyter-widgets/controls",
            "_model_module_version": "1.5.0",
            "_model_name": "DescriptionStyleModel",
            "_view_count": null,
            "_view_module": "@jupyter-widgets/base",
            "_view_module_version": "1.2.0",
            "_view_name": "StyleView",
            "description_width": ""
          }
        },
        "1a3395c1d8ec4c81afa86a67487c700f": {
          "model_module": "@jupyter-widgets/controls",
          "model_name": "HBoxModel",
          "state": {
            "_dom_classes": [],
            "_model_module": "@jupyter-widgets/controls",
            "_model_module_version": "1.5.0",
            "_model_name": "HBoxModel",
            "_view_count": null,
            "_view_module": "@jupyter-widgets/controls",
            "_view_module_version": "1.5.0",
            "_view_name": "HBoxView",
            "box_style": "",
            "children": [
              "IPY_MODEL_16f4daec430f4217809983638223292e",
              "IPY_MODEL_b268b889da824121b78e4c4c787082de"
            ],
            "layout": "IPY_MODEL_61fcdd5c91ae4ebcb2b500f68b8913ee"
          }
        },
        "16f4daec430f4217809983638223292e": {
          "model_module": "@jupyter-widgets/controls",
          "model_name": "FloatProgressModel",
          "state": {
            "_dom_classes": [],
            "_model_module": "@jupyter-widgets/controls",
            "_model_module_version": "1.5.0",
            "_model_name": "FloatProgressModel",
            "_view_count": null,
            "_view_module": "@jupyter-widgets/controls",
            "_view_module_version": "1.5.0",
            "_view_name": "ProgressView",
            "bar_style": "info",
            "description": "",
            "description_tooltip": null,
            "layout": "IPY_MODEL_ccc9b6bc2e8f4da28642b5a6a7f6e74b",
            "max": 1,
            "min": 0,
            "orientation": "horizontal",
            "style": "IPY_MODEL_a30c8237de1e43f5bd6b3274086c7a56",
            "value": 1
          }
        },
        "b268b889da824121b78e4c4c787082de": {
          "model_module": "@jupyter-widgets/controls",
          "model_name": "HTMLModel",
          "state": {
            "_dom_classes": [],
            "_model_module": "@jupyter-widgets/controls",
            "_model_module_version": "1.5.0",
            "_model_name": "HTMLModel",
            "_view_count": null,
            "_view_module": "@jupyter-widgets/controls",
            "_view_module_version": "1.5.0",
            "_view_name": "HTMLView",
            "description": "",
            "description_tooltip": null,
            "layout": "IPY_MODEL_114ca21b51e84536a77c7b92ca0d7a62",
            "placeholder": "​",
            "style": "IPY_MODEL_aaeb90e06adc4e8db586f4c8f37e030e",
            "value": " 392702/0 [01:14&lt;00:00, 5335.78 examples/s]"
          }
        },
        "61fcdd5c91ae4ebcb2b500f68b8913ee": {
          "model_module": "@jupyter-widgets/base",
          "model_name": "LayoutModel",
          "state": {
            "_model_module": "@jupyter-widgets/base",
            "_model_module_version": "1.2.0",
            "_model_name": "LayoutModel",
            "_view_count": null,
            "_view_module": "@jupyter-widgets/base",
            "_view_module_version": "1.2.0",
            "_view_name": "LayoutView",
            "align_content": null,
            "align_items": null,
            "align_self": null,
            "border": null,
            "bottom": null,
            "display": null,
            "flex": null,
            "flex_flow": null,
            "grid_area": null,
            "grid_auto_columns": null,
            "grid_auto_flow": null,
            "grid_auto_rows": null,
            "grid_column": null,
            "grid_gap": null,
            "grid_row": null,
            "grid_template_areas": null,
            "grid_template_columns": null,
            "grid_template_rows": null,
            "height": null,
            "justify_content": null,
            "justify_items": null,
            "left": null,
            "margin": null,
            "max_height": null,
            "max_width": null,
            "min_height": null,
            "min_width": null,
            "object_fit": null,
            "object_position": null,
            "order": null,
            "overflow": null,
            "overflow_x": null,
            "overflow_y": null,
            "padding": null,
            "right": null,
            "top": null,
            "visibility": null,
            "width": null
          }
        },
        "ccc9b6bc2e8f4da28642b5a6a7f6e74b": {
          "model_module": "@jupyter-widgets/base",
          "model_name": "LayoutModel",
          "state": {
            "_model_module": "@jupyter-widgets/base",
            "_model_module_version": "1.2.0",
            "_model_name": "LayoutModel",
            "_view_count": null,
            "_view_module": "@jupyter-widgets/base",
            "_view_module_version": "1.2.0",
            "_view_name": "LayoutView",
            "align_content": null,
            "align_items": null,
            "align_self": null,
            "border": null,
            "bottom": null,
            "display": null,
            "flex": null,
            "flex_flow": null,
            "grid_area": null,
            "grid_auto_columns": null,
            "grid_auto_flow": null,
            "grid_auto_rows": null,
            "grid_column": null,
            "grid_gap": null,
            "grid_row": null,
            "grid_template_areas": null,
            "grid_template_columns": null,
            "grid_template_rows": null,
            "height": null,
            "justify_content": null,
            "justify_items": null,
            "left": null,
            "margin": null,
            "max_height": null,
            "max_width": null,
            "min_height": null,
            "min_width": null,
            "object_fit": null,
            "object_position": null,
            "order": null,
            "overflow": null,
            "overflow_x": null,
            "overflow_y": null,
            "padding": null,
            "right": null,
            "top": null,
            "visibility": null,
            "width": null
          }
        },
        "a30c8237de1e43f5bd6b3274086c7a56": {
          "model_module": "@jupyter-widgets/controls",
          "model_name": "ProgressStyleModel",
          "state": {
            "_model_module": "@jupyter-widgets/controls",
            "_model_module_version": "1.5.0",
            "_model_name": "ProgressStyleModel",
            "_view_count": null,
            "_view_module": "@jupyter-widgets/base",
            "_view_module_version": "1.2.0",
            "_view_name": "StyleView",
            "bar_color": null,
            "description_width": "initial"
          }
        },
        "114ca21b51e84536a77c7b92ca0d7a62": {
          "model_module": "@jupyter-widgets/base",
          "model_name": "LayoutModel",
          "state": {
            "_model_module": "@jupyter-widgets/base",
            "_model_module_version": "1.2.0",
            "_model_name": "LayoutModel",
            "_view_count": null,
            "_view_module": "@jupyter-widgets/base",
            "_view_module_version": "1.2.0",
            "_view_name": "LayoutView",
            "align_content": null,
            "align_items": null,
            "align_self": null,
            "border": null,
            "bottom": null,
            "display": null,
            "flex": null,
            "flex_flow": null,
            "grid_area": null,
            "grid_auto_columns": null,
            "grid_auto_flow": null,
            "grid_auto_rows": null,
            "grid_column": null,
            "grid_gap": null,
            "grid_row": null,
            "grid_template_areas": null,
            "grid_template_columns": null,
            "grid_template_rows": null,
            "height": null,
            "justify_content": null,
            "justify_items": null,
            "left": null,
            "margin": null,
            "max_height": null,
            "max_width": null,
            "min_height": null,
            "min_width": null,
            "object_fit": null,
            "object_position": null,
            "order": null,
            "overflow": null,
            "overflow_x": null,
            "overflow_y": null,
            "padding": null,
            "right": null,
            "top": null,
            "visibility": null,
            "width": null
          }
        },
        "aaeb90e06adc4e8db586f4c8f37e030e": {
          "model_module": "@jupyter-widgets/controls",
          "model_name": "DescriptionStyleModel",
          "state": {
            "_model_module": "@jupyter-widgets/controls",
            "_model_module_version": "1.5.0",
            "_model_name": "DescriptionStyleModel",
            "_view_count": null,
            "_view_module": "@jupyter-widgets/base",
            "_view_module_version": "1.2.0",
            "_view_name": "StyleView",
            "description_width": ""
          }
        },
        "961cd26955014df697be35aec70e3299": {
          "model_module": "@jupyter-widgets/controls",
          "model_name": "HBoxModel",
          "state": {
            "_dom_classes": [],
            "_model_module": "@jupyter-widgets/controls",
            "_model_module_version": "1.5.0",
            "_model_name": "HBoxModel",
            "_view_count": null,
            "_view_module": "@jupyter-widgets/controls",
            "_view_module_version": "1.5.0",
            "_view_name": "HBoxView",
            "box_style": "",
            "children": [
              "IPY_MODEL_da22d77d479e4f6d9846a4c49717032d",
              "IPY_MODEL_49f76b5a4dc74df1be6d745a0f189dbd"
            ],
            "layout": "IPY_MODEL_a9f53525ae9b401b9226057ee44c88d2"
          }
        },
        "da22d77d479e4f6d9846a4c49717032d": {
          "model_module": "@jupyter-widgets/controls",
          "model_name": "FloatProgressModel",
          "state": {
            "_dom_classes": [],
            "_model_module": "@jupyter-widgets/controls",
            "_model_module_version": "1.5.0",
            "_model_name": "FloatProgressModel",
            "_view_count": null,
            "_view_module": "@jupyter-widgets/controls",
            "_view_module_version": "1.5.0",
            "_view_name": "ProgressView",
            "bar_style": "danger",
            "description": " 90%",
            "description_tooltip": null,
            "layout": "IPY_MODEL_e1c6bd2a9d2b416692fad6e444db7258",
            "max": 392702,
            "min": 0,
            "orientation": "horizontal",
            "style": "IPY_MODEL_26282e5b2a51496480e94f28b1fc7458",
            "value": 352376
          }
        },
        "49f76b5a4dc74df1be6d745a0f189dbd": {
          "model_module": "@jupyter-widgets/controls",
          "model_name": "HTMLModel",
          "state": {
            "_dom_classes": [],
            "_model_module": "@jupyter-widgets/controls",
            "_model_module_version": "1.5.0",
            "_model_name": "HTMLModel",
            "_view_count": null,
            "_view_module": "@jupyter-widgets/controls",
            "_view_module_version": "1.5.0",
            "_view_name": "HTMLView",
            "description": "",
            "description_tooltip": null,
            "layout": "IPY_MODEL_22b08431a2864017b31fea9c88301d04",
            "placeholder": "​",
            "style": "IPY_MODEL_afe611c1d1fa475ab707f9ce348d44a4",
            "value": " 352376/392702 [00:01&lt;22:15, 30.20 examples/s]"
          }
        },
        "a9f53525ae9b401b9226057ee44c88d2": {
          "model_module": "@jupyter-widgets/base",
          "model_name": "LayoutModel",
          "state": {
            "_model_module": "@jupyter-widgets/base",
            "_model_module_version": "1.2.0",
            "_model_name": "LayoutModel",
            "_view_count": null,
            "_view_module": "@jupyter-widgets/base",
            "_view_module_version": "1.2.0",
            "_view_name": "LayoutView",
            "align_content": null,
            "align_items": null,
            "align_self": null,
            "border": null,
            "bottom": null,
            "display": null,
            "flex": null,
            "flex_flow": null,
            "grid_area": null,
            "grid_auto_columns": null,
            "grid_auto_flow": null,
            "grid_auto_rows": null,
            "grid_column": null,
            "grid_gap": null,
            "grid_row": null,
            "grid_template_areas": null,
            "grid_template_columns": null,
            "grid_template_rows": null,
            "height": null,
            "justify_content": null,
            "justify_items": null,
            "left": null,
            "margin": null,
            "max_height": null,
            "max_width": null,
            "min_height": null,
            "min_width": null,
            "object_fit": null,
            "object_position": null,
            "order": null,
            "overflow": null,
            "overflow_x": null,
            "overflow_y": null,
            "padding": null,
            "right": null,
            "top": null,
            "visibility": null,
            "width": null
          }
        },
        "e1c6bd2a9d2b416692fad6e444db7258": {
          "model_module": "@jupyter-widgets/base",
          "model_name": "LayoutModel",
          "state": {
            "_model_module": "@jupyter-widgets/base",
            "_model_module_version": "1.2.0",
            "_model_name": "LayoutModel",
            "_view_count": null,
            "_view_module": "@jupyter-widgets/base",
            "_view_module_version": "1.2.0",
            "_view_name": "LayoutView",
            "align_content": null,
            "align_items": null,
            "align_self": null,
            "border": null,
            "bottom": null,
            "display": null,
            "flex": null,
            "flex_flow": null,
            "grid_area": null,
            "grid_auto_columns": null,
            "grid_auto_flow": null,
            "grid_auto_rows": null,
            "grid_column": null,
            "grid_gap": null,
            "grid_row": null,
            "grid_template_areas": null,
            "grid_template_columns": null,
            "grid_template_rows": null,
            "height": null,
            "justify_content": null,
            "justify_items": null,
            "left": null,
            "margin": null,
            "max_height": null,
            "max_width": null,
            "min_height": null,
            "min_width": null,
            "object_fit": null,
            "object_position": null,
            "order": null,
            "overflow": null,
            "overflow_x": null,
            "overflow_y": null,
            "padding": null,
            "right": null,
            "top": null,
            "visibility": null,
            "width": null
          }
        },
        "26282e5b2a51496480e94f28b1fc7458": {
          "model_module": "@jupyter-widgets/controls",
          "model_name": "ProgressStyleModel",
          "state": {
            "_model_module": "@jupyter-widgets/controls",
            "_model_module_version": "1.5.0",
            "_model_name": "ProgressStyleModel",
            "_view_count": null,
            "_view_module": "@jupyter-widgets/base",
            "_view_module_version": "1.2.0",
            "_view_name": "StyleView",
            "bar_color": null,
            "description_width": "initial"
          }
        },
        "22b08431a2864017b31fea9c88301d04": {
          "model_module": "@jupyter-widgets/base",
          "model_name": "LayoutModel",
          "state": {
            "_model_module": "@jupyter-widgets/base",
            "_model_module_version": "1.2.0",
            "_model_name": "LayoutModel",
            "_view_count": null,
            "_view_module": "@jupyter-widgets/base",
            "_view_module_version": "1.2.0",
            "_view_name": "LayoutView",
            "align_content": null,
            "align_items": null,
            "align_self": null,
            "border": null,
            "bottom": null,
            "display": null,
            "flex": null,
            "flex_flow": null,
            "grid_area": null,
            "grid_auto_columns": null,
            "grid_auto_flow": null,
            "grid_auto_rows": null,
            "grid_column": null,
            "grid_gap": null,
            "grid_row": null,
            "grid_template_areas": null,
            "grid_template_columns": null,
            "grid_template_rows": null,
            "height": null,
            "justify_content": null,
            "justify_items": null,
            "left": null,
            "margin": null,
            "max_height": null,
            "max_width": null,
            "min_height": null,
            "min_width": null,
            "object_fit": null,
            "object_position": null,
            "order": null,
            "overflow": null,
            "overflow_x": null,
            "overflow_y": null,
            "padding": null,
            "right": null,
            "top": null,
            "visibility": null,
            "width": null
          }
        },
        "afe611c1d1fa475ab707f9ce348d44a4": {
          "model_module": "@jupyter-widgets/controls",
          "model_name": "DescriptionStyleModel",
          "state": {
            "_model_module": "@jupyter-widgets/controls",
            "_model_module_version": "1.5.0",
            "_model_name": "DescriptionStyleModel",
            "_view_count": null,
            "_view_module": "@jupyter-widgets/base",
            "_view_module_version": "1.2.0",
            "_view_name": "StyleView",
            "description_width": ""
          }
        },
        "228fd027756843c9873b4609d5146bbd": {
          "model_module": "@jupyter-widgets/controls",
          "model_name": "HBoxModel",
          "state": {
            "_dom_classes": [],
            "_model_module": "@jupyter-widgets/controls",
            "_model_module_version": "1.5.0",
            "_model_name": "HBoxModel",
            "_view_count": null,
            "_view_module": "@jupyter-widgets/controls",
            "_view_module_version": "1.5.0",
            "_view_name": "HBoxView",
            "box_style": "",
            "children": [
              "IPY_MODEL_7abbbdd73b5844d79616abb45f7cae20",
              "IPY_MODEL_49d4efe40be5438bad3e47d8874a8d83"
            ],
            "layout": "IPY_MODEL_a369c6c17f6f46c380810386669efaa3"
          }
        },
        "7abbbdd73b5844d79616abb45f7cae20": {
          "model_module": "@jupyter-widgets/controls",
          "model_name": "FloatProgressModel",
          "state": {
            "_dom_classes": [],
            "_model_module": "@jupyter-widgets/controls",
            "_model_module_version": "1.5.0",
            "_model_name": "FloatProgressModel",
            "_view_count": null,
            "_view_module": "@jupyter-widgets/controls",
            "_view_module_version": "1.5.0",
            "_view_name": "ProgressView",
            "bar_style": "info",
            "description": "",
            "description_tooltip": null,
            "layout": "IPY_MODEL_4a1c9003e8b146fc983a227f45d7d433",
            "max": 1,
            "min": 0,
            "orientation": "horizontal",
            "style": "IPY_MODEL_ff12cd4185e349bdb4f1fa9848859f15",
            "value": 1
          }
        },
        "49d4efe40be5438bad3e47d8874a8d83": {
          "model_module": "@jupyter-widgets/controls",
          "model_name": "HTMLModel",
          "state": {
            "_dom_classes": [],
            "_model_module": "@jupyter-widgets/controls",
            "_model_module_version": "1.5.0",
            "_model_name": "HTMLModel",
            "_view_count": null,
            "_view_module": "@jupyter-widgets/controls",
            "_view_module_version": "1.5.0",
            "_view_name": "HTMLView",
            "description": "",
            "description_tooltip": null,
            "layout": "IPY_MODEL_8e2c5d5ad9e74488aea021e6d2b0496a",
            "placeholder": "​",
            "style": "IPY_MODEL_a918ee2472674c1db5a62906127d7823",
            "value": " 9815/0 [00:01&lt;00:00, 5331.13 examples/s]"
          }
        },
        "a369c6c17f6f46c380810386669efaa3": {
          "model_module": "@jupyter-widgets/base",
          "model_name": "LayoutModel",
          "state": {
            "_model_module": "@jupyter-widgets/base",
            "_model_module_version": "1.2.0",
            "_model_name": "LayoutModel",
            "_view_count": null,
            "_view_module": "@jupyter-widgets/base",
            "_view_module_version": "1.2.0",
            "_view_name": "LayoutView",
            "align_content": null,
            "align_items": null,
            "align_self": null,
            "border": null,
            "bottom": null,
            "display": null,
            "flex": null,
            "flex_flow": null,
            "grid_area": null,
            "grid_auto_columns": null,
            "grid_auto_flow": null,
            "grid_auto_rows": null,
            "grid_column": null,
            "grid_gap": null,
            "grid_row": null,
            "grid_template_areas": null,
            "grid_template_columns": null,
            "grid_template_rows": null,
            "height": null,
            "justify_content": null,
            "justify_items": null,
            "left": null,
            "margin": null,
            "max_height": null,
            "max_width": null,
            "min_height": null,
            "min_width": null,
            "object_fit": null,
            "object_position": null,
            "order": null,
            "overflow": null,
            "overflow_x": null,
            "overflow_y": null,
            "padding": null,
            "right": null,
            "top": null,
            "visibility": null,
            "width": null
          }
        },
        "4a1c9003e8b146fc983a227f45d7d433": {
          "model_module": "@jupyter-widgets/base",
          "model_name": "LayoutModel",
          "state": {
            "_model_module": "@jupyter-widgets/base",
            "_model_module_version": "1.2.0",
            "_model_name": "LayoutModel",
            "_view_count": null,
            "_view_module": "@jupyter-widgets/base",
            "_view_module_version": "1.2.0",
            "_view_name": "LayoutView",
            "align_content": null,
            "align_items": null,
            "align_self": null,
            "border": null,
            "bottom": null,
            "display": null,
            "flex": null,
            "flex_flow": null,
            "grid_area": null,
            "grid_auto_columns": null,
            "grid_auto_flow": null,
            "grid_auto_rows": null,
            "grid_column": null,
            "grid_gap": null,
            "grid_row": null,
            "grid_template_areas": null,
            "grid_template_columns": null,
            "grid_template_rows": null,
            "height": null,
            "justify_content": null,
            "justify_items": null,
            "left": null,
            "margin": null,
            "max_height": null,
            "max_width": null,
            "min_height": null,
            "min_width": null,
            "object_fit": null,
            "object_position": null,
            "order": null,
            "overflow": null,
            "overflow_x": null,
            "overflow_y": null,
            "padding": null,
            "right": null,
            "top": null,
            "visibility": null,
            "width": null
          }
        },
        "ff12cd4185e349bdb4f1fa9848859f15": {
          "model_module": "@jupyter-widgets/controls",
          "model_name": "ProgressStyleModel",
          "state": {
            "_model_module": "@jupyter-widgets/controls",
            "_model_module_version": "1.5.0",
            "_model_name": "ProgressStyleModel",
            "_view_count": null,
            "_view_module": "@jupyter-widgets/base",
            "_view_module_version": "1.2.0",
            "_view_name": "StyleView",
            "bar_color": null,
            "description_width": "initial"
          }
        },
        "8e2c5d5ad9e74488aea021e6d2b0496a": {
          "model_module": "@jupyter-widgets/base",
          "model_name": "LayoutModel",
          "state": {
            "_model_module": "@jupyter-widgets/base",
            "_model_module_version": "1.2.0",
            "_model_name": "LayoutModel",
            "_view_count": null,
            "_view_module": "@jupyter-widgets/base",
            "_view_module_version": "1.2.0",
            "_view_name": "LayoutView",
            "align_content": null,
            "align_items": null,
            "align_self": null,
            "border": null,
            "bottom": null,
            "display": null,
            "flex": null,
            "flex_flow": null,
            "grid_area": null,
            "grid_auto_columns": null,
            "grid_auto_flow": null,
            "grid_auto_rows": null,
            "grid_column": null,
            "grid_gap": null,
            "grid_row": null,
            "grid_template_areas": null,
            "grid_template_columns": null,
            "grid_template_rows": null,
            "height": null,
            "justify_content": null,
            "justify_items": null,
            "left": null,
            "margin": null,
            "max_height": null,
            "max_width": null,
            "min_height": null,
            "min_width": null,
            "object_fit": null,
            "object_position": null,
            "order": null,
            "overflow": null,
            "overflow_x": null,
            "overflow_y": null,
            "padding": null,
            "right": null,
            "top": null,
            "visibility": null,
            "width": null
          }
        },
        "a918ee2472674c1db5a62906127d7823": {
          "model_module": "@jupyter-widgets/controls",
          "model_name": "DescriptionStyleModel",
          "state": {
            "_model_module": "@jupyter-widgets/controls",
            "_model_module_version": "1.5.0",
            "_model_name": "DescriptionStyleModel",
            "_view_count": null,
            "_view_module": "@jupyter-widgets/base",
            "_view_module_version": "1.2.0",
            "_view_name": "StyleView",
            "description_width": ""
          }
        },
        "cdf1fd7e933244e6a03789193bee3efd": {
          "model_module": "@jupyter-widgets/controls",
          "model_name": "HBoxModel",
          "state": {
            "_dom_classes": [],
            "_model_module": "@jupyter-widgets/controls",
            "_model_module_version": "1.5.0",
            "_model_name": "HBoxModel",
            "_view_count": null,
            "_view_module": "@jupyter-widgets/controls",
            "_view_module_version": "1.5.0",
            "_view_name": "HBoxView",
            "box_style": "",
            "children": [
              "IPY_MODEL_3ce80eee30bf4574b27ffa31e4bd3f8f",
              "IPY_MODEL_54a2723d4e2e47fab18c9ce81723179a"
            ],
            "layout": "IPY_MODEL_60ffb8f06f5d400cb24722c5e78c41bf"
          }
        },
        "3ce80eee30bf4574b27ffa31e4bd3f8f": {
          "model_module": "@jupyter-widgets/controls",
          "model_name": "FloatProgressModel",
          "state": {
            "_dom_classes": [],
            "_model_module": "@jupyter-widgets/controls",
            "_model_module_version": "1.5.0",
            "_model_name": "FloatProgressModel",
            "_view_count": null,
            "_view_module": "@jupyter-widgets/controls",
            "_view_module_version": "1.5.0",
            "_view_name": "ProgressView",
            "bar_style": "danger",
            "description": "  0%",
            "description_tooltip": null,
            "layout": "IPY_MODEL_1c97234ec1534c40b5e05cae441825df",
            "max": 9815,
            "min": 0,
            "orientation": "horizontal",
            "style": "IPY_MODEL_08d457f10b824d3ab84b2b55f1958f7f",
            "value": 0
          }
        },
        "54a2723d4e2e47fab18c9ce81723179a": {
          "model_module": "@jupyter-widgets/controls",
          "model_name": "HTMLModel",
          "state": {
            "_dom_classes": [],
            "_model_module": "@jupyter-widgets/controls",
            "_model_module_version": "1.5.0",
            "_model_name": "HTMLModel",
            "_view_count": null,
            "_view_module": "@jupyter-widgets/controls",
            "_view_module_version": "1.5.0",
            "_view_name": "HTMLView",
            "description": "",
            "description_tooltip": null,
            "layout": "IPY_MODEL_0c0644cd8da74891b571de98271f19f9",
            "placeholder": "​",
            "style": "IPY_MODEL_9eee296a3e35494a8d2f05b8ddfc7200",
            "value": " 0/9815 [00:00&lt;?, ? examples/s]"
          }
        },
        "60ffb8f06f5d400cb24722c5e78c41bf": {
          "model_module": "@jupyter-widgets/base",
          "model_name": "LayoutModel",
          "state": {
            "_model_module": "@jupyter-widgets/base",
            "_model_module_version": "1.2.0",
            "_model_name": "LayoutModel",
            "_view_count": null,
            "_view_module": "@jupyter-widgets/base",
            "_view_module_version": "1.2.0",
            "_view_name": "LayoutView",
            "align_content": null,
            "align_items": null,
            "align_self": null,
            "border": null,
            "bottom": null,
            "display": null,
            "flex": null,
            "flex_flow": null,
            "grid_area": null,
            "grid_auto_columns": null,
            "grid_auto_flow": null,
            "grid_auto_rows": null,
            "grid_column": null,
            "grid_gap": null,
            "grid_row": null,
            "grid_template_areas": null,
            "grid_template_columns": null,
            "grid_template_rows": null,
            "height": null,
            "justify_content": null,
            "justify_items": null,
            "left": null,
            "margin": null,
            "max_height": null,
            "max_width": null,
            "min_height": null,
            "min_width": null,
            "object_fit": null,
            "object_position": null,
            "order": null,
            "overflow": null,
            "overflow_x": null,
            "overflow_y": null,
            "padding": null,
            "right": null,
            "top": null,
            "visibility": null,
            "width": null
          }
        },
        "1c97234ec1534c40b5e05cae441825df": {
          "model_module": "@jupyter-widgets/base",
          "model_name": "LayoutModel",
          "state": {
            "_model_module": "@jupyter-widgets/base",
            "_model_module_version": "1.2.0",
            "_model_name": "LayoutModel",
            "_view_count": null,
            "_view_module": "@jupyter-widgets/base",
            "_view_module_version": "1.2.0",
            "_view_name": "LayoutView",
            "align_content": null,
            "align_items": null,
            "align_self": null,
            "border": null,
            "bottom": null,
            "display": null,
            "flex": null,
            "flex_flow": null,
            "grid_area": null,
            "grid_auto_columns": null,
            "grid_auto_flow": null,
            "grid_auto_rows": null,
            "grid_column": null,
            "grid_gap": null,
            "grid_row": null,
            "grid_template_areas": null,
            "grid_template_columns": null,
            "grid_template_rows": null,
            "height": null,
            "justify_content": null,
            "justify_items": null,
            "left": null,
            "margin": null,
            "max_height": null,
            "max_width": null,
            "min_height": null,
            "min_width": null,
            "object_fit": null,
            "object_position": null,
            "order": null,
            "overflow": null,
            "overflow_x": null,
            "overflow_y": null,
            "padding": null,
            "right": null,
            "top": null,
            "visibility": null,
            "width": null
          }
        },
        "08d457f10b824d3ab84b2b55f1958f7f": {
          "model_module": "@jupyter-widgets/controls",
          "model_name": "ProgressStyleModel",
          "state": {
            "_model_module": "@jupyter-widgets/controls",
            "_model_module_version": "1.5.0",
            "_model_name": "ProgressStyleModel",
            "_view_count": null,
            "_view_module": "@jupyter-widgets/base",
            "_view_module_version": "1.2.0",
            "_view_name": "StyleView",
            "bar_color": null,
            "description_width": "initial"
          }
        },
        "0c0644cd8da74891b571de98271f19f9": {
          "model_module": "@jupyter-widgets/base",
          "model_name": "LayoutModel",
          "state": {
            "_model_module": "@jupyter-widgets/base",
            "_model_module_version": "1.2.0",
            "_model_name": "LayoutModel",
            "_view_count": null,
            "_view_module": "@jupyter-widgets/base",
            "_view_module_version": "1.2.0",
            "_view_name": "LayoutView",
            "align_content": null,
            "align_items": null,
            "align_self": null,
            "border": null,
            "bottom": null,
            "display": null,
            "flex": null,
            "flex_flow": null,
            "grid_area": null,
            "grid_auto_columns": null,
            "grid_auto_flow": null,
            "grid_auto_rows": null,
            "grid_column": null,
            "grid_gap": null,
            "grid_row": null,
            "grid_template_areas": null,
            "grid_template_columns": null,
            "grid_template_rows": null,
            "height": null,
            "justify_content": null,
            "justify_items": null,
            "left": null,
            "margin": null,
            "max_height": null,
            "max_width": null,
            "min_height": null,
            "min_width": null,
            "object_fit": null,
            "object_position": null,
            "order": null,
            "overflow": null,
            "overflow_x": null,
            "overflow_y": null,
            "padding": null,
            "right": null,
            "top": null,
            "visibility": null,
            "width": null
          }
        },
        "9eee296a3e35494a8d2f05b8ddfc7200": {
          "model_module": "@jupyter-widgets/controls",
          "model_name": "DescriptionStyleModel",
          "state": {
            "_model_module": "@jupyter-widgets/controls",
            "_model_module_version": "1.5.0",
            "_model_name": "DescriptionStyleModel",
            "_view_count": null,
            "_view_module": "@jupyter-widgets/base",
            "_view_module_version": "1.2.0",
            "_view_name": "StyleView",
            "description_width": ""
          }
        },
        "bed4f7fc1cba4a539510ce8fde4cf978": {
          "model_module": "@jupyter-widgets/controls",
          "model_name": "HBoxModel",
          "state": {
            "_dom_classes": [],
            "_model_module": "@jupyter-widgets/controls",
            "_model_module_version": "1.5.0",
            "_model_name": "HBoxModel",
            "_view_count": null,
            "_view_module": "@jupyter-widgets/controls",
            "_view_module_version": "1.5.0",
            "_view_name": "HBoxView",
            "box_style": "",
            "children": [
              "IPY_MODEL_13fdc20abb9f4e5fad864426f803ef55",
              "IPY_MODEL_05f1f2bc7ab140e6b4c0c5160bee2904"
            ],
            "layout": "IPY_MODEL_e618dbc28268491b9931a54243deb2da"
          }
        },
        "13fdc20abb9f4e5fad864426f803ef55": {
          "model_module": "@jupyter-widgets/controls",
          "model_name": "FloatProgressModel",
          "state": {
            "_dom_classes": [],
            "_model_module": "@jupyter-widgets/controls",
            "_model_module_version": "1.5.0",
            "_model_name": "FloatProgressModel",
            "_view_count": null,
            "_view_module": "@jupyter-widgets/controls",
            "_view_module_version": "1.5.0",
            "_view_name": "ProgressView",
            "bar_style": "info",
            "description": "",
            "description_tooltip": null,
            "layout": "IPY_MODEL_e2a207d8befd4f54be1315c360e38099",
            "max": 1,
            "min": 0,
            "orientation": "horizontal",
            "style": "IPY_MODEL_a1b6101fb7024444947351826c76c39c",
            "value": 1
          }
        },
        "05f1f2bc7ab140e6b4c0c5160bee2904": {
          "model_module": "@jupyter-widgets/controls",
          "model_name": "HTMLModel",
          "state": {
            "_dom_classes": [],
            "_model_module": "@jupyter-widgets/controls",
            "_model_module_version": "1.5.0",
            "_model_name": "HTMLModel",
            "_view_count": null,
            "_view_module": "@jupyter-widgets/controls",
            "_view_module_version": "1.5.0",
            "_view_name": "HTMLView",
            "description": "",
            "description_tooltip": null,
            "layout": "IPY_MODEL_af79127a172c4f299a0942f88ba85b28",
            "placeholder": "​",
            "style": "IPY_MODEL_dbfb996a31b94b6d9e64667a775aa70d",
            "value": " 9832/0 [00:01&lt;00:00, 5072.12 examples/s]"
          }
        },
        "e618dbc28268491b9931a54243deb2da": {
          "model_module": "@jupyter-widgets/base",
          "model_name": "LayoutModel",
          "state": {
            "_model_module": "@jupyter-widgets/base",
            "_model_module_version": "1.2.0",
            "_model_name": "LayoutModel",
            "_view_count": null,
            "_view_module": "@jupyter-widgets/base",
            "_view_module_version": "1.2.0",
            "_view_name": "LayoutView",
            "align_content": null,
            "align_items": null,
            "align_self": null,
            "border": null,
            "bottom": null,
            "display": null,
            "flex": null,
            "flex_flow": null,
            "grid_area": null,
            "grid_auto_columns": null,
            "grid_auto_flow": null,
            "grid_auto_rows": null,
            "grid_column": null,
            "grid_gap": null,
            "grid_row": null,
            "grid_template_areas": null,
            "grid_template_columns": null,
            "grid_template_rows": null,
            "height": null,
            "justify_content": null,
            "justify_items": null,
            "left": null,
            "margin": null,
            "max_height": null,
            "max_width": null,
            "min_height": null,
            "min_width": null,
            "object_fit": null,
            "object_position": null,
            "order": null,
            "overflow": null,
            "overflow_x": null,
            "overflow_y": null,
            "padding": null,
            "right": null,
            "top": null,
            "visibility": null,
            "width": null
          }
        },
        "e2a207d8befd4f54be1315c360e38099": {
          "model_module": "@jupyter-widgets/base",
          "model_name": "LayoutModel",
          "state": {
            "_model_module": "@jupyter-widgets/base",
            "_model_module_version": "1.2.0",
            "_model_name": "LayoutModel",
            "_view_count": null,
            "_view_module": "@jupyter-widgets/base",
            "_view_module_version": "1.2.0",
            "_view_name": "LayoutView",
            "align_content": null,
            "align_items": null,
            "align_self": null,
            "border": null,
            "bottom": null,
            "display": null,
            "flex": null,
            "flex_flow": null,
            "grid_area": null,
            "grid_auto_columns": null,
            "grid_auto_flow": null,
            "grid_auto_rows": null,
            "grid_column": null,
            "grid_gap": null,
            "grid_row": null,
            "grid_template_areas": null,
            "grid_template_columns": null,
            "grid_template_rows": null,
            "height": null,
            "justify_content": null,
            "justify_items": null,
            "left": null,
            "margin": null,
            "max_height": null,
            "max_width": null,
            "min_height": null,
            "min_width": null,
            "object_fit": null,
            "object_position": null,
            "order": null,
            "overflow": null,
            "overflow_x": null,
            "overflow_y": null,
            "padding": null,
            "right": null,
            "top": null,
            "visibility": null,
            "width": null
          }
        },
        "a1b6101fb7024444947351826c76c39c": {
          "model_module": "@jupyter-widgets/controls",
          "model_name": "ProgressStyleModel",
          "state": {
            "_model_module": "@jupyter-widgets/controls",
            "_model_module_version": "1.5.0",
            "_model_name": "ProgressStyleModel",
            "_view_count": null,
            "_view_module": "@jupyter-widgets/base",
            "_view_module_version": "1.2.0",
            "_view_name": "StyleView",
            "bar_color": null,
            "description_width": "initial"
          }
        },
        "af79127a172c4f299a0942f88ba85b28": {
          "model_module": "@jupyter-widgets/base",
          "model_name": "LayoutModel",
          "state": {
            "_model_module": "@jupyter-widgets/base",
            "_model_module_version": "1.2.0",
            "_model_name": "LayoutModel",
            "_view_count": null,
            "_view_module": "@jupyter-widgets/base",
            "_view_module_version": "1.2.0",
            "_view_name": "LayoutView",
            "align_content": null,
            "align_items": null,
            "align_self": null,
            "border": null,
            "bottom": null,
            "display": null,
            "flex": null,
            "flex_flow": null,
            "grid_area": null,
            "grid_auto_columns": null,
            "grid_auto_flow": null,
            "grid_auto_rows": null,
            "grid_column": null,
            "grid_gap": null,
            "grid_row": null,
            "grid_template_areas": null,
            "grid_template_columns": null,
            "grid_template_rows": null,
            "height": null,
            "justify_content": null,
            "justify_items": null,
            "left": null,
            "margin": null,
            "max_height": null,
            "max_width": null,
            "min_height": null,
            "min_width": null,
            "object_fit": null,
            "object_position": null,
            "order": null,
            "overflow": null,
            "overflow_x": null,
            "overflow_y": null,
            "padding": null,
            "right": null,
            "top": null,
            "visibility": null,
            "width": null
          }
        },
        "dbfb996a31b94b6d9e64667a775aa70d": {
          "model_module": "@jupyter-widgets/controls",
          "model_name": "DescriptionStyleModel",
          "state": {
            "_model_module": "@jupyter-widgets/controls",
            "_model_module_version": "1.5.0",
            "_model_name": "DescriptionStyleModel",
            "_view_count": null,
            "_view_module": "@jupyter-widgets/base",
            "_view_module_version": "1.2.0",
            "_view_name": "StyleView",
            "description_width": ""
          }
        },
        "0326cdf9f1614063b1b8387bc1670b5a": {
          "model_module": "@jupyter-widgets/controls",
          "model_name": "HBoxModel",
          "state": {
            "_dom_classes": [],
            "_model_module": "@jupyter-widgets/controls",
            "_model_module_version": "1.5.0",
            "_model_name": "HBoxModel",
            "_view_count": null,
            "_view_module": "@jupyter-widgets/controls",
            "_view_module_version": "1.5.0",
            "_view_name": "HBoxView",
            "box_style": "",
            "children": [
              "IPY_MODEL_61f55a5c066a441381b6407d492992d3",
              "IPY_MODEL_c6b9c444e3604f8f9095f8928eec8e00"
            ],
            "layout": "IPY_MODEL_e660ebf4e0ba455ebc5a5f8d7000038e"
          }
        },
        "61f55a5c066a441381b6407d492992d3": {
          "model_module": "@jupyter-widgets/controls",
          "model_name": "FloatProgressModel",
          "state": {
            "_dom_classes": [],
            "_model_module": "@jupyter-widgets/controls",
            "_model_module_version": "1.5.0",
            "_model_name": "FloatProgressModel",
            "_view_count": null,
            "_view_module": "@jupyter-widgets/controls",
            "_view_module_version": "1.5.0",
            "_view_name": "ProgressView",
            "bar_style": "danger",
            "description": "  0%",
            "description_tooltip": null,
            "layout": "IPY_MODEL_3a2c01285e11411ebbce3f18d45edf80",
            "max": 9832,
            "min": 0,
            "orientation": "horizontal",
            "style": "IPY_MODEL_26a2b5aab3fa406c8e6eb702c6b95656",
            "value": 0
          }
        },
        "c6b9c444e3604f8f9095f8928eec8e00": {
          "model_module": "@jupyter-widgets/controls",
          "model_name": "HTMLModel",
          "state": {
            "_dom_classes": [],
            "_model_module": "@jupyter-widgets/controls",
            "_model_module_version": "1.5.0",
            "_model_name": "HTMLModel",
            "_view_count": null,
            "_view_module": "@jupyter-widgets/controls",
            "_view_module_version": "1.5.0",
            "_view_name": "HTMLView",
            "description": "",
            "description_tooltip": null,
            "layout": "IPY_MODEL_a10483a2d98c4a078264003ad0ae054f",
            "placeholder": "​",
            "style": "IPY_MODEL_5fbd47eaaeef41d0a8df55f0194c11dd",
            "value": " 0/9832 [00:05&lt;?, ? examples/s]"
          }
        },
        "e660ebf4e0ba455ebc5a5f8d7000038e": {
          "model_module": "@jupyter-widgets/base",
          "model_name": "LayoutModel",
          "state": {
            "_model_module": "@jupyter-widgets/base",
            "_model_module_version": "1.2.0",
            "_model_name": "LayoutModel",
            "_view_count": null,
            "_view_module": "@jupyter-widgets/base",
            "_view_module_version": "1.2.0",
            "_view_name": "LayoutView",
            "align_content": null,
            "align_items": null,
            "align_self": null,
            "border": null,
            "bottom": null,
            "display": null,
            "flex": null,
            "flex_flow": null,
            "grid_area": null,
            "grid_auto_columns": null,
            "grid_auto_flow": null,
            "grid_auto_rows": null,
            "grid_column": null,
            "grid_gap": null,
            "grid_row": null,
            "grid_template_areas": null,
            "grid_template_columns": null,
            "grid_template_rows": null,
            "height": null,
            "justify_content": null,
            "justify_items": null,
            "left": null,
            "margin": null,
            "max_height": null,
            "max_width": null,
            "min_height": null,
            "min_width": null,
            "object_fit": null,
            "object_position": null,
            "order": null,
            "overflow": null,
            "overflow_x": null,
            "overflow_y": null,
            "padding": null,
            "right": null,
            "top": null,
            "visibility": null,
            "width": null
          }
        },
        "3a2c01285e11411ebbce3f18d45edf80": {
          "model_module": "@jupyter-widgets/base",
          "model_name": "LayoutModel",
          "state": {
            "_model_module": "@jupyter-widgets/base",
            "_model_module_version": "1.2.0",
            "_model_name": "LayoutModel",
            "_view_count": null,
            "_view_module": "@jupyter-widgets/base",
            "_view_module_version": "1.2.0",
            "_view_name": "LayoutView",
            "align_content": null,
            "align_items": null,
            "align_self": null,
            "border": null,
            "bottom": null,
            "display": null,
            "flex": null,
            "flex_flow": null,
            "grid_area": null,
            "grid_auto_columns": null,
            "grid_auto_flow": null,
            "grid_auto_rows": null,
            "grid_column": null,
            "grid_gap": null,
            "grid_row": null,
            "grid_template_areas": null,
            "grid_template_columns": null,
            "grid_template_rows": null,
            "height": null,
            "justify_content": null,
            "justify_items": null,
            "left": null,
            "margin": null,
            "max_height": null,
            "max_width": null,
            "min_height": null,
            "min_width": null,
            "object_fit": null,
            "object_position": null,
            "order": null,
            "overflow": null,
            "overflow_x": null,
            "overflow_y": null,
            "padding": null,
            "right": null,
            "top": null,
            "visibility": null,
            "width": null
          }
        },
        "26a2b5aab3fa406c8e6eb702c6b95656": {
          "model_module": "@jupyter-widgets/controls",
          "model_name": "ProgressStyleModel",
          "state": {
            "_model_module": "@jupyter-widgets/controls",
            "_model_module_version": "1.5.0",
            "_model_name": "ProgressStyleModel",
            "_view_count": null,
            "_view_module": "@jupyter-widgets/base",
            "_view_module_version": "1.2.0",
            "_view_name": "StyleView",
            "bar_color": null,
            "description_width": "initial"
          }
        },
        "a10483a2d98c4a078264003ad0ae054f": {
          "model_module": "@jupyter-widgets/base",
          "model_name": "LayoutModel",
          "state": {
            "_model_module": "@jupyter-widgets/base",
            "_model_module_version": "1.2.0",
            "_model_name": "LayoutModel",
            "_view_count": null,
            "_view_module": "@jupyter-widgets/base",
            "_view_module_version": "1.2.0",
            "_view_name": "LayoutView",
            "align_content": null,
            "align_items": null,
            "align_self": null,
            "border": null,
            "bottom": null,
            "display": null,
            "flex": null,
            "flex_flow": null,
            "grid_area": null,
            "grid_auto_columns": null,
            "grid_auto_flow": null,
            "grid_auto_rows": null,
            "grid_column": null,
            "grid_gap": null,
            "grid_row": null,
            "grid_template_areas": null,
            "grid_template_columns": null,
            "grid_template_rows": null,
            "height": null,
            "justify_content": null,
            "justify_items": null,
            "left": null,
            "margin": null,
            "max_height": null,
            "max_width": null,
            "min_height": null,
            "min_width": null,
            "object_fit": null,
            "object_position": null,
            "order": null,
            "overflow": null,
            "overflow_x": null,
            "overflow_y": null,
            "padding": null,
            "right": null,
            "top": null,
            "visibility": null,
            "width": null
          }
        },
        "5fbd47eaaeef41d0a8df55f0194c11dd": {
          "model_module": "@jupyter-widgets/controls",
          "model_name": "DescriptionStyleModel",
          "state": {
            "_model_module": "@jupyter-widgets/controls",
            "_model_module_version": "1.5.0",
            "_model_name": "DescriptionStyleModel",
            "_view_count": null,
            "_view_module": "@jupyter-widgets/base",
            "_view_module_version": "1.2.0",
            "_view_name": "StyleView",
            "description_width": ""
          }
        },
        "6b390ea4f51245498ded8264057830f6": {
          "model_module": "@jupyter-widgets/controls",
          "model_name": "HBoxModel",
          "state": {
            "_dom_classes": [],
            "_model_module": "@jupyter-widgets/controls",
            "_model_module_version": "1.5.0",
            "_model_name": "HBoxModel",
            "_view_count": null,
            "_view_module": "@jupyter-widgets/controls",
            "_view_module_version": "1.5.0",
            "_view_name": "HBoxView",
            "box_style": "",
            "children": [
              "IPY_MODEL_97508676b6a34768b5c0776875b07d03",
              "IPY_MODEL_6c54d5afe21d4694b79c215a149f3498"
            ],
            "layout": "IPY_MODEL_b29e72778cd74d1dbf10c350cdeb9354"
          }
        },
        "97508676b6a34768b5c0776875b07d03": {
          "model_module": "@jupyter-widgets/controls",
          "model_name": "FloatProgressModel",
          "state": {
            "_dom_classes": [],
            "_model_module": "@jupyter-widgets/controls",
            "_model_module_version": "1.5.0",
            "_model_name": "FloatProgressModel",
            "_view_count": null,
            "_view_module": "@jupyter-widgets/controls",
            "_view_module_version": "1.5.0",
            "_view_name": "ProgressView",
            "bar_style": "success",
            "description": "Dl Completed...: 100%",
            "description_tooltip": null,
            "layout": "IPY_MODEL_fe0a34da4da84c249d6fc395c4e77f01",
            "max": 1,
            "min": 0,
            "orientation": "horizontal",
            "style": "IPY_MODEL_4b1f3c53828e47e5a0bbc30d0202ac4c",
            "value": 1
          }
        },
        "6c54d5afe21d4694b79c215a149f3498": {
          "model_module": "@jupyter-widgets/controls",
          "model_name": "HTMLModel",
          "state": {
            "_dom_classes": [],
            "_model_module": "@jupyter-widgets/controls",
            "_model_module_version": "1.5.0",
            "_model_name": "HTMLModel",
            "_view_count": null,
            "_view_module": "@jupyter-widgets/controls",
            "_view_module_version": "1.5.0",
            "_view_name": "HTMLView",
            "description": "",
            "description_tooltip": null,
            "layout": "IPY_MODEL_ffe3b200d89c4262b5de166574d72696",
            "placeholder": "​",
            "style": "IPY_MODEL_671562846f1b4638a2e09fa2b2957ee9",
            "value": " 1/1 [00:02&lt;00:00,  2.68s/ url]"
          }
        },
        "b29e72778cd74d1dbf10c350cdeb9354": {
          "model_module": "@jupyter-widgets/base",
          "model_name": "LayoutModel",
          "state": {
            "_model_module": "@jupyter-widgets/base",
            "_model_module_version": "1.2.0",
            "_model_name": "LayoutModel",
            "_view_count": null,
            "_view_module": "@jupyter-widgets/base",
            "_view_module_version": "1.2.0",
            "_view_name": "LayoutView",
            "align_content": null,
            "align_items": null,
            "align_self": null,
            "border": null,
            "bottom": null,
            "display": null,
            "flex": null,
            "flex_flow": null,
            "grid_area": null,
            "grid_auto_columns": null,
            "grid_auto_flow": null,
            "grid_auto_rows": null,
            "grid_column": null,
            "grid_gap": null,
            "grid_row": null,
            "grid_template_areas": null,
            "grid_template_columns": null,
            "grid_template_rows": null,
            "height": null,
            "justify_content": null,
            "justify_items": null,
            "left": null,
            "margin": null,
            "max_height": null,
            "max_width": null,
            "min_height": null,
            "min_width": null,
            "object_fit": null,
            "object_position": null,
            "order": null,
            "overflow": null,
            "overflow_x": null,
            "overflow_y": null,
            "padding": null,
            "right": null,
            "top": null,
            "visibility": null,
            "width": null
          }
        },
        "fe0a34da4da84c249d6fc395c4e77f01": {
          "model_module": "@jupyter-widgets/base",
          "model_name": "LayoutModel",
          "state": {
            "_model_module": "@jupyter-widgets/base",
            "_model_module_version": "1.2.0",
            "_model_name": "LayoutModel",
            "_view_count": null,
            "_view_module": "@jupyter-widgets/base",
            "_view_module_version": "1.2.0",
            "_view_name": "LayoutView",
            "align_content": null,
            "align_items": null,
            "align_self": null,
            "border": null,
            "bottom": null,
            "display": null,
            "flex": null,
            "flex_flow": null,
            "grid_area": null,
            "grid_auto_columns": null,
            "grid_auto_flow": null,
            "grid_auto_rows": null,
            "grid_column": null,
            "grid_gap": null,
            "grid_row": null,
            "grid_template_areas": null,
            "grid_template_columns": null,
            "grid_template_rows": null,
            "height": null,
            "justify_content": null,
            "justify_items": null,
            "left": null,
            "margin": null,
            "max_height": null,
            "max_width": null,
            "min_height": null,
            "min_width": null,
            "object_fit": null,
            "object_position": null,
            "order": null,
            "overflow": null,
            "overflow_x": null,
            "overflow_y": null,
            "padding": null,
            "right": null,
            "top": null,
            "visibility": null,
            "width": null
          }
        },
        "4b1f3c53828e47e5a0bbc30d0202ac4c": {
          "model_module": "@jupyter-widgets/controls",
          "model_name": "ProgressStyleModel",
          "state": {
            "_model_module": "@jupyter-widgets/controls",
            "_model_module_version": "1.5.0",
            "_model_name": "ProgressStyleModel",
            "_view_count": null,
            "_view_module": "@jupyter-widgets/base",
            "_view_module_version": "1.2.0",
            "_view_name": "StyleView",
            "bar_color": null,
            "description_width": "initial"
          }
        },
        "ffe3b200d89c4262b5de166574d72696": {
          "model_module": "@jupyter-widgets/base",
          "model_name": "LayoutModel",
          "state": {
            "_model_module": "@jupyter-widgets/base",
            "_model_module_version": "1.2.0",
            "_model_name": "LayoutModel",
            "_view_count": null,
            "_view_module": "@jupyter-widgets/base",
            "_view_module_version": "1.2.0",
            "_view_name": "LayoutView",
            "align_content": null,
            "align_items": null,
            "align_self": null,
            "border": null,
            "bottom": null,
            "display": null,
            "flex": null,
            "flex_flow": null,
            "grid_area": null,
            "grid_auto_columns": null,
            "grid_auto_flow": null,
            "grid_auto_rows": null,
            "grid_column": null,
            "grid_gap": null,
            "grid_row": null,
            "grid_template_areas": null,
            "grid_template_columns": null,
            "grid_template_rows": null,
            "height": null,
            "justify_content": null,
            "justify_items": null,
            "left": null,
            "margin": null,
            "max_height": null,
            "max_width": null,
            "min_height": null,
            "min_width": null,
            "object_fit": null,
            "object_position": null,
            "order": null,
            "overflow": null,
            "overflow_x": null,
            "overflow_y": null,
            "padding": null,
            "right": null,
            "top": null,
            "visibility": null,
            "width": null
          }
        },
        "671562846f1b4638a2e09fa2b2957ee9": {
          "model_module": "@jupyter-widgets/controls",
          "model_name": "DescriptionStyleModel",
          "state": {
            "_model_module": "@jupyter-widgets/controls",
            "_model_module_version": "1.5.0",
            "_model_name": "DescriptionStyleModel",
            "_view_count": null,
            "_view_module": "@jupyter-widgets/base",
            "_view_module_version": "1.2.0",
            "_view_name": "StyleView",
            "description_width": ""
          }
        },
        "52c6e4c4e8c94098b48a047e6d335bd6": {
          "model_module": "@jupyter-widgets/controls",
          "model_name": "HBoxModel",
          "state": {
            "_dom_classes": [],
            "_model_module": "@jupyter-widgets/controls",
            "_model_module_version": "1.5.0",
            "_model_name": "HBoxModel",
            "_view_count": null,
            "_view_module": "@jupyter-widgets/controls",
            "_view_module_version": "1.5.0",
            "_view_name": "HBoxView",
            "box_style": "",
            "children": [
              "IPY_MODEL_b787f21b8e9844909f83189d5b6b2288",
              "IPY_MODEL_c0e06352b555486e9a1b206432db799a"
            ],
            "layout": "IPY_MODEL_91345cf6edb040cc803e0956ba0ac7be"
          }
        },
        "b787f21b8e9844909f83189d5b6b2288": {
          "model_module": "@jupyter-widgets/controls",
          "model_name": "FloatProgressModel",
          "state": {
            "_dom_classes": [],
            "_model_module": "@jupyter-widgets/controls",
            "_model_module_version": "1.5.0",
            "_model_name": "FloatProgressModel",
            "_view_count": null,
            "_view_module": "@jupyter-widgets/controls",
            "_view_module_version": "1.5.0",
            "_view_name": "ProgressView",
            "bar_style": "success",
            "description": "Dl Size...: 100%",
            "description_tooltip": null,
            "layout": "IPY_MODEL_ccc79c61442b48f79f859fb0d52fbc86",
            "max": 1,
            "min": 0,
            "orientation": "horizontal",
            "style": "IPY_MODEL_01b50439de5d4d2e8e2ad2acd3f69909",
            "value": 1
          }
        },
        "c0e06352b555486e9a1b206432db799a": {
          "model_module": "@jupyter-widgets/controls",
          "model_name": "HTMLModel",
          "state": {
            "_dom_classes": [],
            "_model_module": "@jupyter-widgets/controls",
            "_model_module_version": "1.5.0",
            "_model_name": "HTMLModel",
            "_view_count": null,
            "_view_module": "@jupyter-widgets/controls",
            "_view_module_version": "1.5.0",
            "_view_name": "HTMLView",
            "description": "",
            "description_tooltip": null,
            "layout": "IPY_MODEL_1ff15829563b48bb994bb7a02a37a1b5",
            "placeholder": "​",
            "style": "IPY_MODEL_8f5441d6c30d4bbca78f3920e20e2a55",
            "value": " 17/17 [00:02&lt;00:00,  6.40 MiB/s]"
          }
        },
        "91345cf6edb040cc803e0956ba0ac7be": {
          "model_module": "@jupyter-widgets/base",
          "model_name": "LayoutModel",
          "state": {
            "_model_module": "@jupyter-widgets/base",
            "_model_module_version": "1.2.0",
            "_model_name": "LayoutModel",
            "_view_count": null,
            "_view_module": "@jupyter-widgets/base",
            "_view_module_version": "1.2.0",
            "_view_name": "LayoutView",
            "align_content": null,
            "align_items": null,
            "align_self": null,
            "border": null,
            "bottom": null,
            "display": null,
            "flex": null,
            "flex_flow": null,
            "grid_area": null,
            "grid_auto_columns": null,
            "grid_auto_flow": null,
            "grid_auto_rows": null,
            "grid_column": null,
            "grid_gap": null,
            "grid_row": null,
            "grid_template_areas": null,
            "grid_template_columns": null,
            "grid_template_rows": null,
            "height": null,
            "justify_content": null,
            "justify_items": null,
            "left": null,
            "margin": null,
            "max_height": null,
            "max_width": null,
            "min_height": null,
            "min_width": null,
            "object_fit": null,
            "object_position": null,
            "order": null,
            "overflow": null,
            "overflow_x": null,
            "overflow_y": null,
            "padding": null,
            "right": null,
            "top": null,
            "visibility": null,
            "width": null
          }
        },
        "ccc79c61442b48f79f859fb0d52fbc86": {
          "model_module": "@jupyter-widgets/base",
          "model_name": "LayoutModel",
          "state": {
            "_model_module": "@jupyter-widgets/base",
            "_model_module_version": "1.2.0",
            "_model_name": "LayoutModel",
            "_view_count": null,
            "_view_module": "@jupyter-widgets/base",
            "_view_module_version": "1.2.0",
            "_view_name": "LayoutView",
            "align_content": null,
            "align_items": null,
            "align_self": null,
            "border": null,
            "bottom": null,
            "display": null,
            "flex": null,
            "flex_flow": null,
            "grid_area": null,
            "grid_auto_columns": null,
            "grid_auto_flow": null,
            "grid_auto_rows": null,
            "grid_column": null,
            "grid_gap": null,
            "grid_row": null,
            "grid_template_areas": null,
            "grid_template_columns": null,
            "grid_template_rows": null,
            "height": null,
            "justify_content": null,
            "justify_items": null,
            "left": null,
            "margin": null,
            "max_height": null,
            "max_width": null,
            "min_height": null,
            "min_width": null,
            "object_fit": null,
            "object_position": null,
            "order": null,
            "overflow": null,
            "overflow_x": null,
            "overflow_y": null,
            "padding": null,
            "right": null,
            "top": null,
            "visibility": null,
            "width": null
          }
        },
        "01b50439de5d4d2e8e2ad2acd3f69909": {
          "model_module": "@jupyter-widgets/controls",
          "model_name": "ProgressStyleModel",
          "state": {
            "_model_module": "@jupyter-widgets/controls",
            "_model_module_version": "1.5.0",
            "_model_name": "ProgressStyleModel",
            "_view_count": null,
            "_view_module": "@jupyter-widgets/base",
            "_view_module_version": "1.2.0",
            "_view_name": "StyleView",
            "bar_color": null,
            "description_width": "initial"
          }
        },
        "1ff15829563b48bb994bb7a02a37a1b5": {
          "model_module": "@jupyter-widgets/base",
          "model_name": "LayoutModel",
          "state": {
            "_model_module": "@jupyter-widgets/base",
            "_model_module_version": "1.2.0",
            "_model_name": "LayoutModel",
            "_view_count": null,
            "_view_module": "@jupyter-widgets/base",
            "_view_module_version": "1.2.0",
            "_view_name": "LayoutView",
            "align_content": null,
            "align_items": null,
            "align_self": null,
            "border": null,
            "bottom": null,
            "display": null,
            "flex": null,
            "flex_flow": null,
            "grid_area": null,
            "grid_auto_columns": null,
            "grid_auto_flow": null,
            "grid_auto_rows": null,
            "grid_column": null,
            "grid_gap": null,
            "grid_row": null,
            "grid_template_areas": null,
            "grid_template_columns": null,
            "grid_template_rows": null,
            "height": null,
            "justify_content": null,
            "justify_items": null,
            "left": null,
            "margin": null,
            "max_height": null,
            "max_width": null,
            "min_height": null,
            "min_width": null,
            "object_fit": null,
            "object_position": null,
            "order": null,
            "overflow": null,
            "overflow_x": null,
            "overflow_y": null,
            "padding": null,
            "right": null,
            "top": null,
            "visibility": null,
            "width": null
          }
        },
        "8f5441d6c30d4bbca78f3920e20e2a55": {
          "model_module": "@jupyter-widgets/controls",
          "model_name": "DescriptionStyleModel",
          "state": {
            "_model_module": "@jupyter-widgets/controls",
            "_model_module_version": "1.5.0",
            "_model_name": "DescriptionStyleModel",
            "_view_count": null,
            "_view_module": "@jupyter-widgets/base",
            "_view_module_version": "1.2.0",
            "_view_name": "StyleView",
            "description_width": ""
          }
        },
        "f4ecd403268b4626bc84cf26fd167033": {
          "model_module": "@jupyter-widgets/controls",
          "model_name": "HBoxModel",
          "state": {
            "_dom_classes": [],
            "_model_module": "@jupyter-widgets/controls",
            "_model_module_version": "1.5.0",
            "_model_name": "HBoxModel",
            "_view_count": null,
            "_view_module": "@jupyter-widgets/controls",
            "_view_module_version": "1.5.0",
            "_view_name": "HBoxView",
            "box_style": "",
            "children": [
              "IPY_MODEL_5b758937574149d790776d0ed6c69f80",
              "IPY_MODEL_4051cf814ea44bdcb6610808466f5e45"
            ],
            "layout": "IPY_MODEL_2f8e4654a7e44a9e8a5b6bc3e3407cb1"
          }
        },
        "5b758937574149d790776d0ed6c69f80": {
          "model_module": "@jupyter-widgets/controls",
          "model_name": "FloatProgressModel",
          "state": {
            "_dom_classes": [],
            "_model_module": "@jupyter-widgets/controls",
            "_model_module_version": "1.5.0",
            "_model_name": "FloatProgressModel",
            "_view_count": null,
            "_view_module": "@jupyter-widgets/controls",
            "_view_module_version": "1.5.0",
            "_view_name": "ProgressView",
            "bar_style": "success",
            "description": "Extraction completed...: 100%",
            "description_tooltip": null,
            "layout": "IPY_MODEL_59ff220bc5474a7aa5243fbd50685257",
            "max": 1,
            "min": 0,
            "orientation": "horizontal",
            "style": "IPY_MODEL_f3a3c7b425e748eab398a4fa579152ec",
            "value": 1
          }
        },
        "4051cf814ea44bdcb6610808466f5e45": {
          "model_module": "@jupyter-widgets/controls",
          "model_name": "HTMLModel",
          "state": {
            "_dom_classes": [],
            "_model_module": "@jupyter-widgets/controls",
            "_model_module_version": "1.5.0",
            "_model_name": "HTMLModel",
            "_view_count": null,
            "_view_module": "@jupyter-widgets/controls",
            "_view_module_version": "1.5.0",
            "_view_name": "HTMLView",
            "description": "",
            "description_tooltip": null,
            "layout": "IPY_MODEL_538b8204f5c94752841e8b1f9ef980fa",
            "placeholder": "​",
            "style": "IPY_MODEL_70d19664489d4f69bcaaf7c61a6c0dc5",
            "value": " 1/1 [00:02&lt;00:00,  2.61s/ file]"
          }
        },
        "2f8e4654a7e44a9e8a5b6bc3e3407cb1": {
          "model_module": "@jupyter-widgets/base",
          "model_name": "LayoutModel",
          "state": {
            "_model_module": "@jupyter-widgets/base",
            "_model_module_version": "1.2.0",
            "_model_name": "LayoutModel",
            "_view_count": null,
            "_view_module": "@jupyter-widgets/base",
            "_view_module_version": "1.2.0",
            "_view_name": "LayoutView",
            "align_content": null,
            "align_items": null,
            "align_self": null,
            "border": null,
            "bottom": null,
            "display": null,
            "flex": null,
            "flex_flow": null,
            "grid_area": null,
            "grid_auto_columns": null,
            "grid_auto_flow": null,
            "grid_auto_rows": null,
            "grid_column": null,
            "grid_gap": null,
            "grid_row": null,
            "grid_template_areas": null,
            "grid_template_columns": null,
            "grid_template_rows": null,
            "height": null,
            "justify_content": null,
            "justify_items": null,
            "left": null,
            "margin": null,
            "max_height": null,
            "max_width": null,
            "min_height": null,
            "min_width": null,
            "object_fit": null,
            "object_position": null,
            "order": null,
            "overflow": null,
            "overflow_x": null,
            "overflow_y": null,
            "padding": null,
            "right": null,
            "top": null,
            "visibility": null,
            "width": null
          }
        },
        "59ff220bc5474a7aa5243fbd50685257": {
          "model_module": "@jupyter-widgets/base",
          "model_name": "LayoutModel",
          "state": {
            "_model_module": "@jupyter-widgets/base",
            "_model_module_version": "1.2.0",
            "_model_name": "LayoutModel",
            "_view_count": null,
            "_view_module": "@jupyter-widgets/base",
            "_view_module_version": "1.2.0",
            "_view_name": "LayoutView",
            "align_content": null,
            "align_items": null,
            "align_self": null,
            "border": null,
            "bottom": null,
            "display": null,
            "flex": null,
            "flex_flow": null,
            "grid_area": null,
            "grid_auto_columns": null,
            "grid_auto_flow": null,
            "grid_auto_rows": null,
            "grid_column": null,
            "grid_gap": null,
            "grid_row": null,
            "grid_template_areas": null,
            "grid_template_columns": null,
            "grid_template_rows": null,
            "height": null,
            "justify_content": null,
            "justify_items": null,
            "left": null,
            "margin": null,
            "max_height": null,
            "max_width": null,
            "min_height": null,
            "min_width": null,
            "object_fit": null,
            "object_position": null,
            "order": null,
            "overflow": null,
            "overflow_x": null,
            "overflow_y": null,
            "padding": null,
            "right": null,
            "top": null,
            "visibility": null,
            "width": null
          }
        },
        "f3a3c7b425e748eab398a4fa579152ec": {
          "model_module": "@jupyter-widgets/controls",
          "model_name": "ProgressStyleModel",
          "state": {
            "_model_module": "@jupyter-widgets/controls",
            "_model_module_version": "1.5.0",
            "_model_name": "ProgressStyleModel",
            "_view_count": null,
            "_view_module": "@jupyter-widgets/base",
            "_view_module_version": "1.2.0",
            "_view_name": "StyleView",
            "bar_color": null,
            "description_width": "initial"
          }
        },
        "538b8204f5c94752841e8b1f9ef980fa": {
          "model_module": "@jupyter-widgets/base",
          "model_name": "LayoutModel",
          "state": {
            "_model_module": "@jupyter-widgets/base",
            "_model_module_version": "1.2.0",
            "_model_name": "LayoutModel",
            "_view_count": null,
            "_view_module": "@jupyter-widgets/base",
            "_view_module_version": "1.2.0",
            "_view_name": "LayoutView",
            "align_content": null,
            "align_items": null,
            "align_self": null,
            "border": null,
            "bottom": null,
            "display": null,
            "flex": null,
            "flex_flow": null,
            "grid_area": null,
            "grid_auto_columns": null,
            "grid_auto_flow": null,
            "grid_auto_rows": null,
            "grid_column": null,
            "grid_gap": null,
            "grid_row": null,
            "grid_template_areas": null,
            "grid_template_columns": null,
            "grid_template_rows": null,
            "height": null,
            "justify_content": null,
            "justify_items": null,
            "left": null,
            "margin": null,
            "max_height": null,
            "max_width": null,
            "min_height": null,
            "min_width": null,
            "object_fit": null,
            "object_position": null,
            "order": null,
            "overflow": null,
            "overflow_x": null,
            "overflow_y": null,
            "padding": null,
            "right": null,
            "top": null,
            "visibility": null,
            "width": null
          }
        },
        "70d19664489d4f69bcaaf7c61a6c0dc5": {
          "model_module": "@jupyter-widgets/controls",
          "model_name": "DescriptionStyleModel",
          "state": {
            "_model_module": "@jupyter-widgets/controls",
            "_model_module_version": "1.5.0",
            "_model_name": "DescriptionStyleModel",
            "_view_count": null,
            "_view_module": "@jupyter-widgets/base",
            "_view_module_version": "1.2.0",
            "_view_name": "StyleView",
            "description_width": ""
          }
        },
        "844bef87856f4542831506c7cc7f06b0": {
          "model_module": "@jupyter-widgets/controls",
          "model_name": "HBoxModel",
          "state": {
            "_dom_classes": [],
            "_model_module": "@jupyter-widgets/controls",
            "_model_module_version": "1.5.0",
            "_model_name": "HBoxModel",
            "_view_count": null,
            "_view_module": "@jupyter-widgets/controls",
            "_view_module_version": "1.5.0",
            "_view_name": "HBoxView",
            "box_style": "",
            "children": [
              "IPY_MODEL_ad978f74d1254b38bb0dc5155c522a1c",
              "IPY_MODEL_bff2219672e54b9bac557b6fdcf853b9"
            ],
            "layout": "IPY_MODEL_7d72f6fea236480aa6b3e2079eb22135"
          }
        },
        "ad978f74d1254b38bb0dc5155c522a1c": {
          "model_module": "@jupyter-widgets/controls",
          "model_name": "FloatProgressModel",
          "state": {
            "_dom_classes": [],
            "_model_module": "@jupyter-widgets/controls",
            "_model_module_version": "1.5.0",
            "_model_name": "FloatProgressModel",
            "_view_count": null,
            "_view_module": "@jupyter-widgets/controls",
            "_view_module_version": "1.5.0",
            "_view_name": "ProgressView",
            "bar_style": "info",
            "description": "",
            "description_tooltip": null,
            "layout": "IPY_MODEL_384412f87d1446eb8cab3e88bfd90417",
            "max": 1,
            "min": 0,
            "orientation": "horizontal",
            "style": "IPY_MODEL_e577201955e4430d9a19162642700d1c",
            "value": 1
          }
        },
        "bff2219672e54b9bac557b6fdcf853b9": {
          "model_module": "@jupyter-widgets/controls",
          "model_name": "HTMLModel",
          "state": {
            "_dom_classes": [],
            "_model_module": "@jupyter-widgets/controls",
            "_model_module_version": "1.5.0",
            "_model_name": "HTMLModel",
            "_view_count": null,
            "_view_module": "@jupyter-widgets/controls",
            "_view_module_version": "1.5.0",
            "_view_name": "HTMLView",
            "description": "",
            "description_tooltip": null,
            "layout": "IPY_MODEL_54255c7b8f7148619fa142fbe0b076bf",
            "placeholder": "​",
            "style": "IPY_MODEL_7f3304b07ed34f4781a4ee756819f5b6",
            "value": " 5010/0 [00:09&lt;00:00, 642.81 examples/s]"
          }
        },
        "7d72f6fea236480aa6b3e2079eb22135": {
          "model_module": "@jupyter-widgets/base",
          "model_name": "LayoutModel",
          "state": {
            "_model_module": "@jupyter-widgets/base",
            "_model_module_version": "1.2.0",
            "_model_name": "LayoutModel",
            "_view_count": null,
            "_view_module": "@jupyter-widgets/base",
            "_view_module_version": "1.2.0",
            "_view_name": "LayoutView",
            "align_content": null,
            "align_items": null,
            "align_self": null,
            "border": null,
            "bottom": null,
            "display": null,
            "flex": null,
            "flex_flow": null,
            "grid_area": null,
            "grid_auto_columns": null,
            "grid_auto_flow": null,
            "grid_auto_rows": null,
            "grid_column": null,
            "grid_gap": null,
            "grid_row": null,
            "grid_template_areas": null,
            "grid_template_columns": null,
            "grid_template_rows": null,
            "height": null,
            "justify_content": null,
            "justify_items": null,
            "left": null,
            "margin": null,
            "max_height": null,
            "max_width": null,
            "min_height": null,
            "min_width": null,
            "object_fit": null,
            "object_position": null,
            "order": null,
            "overflow": null,
            "overflow_x": null,
            "overflow_y": null,
            "padding": null,
            "right": null,
            "top": null,
            "visibility": null,
            "width": null
          }
        },
        "384412f87d1446eb8cab3e88bfd90417": {
          "model_module": "@jupyter-widgets/base",
          "model_name": "LayoutModel",
          "state": {
            "_model_module": "@jupyter-widgets/base",
            "_model_module_version": "1.2.0",
            "_model_name": "LayoutModel",
            "_view_count": null,
            "_view_module": "@jupyter-widgets/base",
            "_view_module_version": "1.2.0",
            "_view_name": "LayoutView",
            "align_content": null,
            "align_items": null,
            "align_self": null,
            "border": null,
            "bottom": null,
            "display": null,
            "flex": null,
            "flex_flow": null,
            "grid_area": null,
            "grid_auto_columns": null,
            "grid_auto_flow": null,
            "grid_auto_rows": null,
            "grid_column": null,
            "grid_gap": null,
            "grid_row": null,
            "grid_template_areas": null,
            "grid_template_columns": null,
            "grid_template_rows": null,
            "height": null,
            "justify_content": null,
            "justify_items": null,
            "left": null,
            "margin": null,
            "max_height": null,
            "max_width": null,
            "min_height": null,
            "min_width": null,
            "object_fit": null,
            "object_position": null,
            "order": null,
            "overflow": null,
            "overflow_x": null,
            "overflow_y": null,
            "padding": null,
            "right": null,
            "top": null,
            "visibility": null,
            "width": null
          }
        },
        "e577201955e4430d9a19162642700d1c": {
          "model_module": "@jupyter-widgets/controls",
          "model_name": "ProgressStyleModel",
          "state": {
            "_model_module": "@jupyter-widgets/controls",
            "_model_module_version": "1.5.0",
            "_model_name": "ProgressStyleModel",
            "_view_count": null,
            "_view_module": "@jupyter-widgets/base",
            "_view_module_version": "1.2.0",
            "_view_name": "StyleView",
            "bar_color": null,
            "description_width": "initial"
          }
        },
        "54255c7b8f7148619fa142fbe0b076bf": {
          "model_module": "@jupyter-widgets/base",
          "model_name": "LayoutModel",
          "state": {
            "_model_module": "@jupyter-widgets/base",
            "_model_module_version": "1.2.0",
            "_model_name": "LayoutModel",
            "_view_count": null,
            "_view_module": "@jupyter-widgets/base",
            "_view_module_version": "1.2.0",
            "_view_name": "LayoutView",
            "align_content": null,
            "align_items": null,
            "align_self": null,
            "border": null,
            "bottom": null,
            "display": null,
            "flex": null,
            "flex_flow": null,
            "grid_area": null,
            "grid_auto_columns": null,
            "grid_auto_flow": null,
            "grid_auto_rows": null,
            "grid_column": null,
            "grid_gap": null,
            "grid_row": null,
            "grid_template_areas": null,
            "grid_template_columns": null,
            "grid_template_rows": null,
            "height": null,
            "justify_content": null,
            "justify_items": null,
            "left": null,
            "margin": null,
            "max_height": null,
            "max_width": null,
            "min_height": null,
            "min_width": null,
            "object_fit": null,
            "object_position": null,
            "order": null,
            "overflow": null,
            "overflow_x": null,
            "overflow_y": null,
            "padding": null,
            "right": null,
            "top": null,
            "visibility": null,
            "width": null
          }
        },
        "7f3304b07ed34f4781a4ee756819f5b6": {
          "model_module": "@jupyter-widgets/controls",
          "model_name": "DescriptionStyleModel",
          "state": {
            "_model_module": "@jupyter-widgets/controls",
            "_model_module_version": "1.5.0",
            "_model_name": "DescriptionStyleModel",
            "_view_count": null,
            "_view_module": "@jupyter-widgets/base",
            "_view_module_version": "1.2.0",
            "_view_name": "StyleView",
            "description_width": ""
          }
        },
        "fb27ccb2af76439d9df24a0a0a44f7e3": {
          "model_module": "@jupyter-widgets/controls",
          "model_name": "HBoxModel",
          "state": {
            "_dom_classes": [],
            "_model_module": "@jupyter-widgets/controls",
            "_model_module_version": "1.5.0",
            "_model_name": "HBoxModel",
            "_view_count": null,
            "_view_module": "@jupyter-widgets/controls",
            "_view_module_version": "1.5.0",
            "_view_name": "HBoxView",
            "box_style": "",
            "children": [
              "IPY_MODEL_4386219908d5434c9499a27702d5b4f6",
              "IPY_MODEL_1b3aad50a88444248a5ccdc6d7a5ac4e"
            ],
            "layout": "IPY_MODEL_61792fda6ef9428aad1bd326d61a176c"
          }
        },
        "4386219908d5434c9499a27702d5b4f6": {
          "model_module": "@jupyter-widgets/controls",
          "model_name": "FloatProgressModel",
          "state": {
            "_dom_classes": [],
            "_model_module": "@jupyter-widgets/controls",
            "_model_module_version": "1.5.0",
            "_model_name": "FloatProgressModel",
            "_view_count": null,
            "_view_module": "@jupyter-widgets/controls",
            "_view_module_version": "1.5.0",
            "_view_name": "ProgressView",
            "bar_style": "danger",
            "description": "  0%",
            "description_tooltip": null,
            "layout": "IPY_MODEL_5960965378bc434e8713581715fe0bd2",
            "max": 5010,
            "min": 0,
            "orientation": "horizontal",
            "style": "IPY_MODEL_3c604d86852e436abd4926becf0cd053",
            "value": 0
          }
        },
        "1b3aad50a88444248a5ccdc6d7a5ac4e": {
          "model_module": "@jupyter-widgets/controls",
          "model_name": "HTMLModel",
          "state": {
            "_dom_classes": [],
            "_model_module": "@jupyter-widgets/controls",
            "_model_module_version": "1.5.0",
            "_model_name": "HTMLModel",
            "_view_count": null,
            "_view_module": "@jupyter-widgets/controls",
            "_view_module_version": "1.5.0",
            "_view_name": "HTMLView",
            "description": "",
            "description_tooltip": null,
            "layout": "IPY_MODEL_bd30b82f10cf4aa782b28a2d3f0a4725",
            "placeholder": "​",
            "style": "IPY_MODEL_8e007263f4ed401dba7dceb4c0c1e14a",
            "value": " 0/5010 [00:00&lt;?, ? examples/s]"
          }
        },
        "61792fda6ef9428aad1bd326d61a176c": {
          "model_module": "@jupyter-widgets/base",
          "model_name": "LayoutModel",
          "state": {
            "_model_module": "@jupyter-widgets/base",
            "_model_module_version": "1.2.0",
            "_model_name": "LayoutModel",
            "_view_count": null,
            "_view_module": "@jupyter-widgets/base",
            "_view_module_version": "1.2.0",
            "_view_name": "LayoutView",
            "align_content": null,
            "align_items": null,
            "align_self": null,
            "border": null,
            "bottom": null,
            "display": null,
            "flex": null,
            "flex_flow": null,
            "grid_area": null,
            "grid_auto_columns": null,
            "grid_auto_flow": null,
            "grid_auto_rows": null,
            "grid_column": null,
            "grid_gap": null,
            "grid_row": null,
            "grid_template_areas": null,
            "grid_template_columns": null,
            "grid_template_rows": null,
            "height": null,
            "justify_content": null,
            "justify_items": null,
            "left": null,
            "margin": null,
            "max_height": null,
            "max_width": null,
            "min_height": null,
            "min_width": null,
            "object_fit": null,
            "object_position": null,
            "order": null,
            "overflow": null,
            "overflow_x": null,
            "overflow_y": null,
            "padding": null,
            "right": null,
            "top": null,
            "visibility": null,
            "width": null
          }
        },
        "5960965378bc434e8713581715fe0bd2": {
          "model_module": "@jupyter-widgets/base",
          "model_name": "LayoutModel",
          "state": {
            "_model_module": "@jupyter-widgets/base",
            "_model_module_version": "1.2.0",
            "_model_name": "LayoutModel",
            "_view_count": null,
            "_view_module": "@jupyter-widgets/base",
            "_view_module_version": "1.2.0",
            "_view_name": "LayoutView",
            "align_content": null,
            "align_items": null,
            "align_self": null,
            "border": null,
            "bottom": null,
            "display": null,
            "flex": null,
            "flex_flow": null,
            "grid_area": null,
            "grid_auto_columns": null,
            "grid_auto_flow": null,
            "grid_auto_rows": null,
            "grid_column": null,
            "grid_gap": null,
            "grid_row": null,
            "grid_template_areas": null,
            "grid_template_columns": null,
            "grid_template_rows": null,
            "height": null,
            "justify_content": null,
            "justify_items": null,
            "left": null,
            "margin": null,
            "max_height": null,
            "max_width": null,
            "min_height": null,
            "min_width": null,
            "object_fit": null,
            "object_position": null,
            "order": null,
            "overflow": null,
            "overflow_x": null,
            "overflow_y": null,
            "padding": null,
            "right": null,
            "top": null,
            "visibility": null,
            "width": null
          }
        },
        "3c604d86852e436abd4926becf0cd053": {
          "model_module": "@jupyter-widgets/controls",
          "model_name": "ProgressStyleModel",
          "state": {
            "_model_module": "@jupyter-widgets/controls",
            "_model_module_version": "1.5.0",
            "_model_name": "ProgressStyleModel",
            "_view_count": null,
            "_view_module": "@jupyter-widgets/base",
            "_view_module_version": "1.2.0",
            "_view_name": "StyleView",
            "bar_color": null,
            "description_width": "initial"
          }
        },
        "bd30b82f10cf4aa782b28a2d3f0a4725": {
          "model_module": "@jupyter-widgets/base",
          "model_name": "LayoutModel",
          "state": {
            "_model_module": "@jupyter-widgets/base",
            "_model_module_version": "1.2.0",
            "_model_name": "LayoutModel",
            "_view_count": null,
            "_view_module": "@jupyter-widgets/base",
            "_view_module_version": "1.2.0",
            "_view_name": "LayoutView",
            "align_content": null,
            "align_items": null,
            "align_self": null,
            "border": null,
            "bottom": null,
            "display": null,
            "flex": null,
            "flex_flow": null,
            "grid_area": null,
            "grid_auto_columns": null,
            "grid_auto_flow": null,
            "grid_auto_rows": null,
            "grid_column": null,
            "grid_gap": null,
            "grid_row": null,
            "grid_template_areas": null,
            "grid_template_columns": null,
            "grid_template_rows": null,
            "height": null,
            "justify_content": null,
            "justify_items": null,
            "left": null,
            "margin": null,
            "max_height": null,
            "max_width": null,
            "min_height": null,
            "min_width": null,
            "object_fit": null,
            "object_position": null,
            "order": null,
            "overflow": null,
            "overflow_x": null,
            "overflow_y": null,
            "padding": null,
            "right": null,
            "top": null,
            "visibility": null,
            "width": null
          }
        },
        "8e007263f4ed401dba7dceb4c0c1e14a": {
          "model_module": "@jupyter-widgets/controls",
          "model_name": "DescriptionStyleModel",
          "state": {
            "_model_module": "@jupyter-widgets/controls",
            "_model_module_version": "1.5.0",
            "_model_name": "DescriptionStyleModel",
            "_view_count": null,
            "_view_module": "@jupyter-widgets/base",
            "_view_module_version": "1.2.0",
            "_view_name": "StyleView",
            "description_width": ""
          }
        },
        "bee5c529f33c49acbc53ec0a64b8e21d": {
          "model_module": "@jupyter-widgets/controls",
          "model_name": "HBoxModel",
          "state": {
            "_dom_classes": [],
            "_model_module": "@jupyter-widgets/controls",
            "_model_module_version": "1.5.0",
            "_model_name": "HBoxModel",
            "_view_count": null,
            "_view_module": "@jupyter-widgets/controls",
            "_view_module_version": "1.5.0",
            "_view_name": "HBoxView",
            "box_style": "",
            "children": [
              "IPY_MODEL_ba662bb9110a4358921a9e201fa224b8",
              "IPY_MODEL_eac31f67af7d4a1bae68d97d8d8f7f85"
            ],
            "layout": "IPY_MODEL_27aa898fdb4e46c9823c4feb9dbdd021"
          }
        },
        "ba662bb9110a4358921a9e201fa224b8": {
          "model_module": "@jupyter-widgets/controls",
          "model_name": "FloatProgressModel",
          "state": {
            "_dom_classes": [],
            "_model_module": "@jupyter-widgets/controls",
            "_model_module_version": "1.5.0",
            "_model_name": "FloatProgressModel",
            "_view_count": null,
            "_view_module": "@jupyter-widgets/controls",
            "_view_module_version": "1.5.0",
            "_view_name": "ProgressView",
            "bar_style": "info",
            "description": "",
            "description_tooltip": null,
            "layout": "IPY_MODEL_730b3821c4fe4cdc9469d5dfdedf3b96",
            "max": 1,
            "min": 0,
            "orientation": "horizontal",
            "style": "IPY_MODEL_fee5f2a7c11b451da3acd3833a256f17",
            "value": 1
          }
        },
        "eac31f67af7d4a1bae68d97d8d8f7f85": {
          "model_module": "@jupyter-widgets/controls",
          "model_name": "HTMLModel",
          "state": {
            "_dom_classes": [],
            "_model_module": "@jupyter-widgets/controls",
            "_model_module_version": "1.5.0",
            "_model_name": "HTMLModel",
            "_view_count": null,
            "_view_module": "@jupyter-widgets/controls",
            "_view_module_version": "1.5.0",
            "_view_name": "HTMLView",
            "description": "",
            "description_tooltip": null,
            "layout": "IPY_MODEL_b2583ce1be81460ba81b35f63b32f0f2",
            "placeholder": "​",
            "style": "IPY_MODEL_2c4286a28b8d45b6b46d7f1a69004c76",
            "value": " 2490/0 [00:05&lt;00:00, 618.47 examples/s]"
          }
        },
        "27aa898fdb4e46c9823c4feb9dbdd021": {
          "model_module": "@jupyter-widgets/base",
          "model_name": "LayoutModel",
          "state": {
            "_model_module": "@jupyter-widgets/base",
            "_model_module_version": "1.2.0",
            "_model_name": "LayoutModel",
            "_view_count": null,
            "_view_module": "@jupyter-widgets/base",
            "_view_module_version": "1.2.0",
            "_view_name": "LayoutView",
            "align_content": null,
            "align_items": null,
            "align_self": null,
            "border": null,
            "bottom": null,
            "display": null,
            "flex": null,
            "flex_flow": null,
            "grid_area": null,
            "grid_auto_columns": null,
            "grid_auto_flow": null,
            "grid_auto_rows": null,
            "grid_column": null,
            "grid_gap": null,
            "grid_row": null,
            "grid_template_areas": null,
            "grid_template_columns": null,
            "grid_template_rows": null,
            "height": null,
            "justify_content": null,
            "justify_items": null,
            "left": null,
            "margin": null,
            "max_height": null,
            "max_width": null,
            "min_height": null,
            "min_width": null,
            "object_fit": null,
            "object_position": null,
            "order": null,
            "overflow": null,
            "overflow_x": null,
            "overflow_y": null,
            "padding": null,
            "right": null,
            "top": null,
            "visibility": null,
            "width": null
          }
        },
        "730b3821c4fe4cdc9469d5dfdedf3b96": {
          "model_module": "@jupyter-widgets/base",
          "model_name": "LayoutModel",
          "state": {
            "_model_module": "@jupyter-widgets/base",
            "_model_module_version": "1.2.0",
            "_model_name": "LayoutModel",
            "_view_count": null,
            "_view_module": "@jupyter-widgets/base",
            "_view_module_version": "1.2.0",
            "_view_name": "LayoutView",
            "align_content": null,
            "align_items": null,
            "align_self": null,
            "border": null,
            "bottom": null,
            "display": null,
            "flex": null,
            "flex_flow": null,
            "grid_area": null,
            "grid_auto_columns": null,
            "grid_auto_flow": null,
            "grid_auto_rows": null,
            "grid_column": null,
            "grid_gap": null,
            "grid_row": null,
            "grid_template_areas": null,
            "grid_template_columns": null,
            "grid_template_rows": null,
            "height": null,
            "justify_content": null,
            "justify_items": null,
            "left": null,
            "margin": null,
            "max_height": null,
            "max_width": null,
            "min_height": null,
            "min_width": null,
            "object_fit": null,
            "object_position": null,
            "order": null,
            "overflow": null,
            "overflow_x": null,
            "overflow_y": null,
            "padding": null,
            "right": null,
            "top": null,
            "visibility": null,
            "width": null
          }
        },
        "fee5f2a7c11b451da3acd3833a256f17": {
          "model_module": "@jupyter-widgets/controls",
          "model_name": "ProgressStyleModel",
          "state": {
            "_model_module": "@jupyter-widgets/controls",
            "_model_module_version": "1.5.0",
            "_model_name": "ProgressStyleModel",
            "_view_count": null,
            "_view_module": "@jupyter-widgets/base",
            "_view_module_version": "1.2.0",
            "_view_name": "StyleView",
            "bar_color": null,
            "description_width": "initial"
          }
        },
        "b2583ce1be81460ba81b35f63b32f0f2": {
          "model_module": "@jupyter-widgets/base",
          "model_name": "LayoutModel",
          "state": {
            "_model_module": "@jupyter-widgets/base",
            "_model_module_version": "1.2.0",
            "_model_name": "LayoutModel",
            "_view_count": null,
            "_view_module": "@jupyter-widgets/base",
            "_view_module_version": "1.2.0",
            "_view_name": "LayoutView",
            "align_content": null,
            "align_items": null,
            "align_self": null,
            "border": null,
            "bottom": null,
            "display": null,
            "flex": null,
            "flex_flow": null,
            "grid_area": null,
            "grid_auto_columns": null,
            "grid_auto_flow": null,
            "grid_auto_rows": null,
            "grid_column": null,
            "grid_gap": null,
            "grid_row": null,
            "grid_template_areas": null,
            "grid_template_columns": null,
            "grid_template_rows": null,
            "height": null,
            "justify_content": null,
            "justify_items": null,
            "left": null,
            "margin": null,
            "max_height": null,
            "max_width": null,
            "min_height": null,
            "min_width": null,
            "object_fit": null,
            "object_position": null,
            "order": null,
            "overflow": null,
            "overflow_x": null,
            "overflow_y": null,
            "padding": null,
            "right": null,
            "top": null,
            "visibility": null,
            "width": null
          }
        },
        "2c4286a28b8d45b6b46d7f1a69004c76": {
          "model_module": "@jupyter-widgets/controls",
          "model_name": "DescriptionStyleModel",
          "state": {
            "_model_module": "@jupyter-widgets/controls",
            "_model_module_version": "1.5.0",
            "_model_name": "DescriptionStyleModel",
            "_view_count": null,
            "_view_module": "@jupyter-widgets/base",
            "_view_module_version": "1.2.0",
            "_view_name": "StyleView",
            "description_width": ""
          }
        },
        "59399f0497594069a1f9a17e6766ae25": {
          "model_module": "@jupyter-widgets/controls",
          "model_name": "HBoxModel",
          "state": {
            "_dom_classes": [],
            "_model_module": "@jupyter-widgets/controls",
            "_model_module_version": "1.5.0",
            "_model_name": "HBoxModel",
            "_view_count": null,
            "_view_module": "@jupyter-widgets/controls",
            "_view_module_version": "1.5.0",
            "_view_name": "HBoxView",
            "box_style": "",
            "children": [
              "IPY_MODEL_afe34797f8a846da957b9579825aeaf7",
              "IPY_MODEL_a2e988d9946e40239f3c1b0be0e254b5"
            ],
            "layout": "IPY_MODEL_aae5fb6fcf2c4e448c0382f5c4fbaa13"
          }
        },
        "afe34797f8a846da957b9579825aeaf7": {
          "model_module": "@jupyter-widgets/controls",
          "model_name": "FloatProgressModel",
          "state": {
            "_dom_classes": [],
            "_model_module": "@jupyter-widgets/controls",
            "_model_module_version": "1.5.0",
            "_model_name": "FloatProgressModel",
            "_view_count": null,
            "_view_module": "@jupyter-widgets/controls",
            "_view_module_version": "1.5.0",
            "_view_name": "ProgressView",
            "bar_style": "danger",
            "description": "  0%",
            "description_tooltip": null,
            "layout": "IPY_MODEL_68a4fbeb3b614aa2ac9b8dfc9621c042",
            "max": 2490,
            "min": 0,
            "orientation": "horizontal",
            "style": "IPY_MODEL_c9f218b111704c56b9073fa649afbc2e",
            "value": 0
          }
        },
        "a2e988d9946e40239f3c1b0be0e254b5": {
          "model_module": "@jupyter-widgets/controls",
          "model_name": "HTMLModel",
          "state": {
            "_dom_classes": [],
            "_model_module": "@jupyter-widgets/controls",
            "_model_module_version": "1.5.0",
            "_model_name": "HTMLModel",
            "_view_count": null,
            "_view_module": "@jupyter-widgets/controls",
            "_view_module_version": "1.5.0",
            "_view_name": "HTMLView",
            "description": "",
            "description_tooltip": null,
            "layout": "IPY_MODEL_5aacb795a09e4bc2830399198ab7d9de",
            "placeholder": "​",
            "style": "IPY_MODEL_df7592f670af42968eb7237e8d74cfa7",
            "value": " 0/2490 [00:00&lt;?, ? examples/s]"
          }
        },
        "aae5fb6fcf2c4e448c0382f5c4fbaa13": {
          "model_module": "@jupyter-widgets/base",
          "model_name": "LayoutModel",
          "state": {
            "_model_module": "@jupyter-widgets/base",
            "_model_module_version": "1.2.0",
            "_model_name": "LayoutModel",
            "_view_count": null,
            "_view_module": "@jupyter-widgets/base",
            "_view_module_version": "1.2.0",
            "_view_name": "LayoutView",
            "align_content": null,
            "align_items": null,
            "align_self": null,
            "border": null,
            "bottom": null,
            "display": null,
            "flex": null,
            "flex_flow": null,
            "grid_area": null,
            "grid_auto_columns": null,
            "grid_auto_flow": null,
            "grid_auto_rows": null,
            "grid_column": null,
            "grid_gap": null,
            "grid_row": null,
            "grid_template_areas": null,
            "grid_template_columns": null,
            "grid_template_rows": null,
            "height": null,
            "justify_content": null,
            "justify_items": null,
            "left": null,
            "margin": null,
            "max_height": null,
            "max_width": null,
            "min_height": null,
            "min_width": null,
            "object_fit": null,
            "object_position": null,
            "order": null,
            "overflow": null,
            "overflow_x": null,
            "overflow_y": null,
            "padding": null,
            "right": null,
            "top": null,
            "visibility": null,
            "width": null
          }
        },
        "68a4fbeb3b614aa2ac9b8dfc9621c042": {
          "model_module": "@jupyter-widgets/base",
          "model_name": "LayoutModel",
          "state": {
            "_model_module": "@jupyter-widgets/base",
            "_model_module_version": "1.2.0",
            "_model_name": "LayoutModel",
            "_view_count": null,
            "_view_module": "@jupyter-widgets/base",
            "_view_module_version": "1.2.0",
            "_view_name": "LayoutView",
            "align_content": null,
            "align_items": null,
            "align_self": null,
            "border": null,
            "bottom": null,
            "display": null,
            "flex": null,
            "flex_flow": null,
            "grid_area": null,
            "grid_auto_columns": null,
            "grid_auto_flow": null,
            "grid_auto_rows": null,
            "grid_column": null,
            "grid_gap": null,
            "grid_row": null,
            "grid_template_areas": null,
            "grid_template_columns": null,
            "grid_template_rows": null,
            "height": null,
            "justify_content": null,
            "justify_items": null,
            "left": null,
            "margin": null,
            "max_height": null,
            "max_width": null,
            "min_height": null,
            "min_width": null,
            "object_fit": null,
            "object_position": null,
            "order": null,
            "overflow": null,
            "overflow_x": null,
            "overflow_y": null,
            "padding": null,
            "right": null,
            "top": null,
            "visibility": null,
            "width": null
          }
        },
        "c9f218b111704c56b9073fa649afbc2e": {
          "model_module": "@jupyter-widgets/controls",
          "model_name": "ProgressStyleModel",
          "state": {
            "_model_module": "@jupyter-widgets/controls",
            "_model_module_version": "1.5.0",
            "_model_name": "ProgressStyleModel",
            "_view_count": null,
            "_view_module": "@jupyter-widgets/base",
            "_view_module_version": "1.2.0",
            "_view_name": "StyleView",
            "bar_color": null,
            "description_width": "initial"
          }
        },
        "5aacb795a09e4bc2830399198ab7d9de": {
          "model_module": "@jupyter-widgets/base",
          "model_name": "LayoutModel",
          "state": {
            "_model_module": "@jupyter-widgets/base",
            "_model_module_version": "1.2.0",
            "_model_name": "LayoutModel",
            "_view_count": null,
            "_view_module": "@jupyter-widgets/base",
            "_view_module_version": "1.2.0",
            "_view_name": "LayoutView",
            "align_content": null,
            "align_items": null,
            "align_self": null,
            "border": null,
            "bottom": null,
            "display": null,
            "flex": null,
            "flex_flow": null,
            "grid_area": null,
            "grid_auto_columns": null,
            "grid_auto_flow": null,
            "grid_auto_rows": null,
            "grid_column": null,
            "grid_gap": null,
            "grid_row": null,
            "grid_template_areas": null,
            "grid_template_columns": null,
            "grid_template_rows": null,
            "height": null,
            "justify_content": null,
            "justify_items": null,
            "left": null,
            "margin": null,
            "max_height": null,
            "max_width": null,
            "min_height": null,
            "min_width": null,
            "object_fit": null,
            "object_position": null,
            "order": null,
            "overflow": null,
            "overflow_x": null,
            "overflow_y": null,
            "padding": null,
            "right": null,
            "top": null,
            "visibility": null,
            "width": null
          }
        },
        "df7592f670af42968eb7237e8d74cfa7": {
          "model_module": "@jupyter-widgets/controls",
          "model_name": "DescriptionStyleModel",
          "state": {
            "_model_module": "@jupyter-widgets/controls",
            "_model_module_version": "1.5.0",
            "_model_name": "DescriptionStyleModel",
            "_view_count": null,
            "_view_module": "@jupyter-widgets/base",
            "_view_module_version": "1.2.0",
            "_view_name": "StyleView",
            "description_width": ""
          }
        },
        "643ef789bf43453aa3165901ae60743a": {
          "model_module": "@jupyter-widgets/controls",
          "model_name": "HBoxModel",
          "state": {
            "_dom_classes": [],
            "_model_module": "@jupyter-widgets/controls",
            "_model_module_version": "1.5.0",
            "_model_name": "HBoxModel",
            "_view_count": null,
            "_view_module": "@jupyter-widgets/controls",
            "_view_module_version": "1.5.0",
            "_view_name": "HBoxView",
            "box_style": "",
            "children": [
              "IPY_MODEL_590df2b6d3424eafbf8c32e6bdf24144",
              "IPY_MODEL_371d6679d1c946d081dcc0c068c6a4be"
            ],
            "layout": "IPY_MODEL_5e96489d24ae48b7a139e83d0bb16176"
          }
        },
        "590df2b6d3424eafbf8c32e6bdf24144": {
          "model_module": "@jupyter-widgets/controls",
          "model_name": "FloatProgressModel",
          "state": {
            "_dom_classes": [],
            "_model_module": "@jupyter-widgets/controls",
            "_model_module_version": "1.5.0",
            "_model_name": "FloatProgressModel",
            "_view_count": null,
            "_view_module": "@jupyter-widgets/controls",
            "_view_module_version": "1.5.0",
            "_view_name": "ProgressView",
            "bar_style": "success",
            "description": "Downloading: 100%",
            "description_tooltip": null,
            "layout": "IPY_MODEL_86425491c0d041708badbb53df661c59",
            "max": 5069051,
            "min": 0,
            "orientation": "horizontal",
            "style": "IPY_MODEL_c09e3628658749898abf2ff8bd5a3f87",
            "value": 5069051
          }
        },
        "371d6679d1c946d081dcc0c068c6a4be": {
          "model_module": "@jupyter-widgets/controls",
          "model_name": "HTMLModel",
          "state": {
            "_dom_classes": [],
            "_model_module": "@jupyter-widgets/controls",
            "_model_module_version": "1.5.0",
            "_model_name": "HTMLModel",
            "_view_count": null,
            "_view_module": "@jupyter-widgets/controls",
            "_view_module_version": "1.5.0",
            "_view_name": "HTMLView",
            "description": "",
            "description_tooltip": null,
            "layout": "IPY_MODEL_537f65b4d43b42968bc6247a78d7e1f6",
            "placeholder": "​",
            "style": "IPY_MODEL_180e3efb1f2d465498d751786d41b59a",
            "value": " 5.07M/5.07M [00:07&lt;00:00, 703kB/s]"
          }
        },
        "5e96489d24ae48b7a139e83d0bb16176": {
          "model_module": "@jupyter-widgets/base",
          "model_name": "LayoutModel",
          "state": {
            "_model_module": "@jupyter-widgets/base",
            "_model_module_version": "1.2.0",
            "_model_name": "LayoutModel",
            "_view_count": null,
            "_view_module": "@jupyter-widgets/base",
            "_view_module_version": "1.2.0",
            "_view_name": "LayoutView",
            "align_content": null,
            "align_items": null,
            "align_self": null,
            "border": null,
            "bottom": null,
            "display": null,
            "flex": null,
            "flex_flow": null,
            "grid_area": null,
            "grid_auto_columns": null,
            "grid_auto_flow": null,
            "grid_auto_rows": null,
            "grid_column": null,
            "grid_gap": null,
            "grid_row": null,
            "grid_template_areas": null,
            "grid_template_columns": null,
            "grid_template_rows": null,
            "height": null,
            "justify_content": null,
            "justify_items": null,
            "left": null,
            "margin": null,
            "max_height": null,
            "max_width": null,
            "min_height": null,
            "min_width": null,
            "object_fit": null,
            "object_position": null,
            "order": null,
            "overflow": null,
            "overflow_x": null,
            "overflow_y": null,
            "padding": null,
            "right": null,
            "top": null,
            "visibility": null,
            "width": null
          }
        },
        "86425491c0d041708badbb53df661c59": {
          "model_module": "@jupyter-widgets/base",
          "model_name": "LayoutModel",
          "state": {
            "_model_module": "@jupyter-widgets/base",
            "_model_module_version": "1.2.0",
            "_model_name": "LayoutModel",
            "_view_count": null,
            "_view_module": "@jupyter-widgets/base",
            "_view_module_version": "1.2.0",
            "_view_name": "LayoutView",
            "align_content": null,
            "align_items": null,
            "align_self": null,
            "border": null,
            "bottom": null,
            "display": null,
            "flex": null,
            "flex_flow": null,
            "grid_area": null,
            "grid_auto_columns": null,
            "grid_auto_flow": null,
            "grid_auto_rows": null,
            "grid_column": null,
            "grid_gap": null,
            "grid_row": null,
            "grid_template_areas": null,
            "grid_template_columns": null,
            "grid_template_rows": null,
            "height": null,
            "justify_content": null,
            "justify_items": null,
            "left": null,
            "margin": null,
            "max_height": null,
            "max_width": null,
            "min_height": null,
            "min_width": null,
            "object_fit": null,
            "object_position": null,
            "order": null,
            "overflow": null,
            "overflow_x": null,
            "overflow_y": null,
            "padding": null,
            "right": null,
            "top": null,
            "visibility": null,
            "width": null
          }
        },
        "c09e3628658749898abf2ff8bd5a3f87": {
          "model_module": "@jupyter-widgets/controls",
          "model_name": "ProgressStyleModel",
          "state": {
            "_model_module": "@jupyter-widgets/controls",
            "_model_module_version": "1.5.0",
            "_model_name": "ProgressStyleModel",
            "_view_count": null,
            "_view_module": "@jupyter-widgets/base",
            "_view_module_version": "1.2.0",
            "_view_name": "StyleView",
            "bar_color": null,
            "description_width": "initial"
          }
        },
        "537f65b4d43b42968bc6247a78d7e1f6": {
          "model_module": "@jupyter-widgets/base",
          "model_name": "LayoutModel",
          "state": {
            "_model_module": "@jupyter-widgets/base",
            "_model_module_version": "1.2.0",
            "_model_name": "LayoutModel",
            "_view_count": null,
            "_view_module": "@jupyter-widgets/base",
            "_view_module_version": "1.2.0",
            "_view_name": "LayoutView",
            "align_content": null,
            "align_items": null,
            "align_self": null,
            "border": null,
            "bottom": null,
            "display": null,
            "flex": null,
            "flex_flow": null,
            "grid_area": null,
            "grid_auto_columns": null,
            "grid_auto_flow": null,
            "grid_auto_rows": null,
            "grid_column": null,
            "grid_gap": null,
            "grid_row": null,
            "grid_template_areas": null,
            "grid_template_columns": null,
            "grid_template_rows": null,
            "height": null,
            "justify_content": null,
            "justify_items": null,
            "left": null,
            "margin": null,
            "max_height": null,
            "max_width": null,
            "min_height": null,
            "min_width": null,
            "object_fit": null,
            "object_position": null,
            "order": null,
            "overflow": null,
            "overflow_x": null,
            "overflow_y": null,
            "padding": null,
            "right": null,
            "top": null,
            "visibility": null,
            "width": null
          }
        },
        "180e3efb1f2d465498d751786d41b59a": {
          "model_module": "@jupyter-widgets/controls",
          "model_name": "DescriptionStyleModel",
          "state": {
            "_model_module": "@jupyter-widgets/controls",
            "_model_module_version": "1.5.0",
            "_model_name": "DescriptionStyleModel",
            "_view_count": null,
            "_view_module": "@jupyter-widgets/base",
            "_view_module_version": "1.2.0",
            "_view_name": "StyleView",
            "description_width": ""
          }
        },
        "016a28907ec4409cb89292230d0e7542": {
          "model_module": "@jupyter-widgets/controls",
          "model_name": "HBoxModel",
          "state": {
            "_dom_classes": [],
            "_model_module": "@jupyter-widgets/controls",
            "_model_module_version": "1.5.0",
            "_model_name": "HBoxModel",
            "_view_count": null,
            "_view_module": "@jupyter-widgets/controls",
            "_view_module_version": "1.5.0",
            "_view_name": "HBoxView",
            "box_style": "",
            "children": [
              "IPY_MODEL_203ae420fe1e4426a11504a8387baa3c",
              "IPY_MODEL_a28c1cc12bb64b7c9c0bd231eb478f02"
            ],
            "layout": "IPY_MODEL_6a24f1d9ed9d4f099e71cfc37b561dc5"
          }
        },
        "203ae420fe1e4426a11504a8387baa3c": {
          "model_module": "@jupyter-widgets/controls",
          "model_name": "FloatProgressModel",
          "state": {
            "_dom_classes": [],
            "_model_module": "@jupyter-widgets/controls",
            "_model_module_version": "1.5.0",
            "_model_name": "FloatProgressModel",
            "_view_count": null,
            "_view_module": "@jupyter-widgets/controls",
            "_view_module_version": "1.5.0",
            "_view_name": "ProgressView",
            "bar_style": "success",
            "description": "Downloading: 100%",
            "description_tooltip": null,
            "layout": "IPY_MODEL_6cdd630b638a47d9882405f999b2c03c",
            "max": 512,
            "min": 0,
            "orientation": "horizontal",
            "style": "IPY_MODEL_f86936aa2047481aa376f7974cde8be3",
            "value": 512
          }
        },
        "a28c1cc12bb64b7c9c0bd231eb478f02": {
          "model_module": "@jupyter-widgets/controls",
          "model_name": "HTMLModel",
          "state": {
            "_dom_classes": [],
            "_model_module": "@jupyter-widgets/controls",
            "_model_module_version": "1.5.0",
            "_model_name": "HTMLModel",
            "_view_count": null,
            "_view_module": "@jupyter-widgets/controls",
            "_view_module_version": "1.5.0",
            "_view_name": "HTMLView",
            "description": "",
            "description_tooltip": null,
            "layout": "IPY_MODEL_2f3f3f2c98c34950820df5a4f0c0ebbb",
            "placeholder": "​",
            "style": "IPY_MODEL_3d62fd30309a4e07aa23a788a2e38ff9",
            "value": " 512/512 [00:00&lt;00:00, 1.20kB/s]"
          }
        },
        "6a24f1d9ed9d4f099e71cfc37b561dc5": {
          "model_module": "@jupyter-widgets/base",
          "model_name": "LayoutModel",
          "state": {
            "_model_module": "@jupyter-widgets/base",
            "_model_module_version": "1.2.0",
            "_model_name": "LayoutModel",
            "_view_count": null,
            "_view_module": "@jupyter-widgets/base",
            "_view_module_version": "1.2.0",
            "_view_name": "LayoutView",
            "align_content": null,
            "align_items": null,
            "align_self": null,
            "border": null,
            "bottom": null,
            "display": null,
            "flex": null,
            "flex_flow": null,
            "grid_area": null,
            "grid_auto_columns": null,
            "grid_auto_flow": null,
            "grid_auto_rows": null,
            "grid_column": null,
            "grid_gap": null,
            "grid_row": null,
            "grid_template_areas": null,
            "grid_template_columns": null,
            "grid_template_rows": null,
            "height": null,
            "justify_content": null,
            "justify_items": null,
            "left": null,
            "margin": null,
            "max_height": null,
            "max_width": null,
            "min_height": null,
            "min_width": null,
            "object_fit": null,
            "object_position": null,
            "order": null,
            "overflow": null,
            "overflow_x": null,
            "overflow_y": null,
            "padding": null,
            "right": null,
            "top": null,
            "visibility": null,
            "width": null
          }
        },
        "6cdd630b638a47d9882405f999b2c03c": {
          "model_module": "@jupyter-widgets/base",
          "model_name": "LayoutModel",
          "state": {
            "_model_module": "@jupyter-widgets/base",
            "_model_module_version": "1.2.0",
            "_model_name": "LayoutModel",
            "_view_count": null,
            "_view_module": "@jupyter-widgets/base",
            "_view_module_version": "1.2.0",
            "_view_name": "LayoutView",
            "align_content": null,
            "align_items": null,
            "align_self": null,
            "border": null,
            "bottom": null,
            "display": null,
            "flex": null,
            "flex_flow": null,
            "grid_area": null,
            "grid_auto_columns": null,
            "grid_auto_flow": null,
            "grid_auto_rows": null,
            "grid_column": null,
            "grid_gap": null,
            "grid_row": null,
            "grid_template_areas": null,
            "grid_template_columns": null,
            "grid_template_rows": null,
            "height": null,
            "justify_content": null,
            "justify_items": null,
            "left": null,
            "margin": null,
            "max_height": null,
            "max_width": null,
            "min_height": null,
            "min_width": null,
            "object_fit": null,
            "object_position": null,
            "order": null,
            "overflow": null,
            "overflow_x": null,
            "overflow_y": null,
            "padding": null,
            "right": null,
            "top": null,
            "visibility": null,
            "width": null
          }
        },
        "f86936aa2047481aa376f7974cde8be3": {
          "model_module": "@jupyter-widgets/controls",
          "model_name": "ProgressStyleModel",
          "state": {
            "_model_module": "@jupyter-widgets/controls",
            "_model_module_version": "1.5.0",
            "_model_name": "ProgressStyleModel",
            "_view_count": null,
            "_view_module": "@jupyter-widgets/base",
            "_view_module_version": "1.2.0",
            "_view_name": "StyleView",
            "bar_color": null,
            "description_width": "initial"
          }
        },
        "2f3f3f2c98c34950820df5a4f0c0ebbb": {
          "model_module": "@jupyter-widgets/base",
          "model_name": "LayoutModel",
          "state": {
            "_model_module": "@jupyter-widgets/base",
            "_model_module_version": "1.2.0",
            "_model_name": "LayoutModel",
            "_view_count": null,
            "_view_module": "@jupyter-widgets/base",
            "_view_module_version": "1.2.0",
            "_view_name": "LayoutView",
            "align_content": null,
            "align_items": null,
            "align_self": null,
            "border": null,
            "bottom": null,
            "display": null,
            "flex": null,
            "flex_flow": null,
            "grid_area": null,
            "grid_auto_columns": null,
            "grid_auto_flow": null,
            "grid_auto_rows": null,
            "grid_column": null,
            "grid_gap": null,
            "grid_row": null,
            "grid_template_areas": null,
            "grid_template_columns": null,
            "grid_template_rows": null,
            "height": null,
            "justify_content": null,
            "justify_items": null,
            "left": null,
            "margin": null,
            "max_height": null,
            "max_width": null,
            "min_height": null,
            "min_width": null,
            "object_fit": null,
            "object_position": null,
            "order": null,
            "overflow": null,
            "overflow_x": null,
            "overflow_y": null,
            "padding": null,
            "right": null,
            "top": null,
            "visibility": null,
            "width": null
          }
        },
        "3d62fd30309a4e07aa23a788a2e38ff9": {
          "model_module": "@jupyter-widgets/controls",
          "model_name": "DescriptionStyleModel",
          "state": {
            "_model_module": "@jupyter-widgets/controls",
            "_model_module_version": "1.5.0",
            "_model_name": "DescriptionStyleModel",
            "_view_count": null,
            "_view_module": "@jupyter-widgets/base",
            "_view_module_version": "1.2.0",
            "_view_name": "StyleView",
            "description_width": ""
          }
        },
        "9513a099303b4520895025e5404f70a6": {
          "model_module": "@jupyter-widgets/controls",
          "model_name": "HBoxModel",
          "state": {
            "_dom_classes": [],
            "_model_module": "@jupyter-widgets/controls",
            "_model_module_version": "1.5.0",
            "_model_name": "HBoxModel",
            "_view_count": null,
            "_view_module": "@jupyter-widgets/controls",
            "_view_module_version": "1.5.0",
            "_view_name": "HBoxView",
            "box_style": "",
            "children": [
              "IPY_MODEL_439383cc6414447198e17bb42fad6ca7",
              "IPY_MODEL_8544a24582ae4096871c8dac75350778"
            ],
            "layout": "IPY_MODEL_99f49134bec94c67b291b4cad3386345"
          }
        },
        "439383cc6414447198e17bb42fad6ca7": {
          "model_module": "@jupyter-widgets/controls",
          "model_name": "FloatProgressModel",
          "state": {
            "_dom_classes": [],
            "_model_module": "@jupyter-widgets/controls",
            "_model_module_version": "1.5.0",
            "_model_name": "FloatProgressModel",
            "_view_count": null,
            "_view_module": "@jupyter-widgets/controls",
            "_view_module_version": "1.5.0",
            "_view_name": "ProgressView",
            "bar_style": "success",
            "description": "Downloading: 100%",
            "description_tooltip": null,
            "layout": "IPY_MODEL_9378eb46a217427e95725892532829d7",
            "max": 1115590446,
            "min": 0,
            "orientation": "horizontal",
            "style": "IPY_MODEL_6dfe224192704b8e9c1b0bafbf1acb1a",
            "value": 1115590446
          }
        },
        "8544a24582ae4096871c8dac75350778": {
          "model_module": "@jupyter-widgets/controls",
          "model_name": "HTMLModel",
          "state": {
            "_dom_classes": [],
            "_model_module": "@jupyter-widgets/controls",
            "_model_module_version": "1.5.0",
            "_model_name": "HTMLModel",
            "_view_count": null,
            "_view_module": "@jupyter-widgets/controls",
            "_view_module_version": "1.5.0",
            "_view_name": "HTMLView",
            "description": "",
            "description_tooltip": null,
            "layout": "IPY_MODEL_39bd5c7243d14d40b6caf32035f37166",
            "placeholder": "​",
            "style": "IPY_MODEL_de7fed662f67499e805250c6bd9b1c75",
            "value": " 1.12G/1.12G [00:21&lt;00:00, 50.9MB/s]"
          }
        },
        "99f49134bec94c67b291b4cad3386345": {
          "model_module": "@jupyter-widgets/base",
          "model_name": "LayoutModel",
          "state": {
            "_model_module": "@jupyter-widgets/base",
            "_model_module_version": "1.2.0",
            "_model_name": "LayoutModel",
            "_view_count": null,
            "_view_module": "@jupyter-widgets/base",
            "_view_module_version": "1.2.0",
            "_view_name": "LayoutView",
            "align_content": null,
            "align_items": null,
            "align_self": null,
            "border": null,
            "bottom": null,
            "display": null,
            "flex": null,
            "flex_flow": null,
            "grid_area": null,
            "grid_auto_columns": null,
            "grid_auto_flow": null,
            "grid_auto_rows": null,
            "grid_column": null,
            "grid_gap": null,
            "grid_row": null,
            "grid_template_areas": null,
            "grid_template_columns": null,
            "grid_template_rows": null,
            "height": null,
            "justify_content": null,
            "justify_items": null,
            "left": null,
            "margin": null,
            "max_height": null,
            "max_width": null,
            "min_height": null,
            "min_width": null,
            "object_fit": null,
            "object_position": null,
            "order": null,
            "overflow": null,
            "overflow_x": null,
            "overflow_y": null,
            "padding": null,
            "right": null,
            "top": null,
            "visibility": null,
            "width": null
          }
        },
        "9378eb46a217427e95725892532829d7": {
          "model_module": "@jupyter-widgets/base",
          "model_name": "LayoutModel",
          "state": {
            "_model_module": "@jupyter-widgets/base",
            "_model_module_version": "1.2.0",
            "_model_name": "LayoutModel",
            "_view_count": null,
            "_view_module": "@jupyter-widgets/base",
            "_view_module_version": "1.2.0",
            "_view_name": "LayoutView",
            "align_content": null,
            "align_items": null,
            "align_self": null,
            "border": null,
            "bottom": null,
            "display": null,
            "flex": null,
            "flex_flow": null,
            "grid_area": null,
            "grid_auto_columns": null,
            "grid_auto_flow": null,
            "grid_auto_rows": null,
            "grid_column": null,
            "grid_gap": null,
            "grid_row": null,
            "grid_template_areas": null,
            "grid_template_columns": null,
            "grid_template_rows": null,
            "height": null,
            "justify_content": null,
            "justify_items": null,
            "left": null,
            "margin": null,
            "max_height": null,
            "max_width": null,
            "min_height": null,
            "min_width": null,
            "object_fit": null,
            "object_position": null,
            "order": null,
            "overflow": null,
            "overflow_x": null,
            "overflow_y": null,
            "padding": null,
            "right": null,
            "top": null,
            "visibility": null,
            "width": null
          }
        },
        "6dfe224192704b8e9c1b0bafbf1acb1a": {
          "model_module": "@jupyter-widgets/controls",
          "model_name": "ProgressStyleModel",
          "state": {
            "_model_module": "@jupyter-widgets/controls",
            "_model_module_version": "1.5.0",
            "_model_name": "ProgressStyleModel",
            "_view_count": null,
            "_view_module": "@jupyter-widgets/base",
            "_view_module_version": "1.2.0",
            "_view_name": "StyleView",
            "bar_color": null,
            "description_width": "initial"
          }
        },
        "39bd5c7243d14d40b6caf32035f37166": {
          "model_module": "@jupyter-widgets/base",
          "model_name": "LayoutModel",
          "state": {
            "_model_module": "@jupyter-widgets/base",
            "_model_module_version": "1.2.0",
            "_model_name": "LayoutModel",
            "_view_count": null,
            "_view_module": "@jupyter-widgets/base",
            "_view_module_version": "1.2.0",
            "_view_name": "LayoutView",
            "align_content": null,
            "align_items": null,
            "align_self": null,
            "border": null,
            "bottom": null,
            "display": null,
            "flex": null,
            "flex_flow": null,
            "grid_area": null,
            "grid_auto_columns": null,
            "grid_auto_flow": null,
            "grid_auto_rows": null,
            "grid_column": null,
            "grid_gap": null,
            "grid_row": null,
            "grid_template_areas": null,
            "grid_template_columns": null,
            "grid_template_rows": null,
            "height": null,
            "justify_content": null,
            "justify_items": null,
            "left": null,
            "margin": null,
            "max_height": null,
            "max_width": null,
            "min_height": null,
            "min_width": null,
            "object_fit": null,
            "object_position": null,
            "order": null,
            "overflow": null,
            "overflow_x": null,
            "overflow_y": null,
            "padding": null,
            "right": null,
            "top": null,
            "visibility": null,
            "width": null
          }
        },
        "de7fed662f67499e805250c6bd9b1c75": {
          "model_module": "@jupyter-widgets/controls",
          "model_name": "DescriptionStyleModel",
          "state": {
            "_model_module": "@jupyter-widgets/controls",
            "_model_module_version": "1.5.0",
            "_model_name": "DescriptionStyleModel",
            "_view_count": null,
            "_view_module": "@jupyter-widgets/base",
            "_view_module_version": "1.2.0",
            "_view_name": "StyleView",
            "description_width": ""
          }
        }
      }
    }
  },
  "cells": [
    {
      "cell_type": "markdown",
      "metadata": {
        "id": "5Fzfh94kbbp2"
      },
      "source": [
        "# S1. Multilingual Models"
      ]
    },
    {
      "cell_type": "markdown",
      "metadata": {
        "id": "a1sQWz2wVUAq"
      },
      "source": [
        "\n",
        "Up to this point, our tutorials have focused almost exclusively on NLP applications using the English language. While the general algorithms and ideas extend to all languages, the huge number of resources that support English language NLP do not extend to all languages. For example, BERT and BERT-like models are an incredibly powerful tool, but model releases are almost always in English, perhaps followed by Chinese, Russian, or Western European language variants. \n",
        "\n",
        "For this reason, we're going to look at an interesting category of BERT-like models referred to as **Multilingual Models**, which help extend the power of large BERT-like models to other less prominent languages.\n"
      ]
    },
    {
      "cell_type": "markdown",
      "metadata": {
        "id": "Soge9QsV9ovi"
      },
      "source": [
        "## 1.1. Multilingual Model Approach\n"
      ]
    },
    {
      "cell_type": "markdown",
      "metadata": {
        "id": "E3XAzfgQ9qY0"
      },
      "source": [
        "Multilingual models take a rather bizarre approach to addressing multiple languages...\n",
        "\n",
        "Rather than treating each language independently, a multilingual model is *pre-trained* on text coming from a mix of languages! \n",
        "\n",
        "In this Notebook, we'll be playing with a specific multilingual model named  **XLM-R** from Facebook. \n",
        "\n",
        "While the original BERT was pre-trained on English Wikipedia and BooksCorpus (a collection of self-published books) XLM-R was pre-trained on Wikipedia and Common Crawl data from **100 different languages**! Not 100 different models trained on 100 different languages, but a *single* BERT-type model that was pre-trained on all of this text together. \n"
      ]
    },
    {
      "cell_type": "markdown",
      "metadata": {
        "id": "le4f5qp_-PTk"
      },
      "source": [
        "\n",
        "![Difference in pre-training](https://drive.google.com/uc?id=1W0NEUcNqygscj4xehwh_IIOXuMRJLEOF)\n"
      ]
    },
    {
      "cell_type": "markdown",
      "metadata": {
        "id": "N7Dd9shl_hWm"
      },
      "source": [
        "There really isn't anything here that's trying to deliberately differentiate between languages. For example, in XLM-R:\n",
        "* There is a single, shared vocabulary (with 250k tokens) to cover all 100 languages. \n",
        "* There is no special marker added to the input text to indicate what language it is.\n",
        "* We're not giving it \"parallel data\" (the same sentence in multiple languages).\n",
        "* We haven't modified the training objective to encourage it to learn how to translate. \n",
        "\n",
        "And yet, instead of predicting nonsense or having only the barest understanding of any of its many input languages, XLM-R performs surprisingly well, even compared to models trained on a single language! \n",
        "\n"
      ]
    },
    {
      "cell_type": "markdown",
      "metadata": {
        "id": "CaS7-E19Bli7"
      },
      "source": [
        "## 1.2. Cross-Lingual Transfer\n"
      ]
    },
    {
      "cell_type": "markdown",
      "metadata": {
        "id": "0ToVrFjUBps5"
      },
      "source": [
        "In this Notebook, we will apply XLM-R to a task called \"Natural Language Inferencing\" (which we'll describe in a later section). \n",
        "\n",
        "As with any BERT model, we'll download the pre-trained XLM-R weights, but before we can apply it to \"NLI\" we have to add a classification layer to the end, and then fine-tune the whole thing on *labeled* NLI examples.\n",
        "\n",
        "Here is the amazing part--we will fine-tune XLM-R  *only on English training examples*, and then apply it to a test set in *Turkish*!\n",
        "\n",
        "This impressive feat is referred to as **Zero-Shot Learning** or **Cross-Lingual Transfer**. \n",
        "\n",
        "**TODO** - Illustration?\n"
      ]
    },
    {
      "cell_type": "markdown",
      "metadata": {
        "id": "R9US9WKUbiMi"
      },
      "source": [
        "## 1.3. Why Multilingual?\n"
      ]
    },
    {
      "cell_type": "markdown",
      "metadata": {
        "id": "t0N3_dwUCuU3"
      },
      "source": [
        "\n",
        "This Multilingual approach is impressive, but couldn't Facebook have just trained and published a separate model for each of these different languages? \n",
        "\n",
        "That would probably produce the most accurate models, yes--if only there was as much text available online in every language as there is English!\n",
        "\n",
        "> A model pre-trained on text from only a single language is called **monolingual**, while those trained on text from multiple languages are called **multilingual**. \n",
        "\n",
        "The following bar plot shows, for a small selection of languages, how much text data the authors of XLM-R were able to gather for pre-training.\n"
      ]
    },
    {
      "cell_type": "markdown",
      "metadata": {
        "id": "hb3g3I1lCrdk"
      },
      "source": [
        "\n",
        "![Bar plot of training data for example languages](https://drive.google.com/uc?id=1VzrIB_5RKgVlAwEbG2sIQkhsXqm-rHaN)\n"
      ]
    },
    {
      "cell_type": "markdown",
      "metadata": {
        "id": "qvVRxTrRCsrO"
      },
      "source": [
        "\n",
        "Note that the scale is logarithmic, so there is roughly 10x more English data than Arabic or Turkish, and 1,000x more English than Yiddish.\n",
        "\n"
      ]
    },
    {
      "cell_type": "markdown",
      "metadata": {
        "id": "On9Kaxk6CTIa"
      },
      "source": [
        "## 1.4. Languages by Resource\n"
      ]
    },
    {
      "cell_type": "markdown",
      "metadata": {
        "id": "8dZeaxzCCbqo"
      },
      "source": [
        "Different languages have different amounts of training data available to create large, BERT-like models. These are referred to as **high**, **medium**, and **low-resource** languages. High-resource languages like English, Chinese, and Russian have lots of freely available text online that can be used as training data. As a result, NLP researchers have largely focused on developing large language models and benchmarks in these languages.\n",
        "\n",
        "I adapted the above bar plot from Figure 1 of the XLM-R [paper](https://arxiv.org/pdf/1911.02116.pdf). Here is their full bar plot, which shows the amount of data for 88 of the 100 languages. \n"
      ]
    },
    {
      "cell_type": "markdown",
      "metadata": {
        "id": "chdBLx0BC3ZV"
      },
      "source": [
        "\n",
        "![Bar plot of training data for 88 languages](https://drive.google.com/uc?id=1WAh9OYT2CUR5TGXGOzkn_uRVeBc0y2O_)\n"
      ]
    },
    {
      "cell_type": "markdown",
      "metadata": {
        "id": "dqxbnFVSC5Ya"
      },
      "source": [
        "\n",
        "The languages are labeled using two-letter ISO codes--you can look them up in the table [here](https://en.wikipedia.org/wiki/List_of_ISO_639-1_codes\n",
        ").\n",
        "\n",
        "Here are the first ten codes in the bar plot (note that there are another ~10 languages after German with a similar amount of data).\n",
        "\n",
        "| Code | Language        |\n",
        "|------|-----------------|\n",
        "| en   | English         |\n",
        "| ru   | Russian         |\n",
        "| id   | Indonesian      |\n",
        "| vi   | Vietnamese      |\n",
        "| fa   | Persian / Farsi |\n",
        "| uk   | Ukranian        |\n",
        "| sv   | Swedish         |\n",
        "| th   | Thai            |\n",
        "| ja   | Japanese        |\n",
        "| de   | German          |\n",
        "\n",
        "Note that this ranking of \"quantity of data\" does not match the rankings of how many *users* there are on the internet in each language. Check out [this table](https://en.wikipedia.org/wiki/Languages_used_on_the_Internet#Internet_users_by_language) on Wikipedia. Chinese (code `zh`) is number 21 in the bar plot, but by far has the most users (after English).\n",
        "\n",
        "Similarly, the amount of *effort and attention* given to different languages by NLP researchers does not follow the ranking in the bar plot--otherwise Chinese and French would be in the top 5."
      ]
    },
    {
      "cell_type": "markdown",
      "metadata": {
        "id": "_30VXDr5DoHq"
      },
      "source": [
        "## 1.5. Leveraging Machine Translation\n"
      ]
    },
    {
      "cell_type": "markdown",
      "metadata": {
        "id": "OpR2kiCevucg"
      },
      "source": [
        "It's possible to involve \"Machine Translation\" (machine learning models that automatically translate text) to try and help with this problem of limited language resources.\n",
        "\n",
        "For example, if your application is in French, here are two (different) ways  translation could be involved.\n",
        "\n",
        "Approach #1 - *French-to-English* \n",
        "* You could rely entirely on English models, and translate any and all French text in your application to English. \n",
        "\n",
        "Approach #2 - *English-to-French*: \n",
        "* During training, you could translate available English text into French, and use this translated text to augment your available French training data.\n",
        "\n",
        "These are interesting techniques (especially in high resource languages where we have good translation models), and we'd like to publish another post on this topic.\n",
        "\n",
        "Overall, though, translation has the same problems as the monolingual model approach! The best translation tools use machine learning, and have the same limitation around available training data. In other words, the translation tools for medium and low resource languages aren't good enough to be an easy solution to our problem--currently, a multilingual BERT model like XLM-R is probably the better way to go. \n"
      ]
    },
    {
      "cell_type": "markdown",
      "metadata": {
        "id": "FSKxwksLGkHm"
      },
      "source": [
        "## 1.6. Should I use Monolingual or Multilingual?\n"
      ]
    },
    {
      "cell_type": "markdown",
      "metadata": {
        "id": "2t6cSFVg3jq2"
      },
      "source": [
        "The answer is straightforward at the far ends of the spectrum of available resources:\n",
        "1. For **high-resource** languages (French, Chinese, Russian), a **monolingual** model will likely perform best.\n",
        "2. For **low-resource** languages (Yoruba, Ido, Chuvash, etc.), a monolingual model may not even exist! Multilingual models are your best place to start.\n",
        "\n",
        "**Finding Models**\n",
        "\n",
        "More and more researchers and NLP practicioners are taking the time to gather data and train and upload monolingual models in low and medium resource langauges. \n",
        "\n",
        "It's worth searching Google or huggingface [community models](https://huggingface.co/models) for your language. If something is available, good! You can see our [tutorial](http://mccormickml.com/2020/06/22/domain-specific-bert-tutorial/) for importing and using community huggingface models. If nothing is available, you should then try multilingual models, as we will demonstrate in this tutorial.\n",
        "\n",
        "**Additional Pre-Training**\n",
        "\n",
        "One way to improve the accuracy of a multilingual model is to continue pre-training the model with text from the language(s) you're interested in using. Remember that pre-training is an unsupervised process, and all you need is raw text. See our [tutorial](https://www.chrismccormick.ai/offers/CfBWiVHe) for how to continue pretraining a language model on additional data."
      ]
    },
    {
      "cell_type": "markdown",
      "metadata": {
        "id": "45dyUwvYMQHH"
      },
      "source": [
        "# S2. Example Dataset"
      ]
    },
    {
      "cell_type": "markdown",
      "metadata": {
        "id": "NM8blQm-QrVN"
      },
      "source": [
        "## 2.1. Natural Language Inferencing"
      ]
    },
    {
      "cell_type": "markdown",
      "metadata": {
        "id": "vSqPoH8rQOjz"
      },
      "source": [
        "To illustrate the use of a multilingual model, we are going to apply the XLM-Roberta model to a task called **Natural Language Inferencing (NLI)**.\n",
        "\n",
        "In NLI, we are given two sentences: (1) a \"premise\" and (2) a \"hypothesis\" and asked to determine whether:\n",
        "* 2 follows logically from 1 (This is called \"**entailment**\")\n",
        "* 2 contradicts 1 (\"contradiction\")\n",
        "* 2 has no effect on 1 (\"neutral\") \n",
        "\n",
        "Here are some examples:\n",
        "\n",
        "|  Premise |  Label | Hypothesis  |\n",
        "|---|---|---|\n",
        "| The man inspects his uniform.  |  Contradiction |  The man is sleeping. |\n",
        "| An older and younger man smiling.  | Neutral  | Two men are smiling and laughing at the cats.  |\n",
        "| A soccer game with multiple males playing.  | Entailment  | Some men are playing a sport.  |\n",
        "\n",
        "> As I understand it, NLI is primarily a *benchmarking task* rather than a practical application--it requires the model to develop some sophisticated skills, so we use it to evaluate and benchmark models like BERT.\n",
        "\n",
        "We'll actually be using a combination of two datasets named \"MNLI\" and \"XNLI\".\n",
        "\n",
        "MNLI will provide us with a large number of English training examples to fine-tune XLM-Roberta on the general task of NLI. \n",
        "\n",
        "XNLI will provide us with a small number of NLI test examples *in different languages*. We're going to take our XLM-Roberta model (which we have fine-tuned only on English NLI examples) and apply it to the **Turkish** test cases from XNLI. We won't be doing any fine-tuning of the model on Turkish!\n"
      ]
    },
    {
      "cell_type": "markdown",
      "metadata": {
        "id": "ap5uM18hQ4q6"
      },
      "source": [
        "## 2.2. Overview of MNLI and XNLI"
      ]
    },
    {
      "cell_type": "markdown",
      "metadata": {
        "id": "D5unS3Q1Q7TT"
      },
      "source": [
        "**About MNLI**\n",
        "\n",
        "The **[Multi-Genre Natural Language Inference](https://cims.nyu.edu/~sbowman/multinli/)** (MultiNLI or MNLI) corpus was published in 2018, and is a collection of more than 400,000 *English* sentence pairs annotated with textual entailment information. \n",
        "\n",
        "> In MNLI, 'Multi' refers to Multi-Genre, not Multilingual. Confusing, I know! It's called \"Multi-Genre\" because it is intended as a successor to the Stanford NLI corpus (SNLI), which is composed entirely of somewhat simple sentences drawn from image captions. MNLI increases the difficulty of the task by adding multiple and more difficult \"genres\" of text like transcribed conversations, government documents, travel guides, etc. \n",
        "\n",
        "This corpus contains 392,000 training examples, 20,000 \"development examples\" (test samples to use while developing your model), and 20,000 \"test examples\"(the final test set on which benchmark scores are reported).\n"
      ]
    },
    {
      "cell_type": "markdown",
      "metadata": {
        "id": "PFr1bGxWCn8q"
      },
      "source": [
        "\n",
        "**About XNLI**\n",
        "\n",
        "\"XNLI\" stands for Cross-lingual Natural Language Inference corpus. The paper ([here](https://arxiv.org/pdf/1809.05053.pdf)) was first submitted to [arXiv](https://arxiv.org/abs/1809.05053) in September, 2018. \n",
        "\n",
        "This dataset consists of a smaller subset of examples from the MLNI dataset which have been human-translated to 14 different languages (for a total of 15 languages, if you include English): \n",
        "\n",
        "| Index | Code | Language   |\n",
        "|-------|------|------------|\n",
        "| 0     | ar   | Arabic     |\n",
        "| 1     | bg   | Bulgarian  |\n",
        "| 2     | de   | German     |\n",
        "| 3     | el   | Greek      |\n",
        "| 4     | en   | English    |\n",
        "| 5     | es   | Spanish    |\n",
        "| 6     | fr   | French     |\n",
        "| 7     | hi   | Hindi      |\n",
        "| 8     | ru   | Russian    |\n",
        "| 9     | sw   | Swahili    |\n",
        "| 10    | th   | Thai       |\n",
        "| 11    | tr   | Turkish    |\n",
        "| 12    | ur   | Urdu       |\n",
        "| 13    | vi   | Vietnamese |\n",
        "| 14    | zh   | Chinese    |\n",
        "\n",
        "XNLI does not provide training data for these different languages, so it's intended as a benchmark for the crosslingual approach that we will be taking here. \n",
        "\n",
        "For each language there are 5,000 test set sentence pairs and 2,500 development set sentence pairs.\n",
        "\n",
        "> [Sam Bowman](https://cims.nyu.edu/~sbowman/) at NYU was behind both the MNLI and XNLI datasets. XNLI was done as a collaboration with Facebook. \n",
        "\n",
        "\n"
      ]
    },
    {
      "cell_type": "markdown",
      "metadata": {
        "id": "wTOvJUn4MREm"
      },
      "source": [
        "## 2.3. Download and Inspect Datasets\n"
      ]
    },
    {
      "cell_type": "markdown",
      "metadata": {
        "id": "a5UxObkWDutE"
      },
      "source": [
        "\n",
        "We'll be using PyTorch and the huggingface `transformers` library for this Notebook. However, we are going to load the MNLI and XNLI datasets using `tfds` (tensorflow datasets), simply because it provides a simple and convenient way of retrieving the dataset. \n",
        "\n",
        "> *If you're not familiar with `tfds`, it's worth checking out--it offers a large catalog of popular machine learning benchmark datasets for you to experiment with. You can browse the catalog and guide [here](https://www.tensorflow.org/datasets/catalog/overview) and check out our quick Colab tutorial on downloading the data [here](https://colab.research.google.com/drive/1Qwbw9se6uE1Ib8_sMToTF3lh7qqXVC8B).*"
      ]
    },
    {
      "cell_type": "code",
      "metadata": {
        "id": "iaAqNZAgwS4R"
      },
      "source": [
        "# Import tfds and tensorflow\n",
        "import tensorflow as tf\n",
        "import tensorflow_datasets as tfds"
      ],
      "execution_count": null,
      "outputs": []
    },
    {
      "cell_type": "code",
      "metadata": {
        "id": "b3zJefkR6WHR"
      },
      "source": [
        "# Utilities\r\n",
        "from time import time\r\n",
        "from PIL import Image\r\n",
        "from zipfile import ZipFile\r\n",
        "import os, sys, itertools, re\r\n",
        "import warnings, pickle, string"
      ],
      "execution_count": null,
      "outputs": []
    },
    {
      "cell_type": "code",
      "metadata": {
        "colab": {
          "base_uri": "https://localhost:8080/"
        },
        "id": "WlB4B8sJ6itR",
        "outputId": "adab7225-ee13-4bb1-f9d4-a0fa54d7a58f"
      },
      "source": [
        "# Block which runs on both Google Colab and Local PC without any modification\r\n",
        "if 'google.colab' in sys.modules:    \r\n",
        "    project_path = \"/content/drive/My Drive/\"\r\n",
        "    # Google Colab lib\r\n",
        "    from google.colab import drive\r\n",
        "    # Mount the drive\r\n",
        "    drive.mount('/content/drive/', force_remount=True)\r\n",
        "    sys.path.append(project_path)\r\n",
        "    %cd $project_path\r\n",
        "\r\n",
        "# Let's look at the sys path\r\n",
        "print('Current working directory', os.getcwd())"
      ],
      "execution_count": null,
      "outputs": [
        {
          "output_type": "stream",
          "text": [
            "Mounted at /content/drive/\n",
            "/content/drive/My Drive\n",
            "Current working directory /content/drive/My Drive\n"
          ],
          "name": "stdout"
        }
      ]
    },
    {
      "cell_type": "code",
      "metadata": {
        "id": "Z7KVbglp6iye"
      },
      "source": [
        ""
      ],
      "execution_count": null,
      "outputs": []
    },
    {
      "cell_type": "markdown",
      "metadata": {
        "id": "_IiK6yLwe0qz"
      },
      "source": [
        "### MNLI"
      ]
    },
    {
      "cell_type": "code",
      "metadata": {
        "id": "3SW4u60R6hsH"
      },
      "source": [
        ""
      ],
      "execution_count": null,
      "outputs": []
    },
    {
      "cell_type": "markdown",
      "metadata": {
        "id": "KmEYbOgQMF2F"
      },
      "source": [
        "The MNLI dataset is large (over 400k samples!), which can make training slow. Because of this, we'll take a smaller sample of the dataset so that we can run fine-tuning in a reasonable amount of time."
      ]
    },
    {
      "cell_type": "code",
      "metadata": {
        "colab": {
          "base_uri": "https://localhost:8080/",
          "height": 450,
          "referenced_widgets": [
            "93e4e9b12a154ec88e20f1aa7f521ccd",
            "e7f71479de13433aa3e7d48be8c7bdec",
            "5116c3d3160a4c39a5cb522cb7781b2f",
            "bf18a22b185f4952a827313a0940fa54",
            "31674342b8344b51b469e395b9005246",
            "dd18489f46c246fbb0e327e6b9c21df7",
            "b97fa7ebddb749d4a9659be02d2eebf6",
            "76d7f720b7d84e84810e64ca49b62ad8",
            "a7abd052cc124b749e2c45ad1afef524",
            "db6a22919540482ab599229bb5855e2e",
            "882f4f6e61d3406da1c3111bf3b8e37d",
            "340ca12a3d6e42d0ac5ceea93149055f",
            "43af3d4bf92947d19557b38bc0eb0666",
            "a2a0c7c187b24c4b8912af24576bb4e2",
            "0ecc70d148b9469ea5ea1b9559c9c640",
            "23095ad224be430ca6da33ef62fc3a6e",
            "65ccb4389d0346e2b6ca41abd08f7434",
            "c0ea34d6fef94d838d63d8f2194ac247",
            "ea1dc15138be4770b5113a56239d7091",
            "a2aaae81dfcf4475b79b201ee06a2e4b",
            "f7a1c734d68f460482def2a1866f4266",
            "f39a183556384fa2a74ec2e6f4a1761c",
            "c70bac2fe33140769d03bc693cbcd1be",
            "22e09214907642f69cb643b539858fbd",
            "1a3395c1d8ec4c81afa86a67487c700f",
            "16f4daec430f4217809983638223292e",
            "b268b889da824121b78e4c4c787082de",
            "61fcdd5c91ae4ebcb2b500f68b8913ee",
            "ccc9b6bc2e8f4da28642b5a6a7f6e74b",
            "a30c8237de1e43f5bd6b3274086c7a56",
            "114ca21b51e84536a77c7b92ca0d7a62",
            "aaeb90e06adc4e8db586f4c8f37e030e",
            "961cd26955014df697be35aec70e3299",
            "da22d77d479e4f6d9846a4c49717032d",
            "49f76b5a4dc74df1be6d745a0f189dbd",
            "a9f53525ae9b401b9226057ee44c88d2",
            "e1c6bd2a9d2b416692fad6e444db7258",
            "26282e5b2a51496480e94f28b1fc7458",
            "22b08431a2864017b31fea9c88301d04",
            "afe611c1d1fa475ab707f9ce348d44a4",
            "228fd027756843c9873b4609d5146bbd",
            "7abbbdd73b5844d79616abb45f7cae20",
            "49d4efe40be5438bad3e47d8874a8d83",
            "a369c6c17f6f46c380810386669efaa3",
            "4a1c9003e8b146fc983a227f45d7d433",
            "ff12cd4185e349bdb4f1fa9848859f15",
            "8e2c5d5ad9e74488aea021e6d2b0496a",
            "a918ee2472674c1db5a62906127d7823",
            "cdf1fd7e933244e6a03789193bee3efd",
            "3ce80eee30bf4574b27ffa31e4bd3f8f",
            "54a2723d4e2e47fab18c9ce81723179a",
            "60ffb8f06f5d400cb24722c5e78c41bf",
            "1c97234ec1534c40b5e05cae441825df",
            "08d457f10b824d3ab84b2b55f1958f7f",
            "0c0644cd8da74891b571de98271f19f9",
            "9eee296a3e35494a8d2f05b8ddfc7200",
            "bed4f7fc1cba4a539510ce8fde4cf978",
            "13fdc20abb9f4e5fad864426f803ef55",
            "05f1f2bc7ab140e6b4c0c5160bee2904",
            "e618dbc28268491b9931a54243deb2da",
            "e2a207d8befd4f54be1315c360e38099",
            "a1b6101fb7024444947351826c76c39c",
            "af79127a172c4f299a0942f88ba85b28",
            "dbfb996a31b94b6d9e64667a775aa70d",
            "0326cdf9f1614063b1b8387bc1670b5a",
            "61f55a5c066a441381b6407d492992d3",
            "c6b9c444e3604f8f9095f8928eec8e00",
            "e660ebf4e0ba455ebc5a5f8d7000038e",
            "3a2c01285e11411ebbce3f18d45edf80",
            "26a2b5aab3fa406c8e6eb702c6b95656",
            "a10483a2d98c4a078264003ad0ae054f",
            "5fbd47eaaeef41d0a8df55f0194c11dd"
          ]
        },
        "id": "j4wVPSUWwS2a",
        "outputId": "9cba2d06-2e04-475c-8f8d-449ffe54bd4a"
      },
      "source": [
        "# Download the training data for the Multi-Genre NLI dataset \n",
        "# Note that this dataset is all English! \n",
        "\n",
        "# Take 10,000 samples\n",
        "#mnli_dataset = tfds.load(name=\"multi_nli\", split=\"train[:10000]\")\n",
        "\n",
        "# Take 40,000 samples\n",
        "mnli_dataset = tfds.load(name=\"multi_nli\", split=\"train[:10000]\")"
      ],
      "execution_count": null,
      "outputs": [
        {
          "output_type": "stream",
          "text": [
            "\u001b[1mDownloading and preparing dataset multi_nli/plain_text/1.0.0 (download: 216.34 MiB, generated: Unknown size, total: 216.34 MiB) to /root/tensorflow_datasets/multi_nli/plain_text/1.0.0...\u001b[0m\n"
          ],
          "name": "stdout"
        },
        {
          "output_type": "display_data",
          "data": {
            "application/vnd.jupyter.widget-view+json": {
              "model_id": "93e4e9b12a154ec88e20f1aa7f521ccd",
              "version_major": 2,
              "version_minor": 0
            },
            "text/plain": [
              "HBox(children=(FloatProgress(value=1.0, bar_style='info', description='Dl Completed...', max=1.0, style=Progre…"
            ]
          },
          "metadata": {
            "tags": []
          }
        },
        {
          "output_type": "display_data",
          "data": {
            "application/vnd.jupyter.widget-view+json": {
              "model_id": "a7abd052cc124b749e2c45ad1afef524",
              "version_major": 2,
              "version_minor": 0
            },
            "text/plain": [
              "HBox(children=(FloatProgress(value=1.0, bar_style='info', description='Dl Size...', max=1.0, style=ProgressSty…"
            ]
          },
          "metadata": {
            "tags": []
          }
        },
        {
          "output_type": "display_data",
          "data": {
            "application/vnd.jupyter.widget-view+json": {
              "model_id": "65ccb4389d0346e2b6ca41abd08f7434",
              "version_major": 2,
              "version_minor": 0
            },
            "text/plain": [
              "HBox(children=(FloatProgress(value=1.0, bar_style='info', description='Extraction completed...', max=1.0, styl…"
            ]
          },
          "metadata": {
            "tags": []
          }
        },
        {
          "output_type": "stream",
          "text": [
            "\n",
            "\n",
            "\n",
            "\n",
            "\n",
            "\n"
          ],
          "name": "stdout"
        },
        {
          "output_type": "display_data",
          "data": {
            "application/vnd.jupyter.widget-view+json": {
              "model_id": "1a3395c1d8ec4c81afa86a67487c700f",
              "version_major": 2,
              "version_minor": 0
            },
            "text/plain": [
              "HBox(children=(FloatProgress(value=1.0, bar_style='info', max=1.0), HTML(value='')))"
            ]
          },
          "metadata": {
            "tags": []
          }
        },
        {
          "output_type": "stream",
          "text": [
            "\rShuffling and writing examples to /root/tensorflow_datasets/multi_nli/plain_text/1.0.0.incompleteHEIWZM/multi_nli-train.tfrecord\n"
          ],
          "name": "stdout"
        },
        {
          "output_type": "display_data",
          "data": {
            "application/vnd.jupyter.widget-view+json": {
              "model_id": "961cd26955014df697be35aec70e3299",
              "version_major": 2,
              "version_minor": 0
            },
            "text/plain": [
              "HBox(children=(FloatProgress(value=0.0, max=392702.0), HTML(value='')))"
            ]
          },
          "metadata": {
            "tags": []
          }
        },
        {
          "output_type": "stream",
          "text": [
            "\r"
          ],
          "name": "stdout"
        },
        {
          "output_type": "display_data",
          "data": {
            "application/vnd.jupyter.widget-view+json": {
              "model_id": "228fd027756843c9873b4609d5146bbd",
              "version_major": 2,
              "version_minor": 0
            },
            "text/plain": [
              "HBox(children=(FloatProgress(value=1.0, bar_style='info', max=1.0), HTML(value='')))"
            ]
          },
          "metadata": {
            "tags": []
          }
        },
        {
          "output_type": "stream",
          "text": [
            "\rShuffling and writing examples to /root/tensorflow_datasets/multi_nli/plain_text/1.0.0.incompleteHEIWZM/multi_nli-validation_matched.tfrecord\n"
          ],
          "name": "stdout"
        },
        {
          "output_type": "display_data",
          "data": {
            "application/vnd.jupyter.widget-view+json": {
              "model_id": "cdf1fd7e933244e6a03789193bee3efd",
              "version_major": 2,
              "version_minor": 0
            },
            "text/plain": [
              "HBox(children=(FloatProgress(value=0.0, max=9815.0), HTML(value='')))"
            ]
          },
          "metadata": {
            "tags": []
          }
        },
        {
          "output_type": "stream",
          "text": [
            "\r"
          ],
          "name": "stdout"
        },
        {
          "output_type": "display_data",
          "data": {
            "application/vnd.jupyter.widget-view+json": {
              "model_id": "bed4f7fc1cba4a539510ce8fde4cf978",
              "version_major": 2,
              "version_minor": 0
            },
            "text/plain": [
              "HBox(children=(FloatProgress(value=1.0, bar_style='info', max=1.0), HTML(value='')))"
            ]
          },
          "metadata": {
            "tags": []
          }
        },
        {
          "output_type": "stream",
          "text": [
            "\rShuffling and writing examples to /root/tensorflow_datasets/multi_nli/plain_text/1.0.0.incompleteHEIWZM/multi_nli-validation_mismatched.tfrecord\n"
          ],
          "name": "stdout"
        },
        {
          "output_type": "display_data",
          "data": {
            "application/vnd.jupyter.widget-view+json": {
              "model_id": "0326cdf9f1614063b1b8387bc1670b5a",
              "version_major": 2,
              "version_minor": 0
            },
            "text/plain": [
              "HBox(children=(FloatProgress(value=0.0, max=9832.0), HTML(value='')))"
            ]
          },
          "metadata": {
            "tags": []
          }
        },
        {
          "output_type": "stream",
          "text": [
            "WARNING:absl:Dataset is using deprecated text encoder API which will be removed soon. Please use the plain_text version of the dataset and migrate to `tensorflow_text`.\n",
            "WARNING:absl:Dataset is using deprecated text encoder API which will be removed soon. Please use the plain_text version of the dataset and migrate to `tensorflow_text`.\n"
          ],
          "name": "stderr"
        },
        {
          "output_type": "stream",
          "text": [
            "\u001b[1mDataset multi_nli downloaded and prepared to /root/tensorflow_datasets/multi_nli/plain_text/1.0.0. Subsequent calls will reuse this data.\u001b[0m\n"
          ],
          "name": "stdout"
        }
      ]
    },
    {
      "cell_type": "code",
      "metadata": {
        "colab": {
          "base_uri": "https://localhost:8080/"
        },
        "id": "GZjD85d3cz_B",
        "outputId": "69a78247-5426-4e1c-9b96-9d6b741a5cd2"
      },
      "source": [
        "mnli_dataset"
      ],
      "execution_count": null,
      "outputs": [
        {
          "output_type": "execute_result",
          "data": {
            "text/plain": [
              "<PrefetchDataset shapes: {hypothesis: (), label: (), premise: ()}, types: {hypothesis: tf.string, label: tf.int64, premise: tf.string}>"
            ]
          },
          "metadata": {
            "tags": []
          },
          "execution_count": 9
        }
      ]
    },
    {
      "cell_type": "code",
      "metadata": {
        "colab": {
          "base_uri": "https://localhost:8080/"
        },
        "id": "Mt9j3TRYc6SO",
        "outputId": "4de08dbe-634e-42a8-e3eb-7365d013cb5b"
      },
      "source": [
        "for i in mnli_dataset.shuffle(256).take(20):\r\n",
        "  print (i['label'].numpy(), i['premise'].numpy())"
      ],
      "execution_count": null,
      "outputs": [
        {
          "output_type": "stream",
          "text": [
            "2 b\"I think it is...an enjoyable activity.'\"\n",
            "1 b'and um who are the other two he stole two associates'\n",
            "1 b\"oh the the Dodgers the Dodgers have got an interesting thing they've got this uh rookie pitcher what's it Martinez his name that uh that pitched a bunch of innings last year as a nineteen or twenty year old year old and they were using what happened to Valenzuela as an example that they should be careful and not over work him this early of course i was really uh\"\n",
            "0 b\"Reachable only by boat until recently, they are linked by a network of ancient cliffside mule paths that provide some of Italy's loveliest treks.\"\n",
            "2 b'Vardhamana Mahavira was its founder.'\n",
            "0 b'Their arcades, fluted pillars, and mosaic tiles are teetering on last legs, praying for restoration miracles.'\n",
            "2 b'The palace stands at the head of the wide Durbar Marg avenue leading south.'\n",
            "1 b'Russia invaded Poland and in 1792-1793 it, along with Prussia, imposed a second partition of Poland, annulling the constitution and essentially divying up the country between them.'\n",
            "0 b\"well it's kind of it's kind of like reading magazines any more If half of the time wasn't spent watching commercials it probably wouldn't be so bad but uh it it's you're missing an awful lot i'd rather personally rather watch\"\n",
            "0 b\"the actor that plays Jim Morrison's one of the other uh\"\n",
            "0 b\"It's stewed in a large frying pan and traditionally eaten on a kind of pancake.\"\n",
            "0 b'Or is there seriousness underneath the mordancy?'\n",
            "1 b\"and he spends well right now he's down to like once a week but he was going over there several times a week to meet with the family and help them with the language and he thoroughly enjoyed it\"\n",
            "0 b'They sat and stared at the black-eyed sharp-toothed monsters who littered the earth.'\n",
            "1 b\"The nearby Arch of Constantine celebrates the fourth-century emperor's battlefield conversion to Christianity.\"\n",
            "1 b'yeah absolutely i think the republic rats have uh driven this country downhill for too long'\n",
            "0 b'We ask nothing but food and shelter.'\n",
            "0 b'Up in the hills behind CaleSant Vicenc a rough hike over difficult terrain is a cave called Es Cuieram (see also pages 14-15).'\n",
            "1 b'They ruled the 79 towns of medieval Provence and their impregnable fortress became a center of courtly love prized by traveling troubadours.'\n",
            "1 b'Participants stated that the disclosures must be made more understandable.'\n"
          ],
          "name": "stdout"
        }
      ]
    },
    {
      "cell_type": "markdown",
      "metadata": {
        "id": "XjYsfQhcOCAE"
      },
      "source": [
        "For MNLI and XNLI, the labels are as follows:\n",
        "- 0 = entailment\n",
        "- 1 = neutral\n",
        "- 2 = contradiction\n",
        "\n",
        "Let's take a look at an example from MNLI:\n",
        "\n",
        "\n",
        "\n"
      ]
    },
    {
      "cell_type": "code",
      "metadata": {
        "colab": {
          "base_uri": "https://localhost:8080/"
        },
        "id": "MTI4kj7jwS00",
        "outputId": "4f3ea853-9cca-4c14-9025-e9f2f8c4069d"
      },
      "source": [
        "import textwrap\n",
        "\n",
        "# Wrap text to 80 characters.\n",
        "wrapper = textwrap.TextWrapper(width=80, initial_indent='    ', \n",
        "                               subsequent_indent='    ') \n",
        "\n",
        "# To help interpret the labels, define a map from label ID to type.\n",
        "label_names = ['entailment', 'neutral', 'contradiction']\n",
        "\n",
        "# Retrieve a few random examples.\n",
        "for ex in mnli_dataset.shuffle(buffer_size=256).take(count=3):\n",
        "  \n",
        "    # 'ex' is a Python dictionary representing one example, with three fields.\n",
        "    \n",
        "    # The fields are Tensors, so we call `numpy` to cast them to\n",
        "    # basic types, and then `decode` to convert from bytes to strings.\n",
        "    premise = ex['premise'].numpy().decode(\"utf-8\")\n",
        "    hypothesis = ex['hypothesis'].numpy().decode(\"utf-8\")\n",
        "\n",
        "    print(\"Premise:\")\n",
        "    print(wrapper.fill(premise))\n",
        "    \n",
        "    print(\"Hypothesis:\")\n",
        "    print(wrapper.fill(hypothesis))\n",
        "  \n",
        "    # Retrieve the label value for this example, and look up the label name.\n",
        "    label = ex['label'].numpy()\n",
        "    label_name = label_names[label]\n",
        "\n",
        "    print(\"Label:\")\n",
        "    print(\"    {:} ({:})\".format(label, label_name))\n",
        "\n",
        "    print('\\n----------------\\n')\n",
        "\n"
      ],
      "execution_count": null,
      "outputs": [
        {
          "output_type": "stream",
          "text": [
            "Premise:\n",
            "    According to the New York Times , a congressional report accuses the\n",
            "    Pentagon of funding a top-secret Air Force program, an $800 million\n",
            "    satellite, a high-tech missile defense system previously rejected by\n",
            "    Congress, and other unapproved purchases.\n",
            "Hypothesis:\n",
            "    The Pentagon is funding many unapproved purchases according to a\n",
            "    congressional report.\n",
            "Label:\n",
            "    0 (entailment)\n",
            "\n",
            "----------------\n",
            "\n",
            "Premise:\n",
            "    But I am there at the desk at 11:01.\n",
            "Hypothesis:\n",
            "    I sat at the desk at 11:01pm.\n",
            "Label:\n",
            "    1 (neutral)\n",
            "\n",
            "----------------\n",
            "\n",
            "Premise:\n",
            "    They really like that, Contreras said.\n",
            "Hypothesis:\n",
            "    Contreras told us it was not appreciated.\n",
            "Label:\n",
            "    2 (contradiction)\n",
            "\n",
            "----------------\n",
            "\n"
          ],
          "name": "stdout"
        }
      ]
    },
    {
      "cell_type": "markdown",
      "metadata": {
        "id": "wXvY_WGvS7AG"
      },
      "source": [
        "In each example, the hypothesis sentence following the premise sentence is either entailed, a contradiction, or neutral. \n",
        "\n",
        "It's worth noting that many of these examples are ambiguous, and even the human labelers disagreed about some of them--especially in cases where the hypothesis is borderline neutral. Despite that, BERT models still perform very well on this benchmark! "
      ]
    },
    {
      "cell_type": "markdown",
      "metadata": {
        "id": "8BxqTQsDSHKI"
      },
      "source": [
        "### XNLI\n",
        "\n"
      ]
    },
    {
      "cell_type": "code",
      "metadata": {
        "colab": {
          "base_uri": "https://localhost:8080/",
          "height": 367,
          "referenced_widgets": [
            "6b390ea4f51245498ded8264057830f6",
            "97508676b6a34768b5c0776875b07d03",
            "6c54d5afe21d4694b79c215a149f3498",
            "b29e72778cd74d1dbf10c350cdeb9354",
            "fe0a34da4da84c249d6fc395c4e77f01",
            "4b1f3c53828e47e5a0bbc30d0202ac4c",
            "ffe3b200d89c4262b5de166574d72696",
            "671562846f1b4638a2e09fa2b2957ee9",
            "52c6e4c4e8c94098b48a047e6d335bd6",
            "b787f21b8e9844909f83189d5b6b2288",
            "c0e06352b555486e9a1b206432db799a",
            "91345cf6edb040cc803e0956ba0ac7be",
            "ccc79c61442b48f79f859fb0d52fbc86",
            "01b50439de5d4d2e8e2ad2acd3f69909",
            "1ff15829563b48bb994bb7a02a37a1b5",
            "8f5441d6c30d4bbca78f3920e20e2a55",
            "f4ecd403268b4626bc84cf26fd167033",
            "5b758937574149d790776d0ed6c69f80",
            "4051cf814ea44bdcb6610808466f5e45",
            "2f8e4654a7e44a9e8a5b6bc3e3407cb1",
            "59ff220bc5474a7aa5243fbd50685257",
            "f3a3c7b425e748eab398a4fa579152ec",
            "538b8204f5c94752841e8b1f9ef980fa",
            "70d19664489d4f69bcaaf7c61a6c0dc5",
            "844bef87856f4542831506c7cc7f06b0",
            "ad978f74d1254b38bb0dc5155c522a1c",
            "bff2219672e54b9bac557b6fdcf853b9",
            "7d72f6fea236480aa6b3e2079eb22135",
            "384412f87d1446eb8cab3e88bfd90417",
            "e577201955e4430d9a19162642700d1c",
            "54255c7b8f7148619fa142fbe0b076bf",
            "7f3304b07ed34f4781a4ee756819f5b6",
            "fb27ccb2af76439d9df24a0a0a44f7e3",
            "4386219908d5434c9499a27702d5b4f6",
            "1b3aad50a88444248a5ccdc6d7a5ac4e",
            "61792fda6ef9428aad1bd326d61a176c",
            "5960965378bc434e8713581715fe0bd2",
            "3c604d86852e436abd4926becf0cd053",
            "bd30b82f10cf4aa782b28a2d3f0a4725",
            "8e007263f4ed401dba7dceb4c0c1e14a",
            "bee5c529f33c49acbc53ec0a64b8e21d",
            "ba662bb9110a4358921a9e201fa224b8",
            "eac31f67af7d4a1bae68d97d8d8f7f85",
            "27aa898fdb4e46c9823c4feb9dbdd021",
            "730b3821c4fe4cdc9469d5dfdedf3b96",
            "fee5f2a7c11b451da3acd3833a256f17",
            "b2583ce1be81460ba81b35f63b32f0f2",
            "2c4286a28b8d45b6b46d7f1a69004c76",
            "59399f0497594069a1f9a17e6766ae25",
            "afe34797f8a846da957b9579825aeaf7",
            "a2e988d9946e40239f3c1b0be0e254b5",
            "aae5fb6fcf2c4e448c0382f5c4fbaa13",
            "68a4fbeb3b614aa2ac9b8dfc9621c042",
            "c9f218b111704c56b9073fa649afbc2e",
            "5aacb795a09e4bc2830399198ab7d9de",
            "df7592f670af42968eb7237e8d74cfa7"
          ]
        },
        "id": "n_55hG4XK1kV",
        "outputId": "d432ac43-2d69-40ba-b7fe-8a5d568d32cb"
      },
      "source": [
        "# Retrieve the test set sentence pairs (contains all 14 languages!)\n",
        "xnli_dataset = tfds.load(name='xnli', split=\"test\")"
      ],
      "execution_count": null,
      "outputs": [
        {
          "output_type": "stream",
          "text": [
            "\u001b[1mDownloading and preparing dataset xnli/1.1.0 (download: 17.04 MiB, generated: 29.62 MiB, total: 46.65 MiB) to /root/tensorflow_datasets/xnli/1.1.0...\u001b[0m\n"
          ],
          "name": "stdout"
        },
        {
          "output_type": "display_data",
          "data": {
            "application/vnd.jupyter.widget-view+json": {
              "model_id": "6b390ea4f51245498ded8264057830f6",
              "version_major": 2,
              "version_minor": 0
            },
            "text/plain": [
              "HBox(children=(FloatProgress(value=1.0, bar_style='info', description='Dl Completed...', max=1.0, style=Progre…"
            ]
          },
          "metadata": {
            "tags": []
          }
        },
        {
          "output_type": "display_data",
          "data": {
            "application/vnd.jupyter.widget-view+json": {
              "model_id": "52c6e4c4e8c94098b48a047e6d335bd6",
              "version_major": 2,
              "version_minor": 0
            },
            "text/plain": [
              "HBox(children=(FloatProgress(value=1.0, bar_style='info', description='Dl Size...', max=1.0, style=ProgressSty…"
            ]
          },
          "metadata": {
            "tags": []
          }
        },
        {
          "output_type": "display_data",
          "data": {
            "application/vnd.jupyter.widget-view+json": {
              "model_id": "f4ecd403268b4626bc84cf26fd167033",
              "version_major": 2,
              "version_minor": 0
            },
            "text/plain": [
              "HBox(children=(FloatProgress(value=1.0, bar_style='info', description='Extraction completed...', max=1.0, styl…"
            ]
          },
          "metadata": {
            "tags": []
          }
        },
        {
          "output_type": "stream",
          "text": [
            "\n",
            "\n",
            "\n",
            "\n",
            "\n",
            "\n"
          ],
          "name": "stdout"
        },
        {
          "output_type": "display_data",
          "data": {
            "application/vnd.jupyter.widget-view+json": {
              "model_id": "844bef87856f4542831506c7cc7f06b0",
              "version_major": 2,
              "version_minor": 0
            },
            "text/plain": [
              "HBox(children=(FloatProgress(value=1.0, bar_style='info', max=1.0), HTML(value='')))"
            ]
          },
          "metadata": {
            "tags": []
          }
        },
        {
          "output_type": "stream",
          "text": [
            "\rShuffling and writing examples to /root/tensorflow_datasets/xnli/1.1.0.incompleteBXWEDS/xnli-test.tfrecord\n"
          ],
          "name": "stdout"
        },
        {
          "output_type": "display_data",
          "data": {
            "application/vnd.jupyter.widget-view+json": {
              "model_id": "fb27ccb2af76439d9df24a0a0a44f7e3",
              "version_major": 2,
              "version_minor": 0
            },
            "text/plain": [
              "HBox(children=(FloatProgress(value=0.0, max=5010.0), HTML(value='')))"
            ]
          },
          "metadata": {
            "tags": []
          }
        },
        {
          "output_type": "stream",
          "text": [
            "\r"
          ],
          "name": "stdout"
        },
        {
          "output_type": "display_data",
          "data": {
            "application/vnd.jupyter.widget-view+json": {
              "model_id": "bee5c529f33c49acbc53ec0a64b8e21d",
              "version_major": 2,
              "version_minor": 0
            },
            "text/plain": [
              "HBox(children=(FloatProgress(value=1.0, bar_style='info', max=1.0), HTML(value='')))"
            ]
          },
          "metadata": {
            "tags": []
          }
        },
        {
          "output_type": "stream",
          "text": [
            "\rShuffling and writing examples to /root/tensorflow_datasets/xnli/1.1.0.incompleteBXWEDS/xnli-validation.tfrecord\n"
          ],
          "name": "stdout"
        },
        {
          "output_type": "display_data",
          "data": {
            "application/vnd.jupyter.widget-view+json": {
              "model_id": "59399f0497594069a1f9a17e6766ae25",
              "version_major": 2,
              "version_minor": 0
            },
            "text/plain": [
              "HBox(children=(FloatProgress(value=0.0, max=2490.0), HTML(value='')))"
            ]
          },
          "metadata": {
            "tags": []
          }
        },
        {
          "output_type": "stream",
          "text": [
            "\u001b[1mDataset xnli downloaded and prepared to /root/tensorflow_datasets/xnli/1.1.0. Subsequent calls will reuse this data.\u001b[0m\n",
            "\r"
          ],
          "name": "stdout"
        }
      ]
    },
    {
      "cell_type": "markdown",
      "metadata": {
        "id": "zdSW3JnVSSET"
      },
      "source": [
        "The examples in this dataset still have just 3 fields--premise, hypothesis, and label--but the 'premise' and 'hypothesis' fields each contain 15 different strings, one for each language.\n",
        "\n",
        "Here is what one of the examples looks like (after casting from TensorFlow types, and with some indentation applied and the arrays truncated).\n",
        "\n",
        "```\n",
        "{'premise': {'ar': b'\\xd8\\xad\\xd8\\xb3\\xd9\\x86\\xd9\\x8b\\xd8\\xa7 \\xd8\\x8c \\xd8\\xa8\n",
        "             'bg': b'\\xd0\\xbe, \\xd0\\xb4\\xd0\\xb0, \\xd0\\xbd\\xd1\\x8f\\xd0\\xba\\xd0\\x\n",
        "             'de': b'Oh ja, ein paar Orte sind gut, wenn man sie per UPS oder o\n",
        "             'el': b'\\xce\\xbd\\xce\\xb1\\xce\\xb9 \\xce\\xba\\xce\\xb1\\xce\\xbb\\xce\\xac \n",
        "             'en': b'oh yeah well some some places are good about sending them \n",
        "             'es': b'oh, s\\xc3\\xad, bueno algunos lugares son buenos en cuanto \n",
        "             'fr': b\"oh ouais certains endroits sont bons en ce qui concerne d'\n",
        "             'hi': b'\\xe0\\xa4\\x93\\xe0\\xa4\\xb9 \\xe0\\xa4\\xb9\\xe0\\xa4\\xbe\\xe0\\xa4\\\n",
        "             'ru': b'\\xd0\\xbe \\xd0\\xb4\\xd0\\xb0 \\xd0\\xb5\\xd1\\x81\\xd1\\x82\\xd1\\x8c\n",
        "             'sw': b'Naam kuna pahali pengine ni pazuri kuhusu kupeleka nje kwa\n",
        "             'th': b'\\xe0\\xb9\\x81\\xe0\\xb8\\xab\\xe0\\xb8\\xa1\\xe0\\xb8\\x94\\xe0\\xb8\\x\n",
        "             'tr': b'ya evet asl\\xc4\\xb1nda baz\\xc4\\xb1 baz\\xc4\\xb1 yerler onla\n",
        "             'ur': b'\\xd8\\xac\\xdb\\x8c \\xdb\\x81\\xd8\\xa7\\xda\\xba \\xda\\xa9\\xda\\x86\n",
        "             'vi': b'\\xe1\\xbb\\x93 v\\xc3\\xa2ng, c\\xc3\\xb3 nhi\\xe1\\xbb\\x81u n\\xc6\n",
        "             'zh': b'\\xe5\\x93\\xa6\\xef\\xbc\\x8c\\xe6\\x98\\xaf\\xe7\\x9a\\x84\\xef\\xbc\\x\n",
        "            }                                                               \n",
        " 'hypothesis': {'language': [b'ar', b'bg', b'de', b'el', b'en', b'es', b'fr', b\n",
        "                'translation': [b'\\xd8\\xb3\\xd9\\x88\\xd9\\x81 \\xd8\\xaa\\xd9\\x82\\xd\n",
        "                                b'\\xd0\\x9d\\xd1\\x8f\\xd0\\xba\\xd0\\xbe\\xd0\\xb8 \\xd\n",
        "                                b'Manche Standorte verschicken ihre Produkte n\n",
        "                                b'\\xce\\x9c\\xce\\xb5\\xcf\\x81\\xce\\xb9\\xce\\xba\\xce\n",
        "                                b'Some places will only ship their products by\n",
        "                                b'Algunos lugares solo enviar\\xc3\\xa1n sus pro\n",
        "                                b\"Certains endroits n'exp\\xc3\\xa9dieront leurs\n",
        "                                b'\\xe0\\xa4\\x95\\xe0\\xa5\\x81\\xe0\\xa4\\x9b \\xe0\\xa\n",
        "                                b'\\xd0\\x9d\\xd0\\xb5\\xd0\\xba\\xd0\\xbe\\xd1\\x82\\xd0\n",
        "                                b'Baadhi ya maeneo husafilisha bidhaa zao waki\n",
        "                                b'\\xe0\\xb8\\xaa\\xe0\\xb8\\x96\\xe0\\xb8\\xb2\\xe0\\xb8\n",
        "                                b'Baz\\xc4\\xb1 yerler \\xc3\\xbcr\\xc3\\xbcnlerini \n",
        "                                b'Koi jahain sirf UPS media mail ke zarye apni\n",
        "                                b'M\\xe1\\xbb\\x99t s\\xe1\\xbb\\x91 n\\xc6\\xa1i s\\xe\n",
        "                                b'\\xe6\\x9c\\x89\\xe4\\xba\\x9b\\xe5\\x9c\\xb0\\xe6\\x96\n",
        "                },\n",
        " 'label': 1, \n",
        "}                                                                                                                                                  \n",
        "```\n",
        "\n",
        "In the above printout, the byte decoding hasn't been performed yet, so that's \n",
        "why you see all of the strange \"\\xe6\" type tokens."
      ]
    },
    {
      "cell_type": "markdown",
      "metadata": {
        "id": "OPWYz6rjSqKm"
      },
      "source": [
        "I'm not sure why the structure of the 'premise' and 'hypothesis' fields are different, but oh well! \n",
        "\n",
        "Let's check out a few examples in Turkish."
      ]
    },
    {
      "cell_type": "code",
      "metadata": {
        "colab": {
          "base_uri": "https://localhost:8080/"
        },
        "id": "BaDAkPMGK1o0",
        "outputId": "724d3aca-8e16-4d8d-e8dd-a7259e27f496"
      },
      "source": [
        "import textwrap\n",
        "\n",
        "# Wrap text to 80 characters.\n",
        "wrapper = textwrap.TextWrapper(width=80, initial_indent='    ', \n",
        "                               subsequent_indent='    ') \n",
        "\n",
        "# To help interpret the labels, define a map from label ID to type.\n",
        "label_names = ['entailment', 'neutral', 'contradiction']\n",
        "\n",
        "#language = 'tr'\n",
        "#language_i = 11\n",
        "\n",
        "# Retrieve a few random examples from XNLI.\n",
        "for ex in xnli_dataset.shuffle(buffer_size=256).take(count=3):\n",
        "  \n",
        "    # 'ex' is a Python dictionary representing one example, with three fields.\n",
        "    \n",
        "    # The fields are Tensors, so we call `numpy` to cast them to\n",
        "    # basic types, and then `decode` to convert from bytes to strings.\n",
        "    \n",
        "    # Retrieve the turkish version of the premise using the language code 'tr'.\n",
        "    premise = ex['premise']['tr'].numpy().decode(\"utf-8\")\n",
        "    \n",
        "    print(\"Premise:\")\n",
        "    print(wrapper.fill(premise))\n",
        "\n",
        "    # Retrieve the turkish version of the hypothesis, which is the 11th \n",
        "    # translation.\n",
        "    hypothesis = ex['hypothesis']['translation'][11].numpy().decode(\"utf-8\")\n",
        "\n",
        "    print(\"Hypothesis:\")\n",
        "    print(wrapper.fill(hypothesis))\n",
        "  \n",
        "    # Retrieve the label value for this example, and look up the label name.\n",
        "    label = ex['label'].numpy()\n",
        "    label_name = label_names[label]\n",
        "\n",
        "    print(\"Label:\")\n",
        "    print(\"    {:} ({:})\".format(label, label_name))\n",
        "\n",
        "    print('\\n----------------\\n')\n"
      ],
      "execution_count": null,
      "outputs": [
        {
          "output_type": "stream",
          "text": [
            "Premise:\n",
            "    ve, yani, orası dev bir plastik fabrikası, sanırım yüzde yetmiş beş civarı\n",
            "    bir pazar payına sahipler\n",
            "Hypothesis:\n",
            "    Pazarın çoğunu kontrol ettiklerini düşünüyorum.\n",
            "Label:\n",
            "    0 (entailment)\n",
            "\n",
            "----------------\n",
            "\n",
            "Premise:\n",
            "    evet evet benim yerim sen başladığında iki hafta alıyorsun ve sonra dört\n",
            "    haftan olana kadar her yıl ve her yıl sana ekstra bir gün veriyorlar\n",
            "Hypothesis:\n",
            "    Süren her yıl artmaya devam ediyor.\n",
            "Label:\n",
            "    0 (entailment)\n",
            "\n",
            "----------------\n",
            "\n",
            "Premise:\n",
            "    Bu kampanyaya yaptığınız 100$ veya daha fazla miktarda katkıya\n",
            "    minnettarlığımızı göstermek için, sizi ve bir misafirinizi 23 Mart 2000\n",
            "    Perşembe günü saat 17:00-20:00 arası Herron Hall'da özel bir resepsiyona\n",
            "    davet ediyoruz.\n",
            "Hypothesis:\n",
            "    Kabul törenine katılmak için en az 10000$ bağış yapmalısın.\n",
            "Label:\n",
            "    2 (contradiction)\n",
            "\n",
            "----------------\n",
            "\n"
          ],
          "name": "stdout"
        }
      ]
    },
    {
      "cell_type": "markdown",
      "metadata": {
        "id": "hP60D2fsiBLQ"
      },
      "source": [
        "# S3. Tokenize English Training Data"
      ]
    },
    {
      "cell_type": "markdown",
      "metadata": {
        "id": "lsulFX_7hK3E"
      },
      "source": [
        "In this section we'll tokenize our English training examples from the MNLI dataset.\n",
        "\n",
        "First we'll need to install the `transformers` library."
      ]
    },
    {
      "cell_type": "code",
      "metadata": {
        "colab": {
          "base_uri": "https://localhost:8080/"
        },
        "id": "nYGuww5Q3Vxx",
        "outputId": "88bb5153-7ca3-45be-ec36-acf83f5e3f06"
      },
      "source": [
        "!pip install transformers"
      ],
      "execution_count": null,
      "outputs": [
        {
          "output_type": "stream",
          "text": [
            "Collecting transformers\n",
            "\u001b[?25l  Downloading https://files.pythonhosted.org/packages/50/0c/7d5950fcd80b029be0a8891727ba21e0cd27692c407c51261c3c921f6da3/transformers-4.1.1-py3-none-any.whl (1.5MB)\n",
            "\u001b[K     |████████████████████████████████| 1.5MB 8.8MB/s \n",
            "\u001b[?25hCollecting tokenizers==0.9.4\n",
            "\u001b[?25l  Downloading https://files.pythonhosted.org/packages/0f/1c/e789a8b12e28be5bc1ce2156cf87cb522b379be9cadc7ad8091a4cc107c4/tokenizers-0.9.4-cp36-cp36m-manylinux2010_x86_64.whl (2.9MB)\n",
            "\u001b[K     |████████████████████████████████| 2.9MB 17.4MB/s \n",
            "\u001b[?25hRequirement already satisfied: packaging in /usr/local/lib/python3.6/dist-packages (from transformers) (20.8)\n",
            "Requirement already satisfied: requests in /usr/local/lib/python3.6/dist-packages (from transformers) (2.23.0)\n",
            "Requirement already satisfied: tqdm>=4.27 in /usr/local/lib/python3.6/dist-packages (from transformers) (4.41.1)\n",
            "Requirement already satisfied: numpy in /usr/local/lib/python3.6/dist-packages (from transformers) (1.19.4)\n",
            "Requirement already satisfied: filelock in /usr/local/lib/python3.6/dist-packages (from transformers) (3.0.12)\n",
            "Requirement already satisfied: regex!=2019.12.17 in /usr/local/lib/python3.6/dist-packages (from transformers) (2019.12.20)\n",
            "Requirement already satisfied: dataclasses; python_version < \"3.7\" in /usr/local/lib/python3.6/dist-packages (from transformers) (0.8)\n",
            "Collecting sacremoses\n",
            "\u001b[?25l  Downloading https://files.pythonhosted.org/packages/7d/34/09d19aff26edcc8eb2a01bed8e98f13a1537005d31e95233fd48216eed10/sacremoses-0.0.43.tar.gz (883kB)\n",
            "\u001b[K     |████████████████████████████████| 890kB 55.9MB/s \n",
            "\u001b[?25hRequirement already satisfied: pyparsing>=2.0.2 in /usr/local/lib/python3.6/dist-packages (from packaging->transformers) (2.4.7)\n",
            "Requirement already satisfied: certifi>=2017.4.17 in /usr/local/lib/python3.6/dist-packages (from requests->transformers) (2020.12.5)\n",
            "Requirement already satisfied: chardet<4,>=3.0.2 in /usr/local/lib/python3.6/dist-packages (from requests->transformers) (3.0.4)\n",
            "Requirement already satisfied: urllib3!=1.25.0,!=1.25.1,<1.26,>=1.21.1 in /usr/local/lib/python3.6/dist-packages (from requests->transformers) (1.24.3)\n",
            "Requirement already satisfied: idna<3,>=2.5 in /usr/local/lib/python3.6/dist-packages (from requests->transformers) (2.10)\n",
            "Requirement already satisfied: six in /usr/local/lib/python3.6/dist-packages (from sacremoses->transformers) (1.15.0)\n",
            "Requirement already satisfied: click in /usr/local/lib/python3.6/dist-packages (from sacremoses->transformers) (7.1.2)\n",
            "Requirement already satisfied: joblib in /usr/local/lib/python3.6/dist-packages (from sacremoses->transformers) (1.0.0)\n",
            "Building wheels for collected packages: sacremoses\n",
            "  Building wheel for sacremoses (setup.py) ... \u001b[?25l\u001b[?25hdone\n",
            "  Created wheel for sacremoses: filename=sacremoses-0.0.43-cp36-none-any.whl size=893261 sha256=e419507fff6e7625bbe7debb8bda19d48a408dc5eaf85a1a2ff6d91d8626ba9e\n",
            "  Stored in directory: /root/.cache/pip/wheels/29/3c/fd/7ce5c3f0666dab31a50123635e6fb5e19ceb42ce38d4e58f45\n",
            "Successfully built sacremoses\n",
            "Installing collected packages: tokenizers, sacremoses, transformers\n",
            "Successfully installed sacremoses-0.0.43 tokenizers-0.9.4 transformers-4.1.1\n"
          ],
          "name": "stdout"
        }
      ]
    },
    {
      "cell_type": "markdown",
      "metadata": {
        "id": "tiIINuvziO2R"
      },
      "source": [
        "For this example we'll be using the `base` model of XLM-Roberta. \n",
        "\n",
        "XLM-Roberta also includes a `large` variant, and some variants which have been fine-tuned for Named Entity Recognition on the \"CONLL\" dataset. Here's the full list of available variants.\n",
        "\n",
        "    \"xlm-roberta-base\"\n",
        "    \"xlm-roberta-large\"\n",
        "    \"xlm-roberta-large-finetuned-conll02-dutch\"\n",
        "    \"xlm-roberta-large-finetuned-conll02-spanish\"\n",
        "    \"xlm-roberta-large-finetuned-conll03-english\"\n",
        "    \"xlm-roberta-large-finetuned-conll03-german\"\n",
        "\n",
        "(You may also find some other community-submitted variants by searching [here](https://huggingface.co/models?filter=xlm-roberta).)\n"
      ]
    },
    {
      "cell_type": "code",
      "metadata": {
        "colab": {
          "base_uri": "https://localhost:8080/"
        },
        "id": "RSqv0F36dYa2",
        "outputId": "968b8b57-8f4e-42de-8e36-82939f7fe9c8"
      },
      "source": [
        "!pip install sentencepiece"
      ],
      "execution_count": null,
      "outputs": [
        {
          "output_type": "stream",
          "text": [
            "Collecting sentencepiece\n",
            "\u001b[?25l  Downloading https://files.pythonhosted.org/packages/e5/2d/6d4ca4bef9a67070fa1cac508606328329152b1df10bdf31fb6e4e727894/sentencepiece-0.1.94-cp36-cp36m-manylinux2014_x86_64.whl (1.1MB)\n",
            "\u001b[K     |████████████████████████████████| 1.1MB 7.8MB/s \n",
            "\u001b[?25hInstalling collected packages: sentencepiece\n",
            "Successfully installed sentencepiece-0.1.94\n"
          ],
          "name": "stdout"
        }
      ]
    },
    {
      "cell_type": "code",
      "metadata": {
        "id": "cTXIGBdkdYh6"
      },
      "source": [
        "import sentencepiece"
      ],
      "execution_count": null,
      "outputs": []
    },
    {
      "cell_type": "code",
      "metadata": {
        "colab": {
          "base_uri": "https://localhost:8080/",
          "height": 66,
          "referenced_widgets": [
            "643ef789bf43453aa3165901ae60743a",
            "590df2b6d3424eafbf8c32e6bdf24144",
            "371d6679d1c946d081dcc0c068c6a4be",
            "5e96489d24ae48b7a139e83d0bb16176",
            "86425491c0d041708badbb53df661c59",
            "c09e3628658749898abf2ff8bd5a3f87",
            "537f65b4d43b42968bc6247a78d7e1f6",
            "180e3efb1f2d465498d751786d41b59a"
          ]
        },
        "id": "hugC0oHMdpig",
        "outputId": "f841c076-7e4a-41ed-9f4e-0db1bea76f8b"
      },
      "source": [
        "import torch\r\n",
        "from transformers import XLMRobertaTokenizer\r\n",
        "\r\n",
        "# Download the tokenizer for the XLM-Robert `base` model.\r\n",
        "xlmr_tokenizer = XLMRobertaTokenizer.from_pretrained(\"xlm-roberta-base\" )"
      ],
      "execution_count": null,
      "outputs": [
        {
          "output_type": "display_data",
          "data": {
            "application/vnd.jupyter.widget-view+json": {
              "model_id": "643ef789bf43453aa3165901ae60743a",
              "version_major": 2,
              "version_minor": 0
            },
            "text/plain": [
              "HBox(children=(FloatProgress(value=0.0, description='Downloading', max=5069051.0, style=ProgressStyle(descript…"
            ]
          },
          "metadata": {
            "tags": []
          }
        },
        {
          "output_type": "stream",
          "text": [
            "\n"
          ],
          "name": "stdout"
        }
      ]
    },
    {
      "cell_type": "markdown",
      "metadata": {
        "id": "AdbXIUXph7ic"
      },
      "source": [
        "## 3.1. Load the Tokenizer"
      ]
    },
    {
      "cell_type": "code",
      "metadata": {
        "id": "g_m47GZc3Vsj"
      },
      "source": [
        "import torch\n",
        "from transformers import XLMRobertaTokenizer\n",
        "\n",
        "# Download the tokenizer for the XLM-Robert `base` model.\n",
        "xlmr_tokenizer = XLMRobertaTokenizer.from_pretrained(\"xlm-roberta-base\" )"
      ],
      "execution_count": null,
      "outputs": []
    },
    {
      "cell_type": "markdown",
      "metadata": {
        "id": "C84a7Tp7mnhO"
      },
      "source": [
        "Our NLI examples contain two sentences each--the 'premise' and 'hypothesis'.  \n",
        "\n",
        "To feed the example into the model, we concatenate the two sentences together, but with a special separator token in between. BERT models also use \"Segment Embeddings\" to help the model distinguish the two sentences from one another.\n",
        "\n",
        "For XLM-R, the convention is to use **<s\\\\>** as the beginning of sentence token and **</s\\\\>** as the end of sentence and sentence separation token. (Instead of **[CLS]** and **[SEP]** which you might be familiar with from BERT.)\n",
        "\n",
        "The \"encode_plus\" function of the tokenizer takes care of this for us:"
      ]
    },
    {
      "cell_type": "code",
      "metadata": {
        "colab": {
          "base_uri": "https://localhost:8080/"
        },
        "id": "TRGvgANfvZkc",
        "outputId": "d136e6a0-0239-42c2-ef93-7e501a78492c"
      },
      "source": [
        "sentence_1 = \"Hey there reader!\"\n",
        "sentence_2 = \"How are you today?\"\n",
        "\n",
        "# Encode the two sentences together.\n",
        "encoded = xlmr_tokenizer.encode_plus(sentence_1, sentence_2)\n",
        "\n",
        "# Print the IDs of the resulting tokens.\n",
        "print (\"Input IDs:      \", encoded['input_ids'])\n",
        "\n",
        "# Convert the token IDs back to strings so we can check them out.\n",
        "print (\"Tokens:         \", xlmr_tokenizer.convert_ids_to_tokens(encoded['input_ids']))\n",
        "\n",
        "# The tokenizer returns an attention mask, which masks out PAD tokens. \n",
        "# Since we aren't doing any padding yet, the mask is just all 1s. \n",
        "print (\"\\nAttention Mask: \", encoded['attention_mask'])\n"
      ],
      "execution_count": null,
      "outputs": [
        {
          "output_type": "stream",
          "text": [
            "Input IDs:       [0, 28240, 2685, 155255, 38, 2, 2, 11249, 621, 398, 18925, 32, 2]\n",
            "Tokens:          ['<s>', '▁Hey', '▁there', '▁reader', '!', '</s>', '</s>', '▁How', '▁are', '▁you', '▁today', '?', '</s>']\n",
            "\n",
            "Attention Mask:  [1, 1, 1, 1, 1, 1, 1, 1, 1, 1, 1, 1, 1]\n"
          ],
          "name": "stdout"
        }
      ]
    },
    {
      "cell_type": "markdown",
      "metadata": {
        "id": "-8kEDRvShcU5"
      },
      "source": [
        "## 3.2. Choose maximum sequence length"
      ]
    },
    {
      "cell_type": "markdown",
      "metadata": {
        "id": "1M296yz577fV"
      },
      "source": [
        "In order to tokenize the dataset, we'll need to pick a maximum sequence length value `max_len` which we will pad or truncate all sequences to.\n",
        "\n",
        "To pick a reasonable value, we'll do a preliminary pass through the dataset to gather statistics on the lengths of the sequences in this dataset."
      ]
    },
    {
      "cell_type": "code",
      "metadata": {
        "colab": {
          "base_uri": "https://localhost:8080/"
        },
        "id": "2bBdb3pt8LuQ",
        "outputId": "943fade9-cb63-447a-b82a-b6eb69282c57"
      },
      "source": [
        "import numpy as np\n",
        "\n",
        "lengths_en = []\n",
        "\n",
        "labels_en = []\n",
        "\n",
        "print('Tokenizing comments to check sequence lengths...')\n",
        "\n",
        "# Iterate through the dataset...\n",
        "for ex in mnli_dataset:\n",
        "\n",
        "    # Retrieve the premise and hypothesis strings. \n",
        "    premise = ex['premise'].numpy().decode(\"utf-8\")\n",
        "    hypothesis = ex['hypothesis'].numpy().decode(\"utf-8\")\n",
        "    \n",
        "    # Report progress.\n",
        "    if ((len(lengths_en) % 5000) == 0):\n",
        "        print('  Tokenized {:,} samples.'.format(len(lengths_en)))\n",
        "    \n",
        "    # `tokenizer.encode` will tokenize the sentence, map the tokens to ids, \n",
        "    # and add the required special tokens.:\n",
        "    encoded = xlmr_tokenizer.encode(\n",
        "                        premise,\n",
        "                        hypothesis,\n",
        "                        add_special_tokens = True,\n",
        "                   )\n",
        "\n",
        "    # Record the length.\n",
        "    lengths_en.append(len(encoded))\n",
        "\n",
        "    labels_en.append(ex['label'].numpy())\n",
        "\n",
        "print('DONE.')\n",
        "print('{:>10,} samples'.format(len(lengths_en)))"
      ],
      "execution_count": null,
      "outputs": [
        {
          "output_type": "stream",
          "text": [
            "Tokenizing comments to check sequence lengths...\n",
            "  Tokenized 0 samples.\n",
            "  Tokenized 5,000 samples.\n",
            "DONE.\n",
            "    10,000 samples\n"
          ],
          "name": "stdout"
        }
      ]
    },
    {
      "cell_type": "markdown",
      "metadata": {
        "id": "X_erWZU7hDTB"
      },
      "source": [
        "Let's grab some quick statistics--what are the min, max and median sample lenghts?"
      ]
    },
    {
      "cell_type": "code",
      "metadata": {
        "colab": {
          "base_uri": "https://localhost:8080/"
        },
        "id": "qmrQVSsjg6By",
        "outputId": "00a8ba9e-fe05-4f24-debb-d1e5f277bcd0"
      },
      "source": [
        "print('   Min length: {:,} tokens'.format(min(lengths_en)))\n",
        "print('   Max length: {:,} tokens'.format(max(lengths_en)))\n",
        "print('Median length: {:,} tokens'.format(int(np.median(lengths_en))))"
      ],
      "execution_count": null,
      "outputs": [
        {
          "output_type": "stream",
          "text": [
            "   Min length: 7 tokens\n",
            "   Max length: 341 tokens\n",
            "Median length: 42 tokens\n"
          ],
          "name": "stdout"
        }
      ]
    },
    {
      "cell_type": "markdown",
      "metadata": {
        "id": "xytsw1oIfnX0"
      },
      "source": [
        "To further analyze it, let's plot the distribution.\n"
      ]
    },
    {
      "cell_type": "code",
      "metadata": {
        "colab": {
          "base_uri": "https://localhost:8080/",
          "height": 426
        },
        "id": "iLhi9A49zmsy",
        "outputId": "2e9adcc9-aeae-4bbf-f226-1a2e89955635"
      },
      "source": [
        "import matplotlib.pyplot as plt\n",
        "import seaborn as sns\n",
        "import numpy as np\n",
        "\n",
        "sns.set(style='darkgrid')\n",
        "\n",
        "# Increase the plot size and font size.\n",
        "sns.set(font_scale=1.5)\n",
        "plt.rcParams[\"figure.figsize\"] = (10,5)\n",
        "\n",
        "# Plot the distribution of comment lengths.\n",
        "sns.distplot(lengths_en, kde=False, rug=False)\n",
        "\n",
        "plt.title('Distribution of Sequence Lengths')\n",
        "plt.xlabel('Sequence Length')\n",
        "plt.ylabel('# of Samples')\n",
        "\n",
        "plt.show()"
      ],
      "execution_count": null,
      "outputs": [
        {
          "output_type": "stream",
          "text": [
            "/usr/local/lib/python3.6/dist-packages/seaborn/distributions.py:2551: FutureWarning: `distplot` is a deprecated function and will be removed in a future version. Please adapt your code to use either `displot` (a figure-level function with similar flexibility) or `histplot` (an axes-level function for histograms).\n",
            "  warnings.warn(msg, FutureWarning)\n"
          ],
          "name": "stderr"
        },
        {
          "output_type": "display_data",
          "data": {
            "image/png": "[encoded data removed]",
            "text/plain": [
              "<Figure size 720x360 with 1 Axes>"
            ]
          },
          "metadata": {
            "tags": []
          }
        }
      ]
    },
    {
      "cell_type": "markdown",
      "metadata": {
        "id": "hvs9RvI2dLNE"
      },
      "source": [
        "Interesting! Looks like a max_len of 128 should accomodate almost all of the samples."
      ]
    },
    {
      "cell_type": "code",
      "metadata": {
        "colab": {
          "base_uri": "https://localhost:8080/"
        },
        "id": "SGd5i3ZvaWXu",
        "outputId": "c7aa19cd-c03b-4a2a-a8d9-016feaa40bb2"
      },
      "source": [
        "max_len = 128\n",
        "\n",
        "# Count the number of sequences that are longer than `max_len` tokens.\n",
        "num_truncated = np.sum(np.greater(lengths_en, max_len))\n",
        "\n",
        "# Compare this to the total number of training sentences.\n",
        "num_sentences = len(lengths_en)\n",
        "prcnt = float(num_truncated) / float(num_sentences)\n",
        "\n",
        "print('{:,} of {:,} sentences ({:.1%}) in the training set are longer than {:} tokens.'.format(num_truncated, num_sentences, prcnt, max_len))\n"
      ],
      "execution_count": null,
      "outputs": [
        {
          "output_type": "stream",
          "text": [
            "42 of 10,000 sentences (0.4%) in the training set are longer than 128 tokens.\n"
          ],
          "name": "stdout"
        }
      ]
    },
    {
      "cell_type": "markdown",
      "metadata": {
        "id": "UH5qOkWMgrg0"
      },
      "source": [
        "Finally, let's look at the class balance."
      ]
    },
    {
      "cell_type": "code",
      "metadata": {
        "colab": {
          "base_uri": "https://localhost:8080/",
          "height": 426
        },
        "id": "se0cC1GD2ZCa",
        "outputId": "1ad511d1-506a-4972-a38f-63cf99719d1c"
      },
      "source": [
        "# Plot the number of tokens of each length.\n",
        "sns.countplot(labels_en)\n",
        "\n",
        "plt.title('Class Distribution')\n",
        "plt.xlabel('Category')\n",
        "plt.ylabel('# of Training Samples')\n",
        "\n",
        "plt.show()"
      ],
      "execution_count": null,
      "outputs": [
        {
          "output_type": "stream",
          "text": [
            "/usr/local/lib/python3.6/dist-packages/seaborn/_decorators.py:43: FutureWarning: Pass the following variable as a keyword arg: x. From version 0.12, the only valid positional argument will be `data`, and passing other arguments without an explicit keyword will result in an error or misinterpretation.\n",
            "  FutureWarning\n"
          ],
          "name": "stderr"
        },
        {
          "output_type": "display_data",
          "data": {
            "image/png": "[encoded data removed]",
            "text/plain": [
              "<Figure size 720x360 with 1 Axes>"
            ]
          },
          "metadata": {
            "tags": []
          }
        }
      ]
    },
    {
      "cell_type": "markdown",
      "metadata": {
        "id": "9BOUZe11-C3q"
      },
      "source": [
        "Looks nice and balanced!"
      ]
    },
    {
      "cell_type": "markdown",
      "metadata": {
        "id": "2rKkiKVvnUKq"
      },
      "source": [
        "## 3.2. Tokenize English Training Exmaples"
      ]
    },
    {
      "cell_type": "markdown",
      "metadata": {
        "id": "U0EXd3I5ncCC"
      },
      "source": [
        "Now we're ready to truly tokenize the dataset, this time performing truncation and padding. We'll use the `encode_plus` function for this. "
      ]
    },
    {
      "cell_type": "code",
      "metadata": {
        "colab": {
          "base_uri": "https://localhost:8080/"
        },
        "id": "NerqK3R8rWMK",
        "outputId": "61761cf0-99e0-4d98-a66f-e68cabc606dc"
      },
      "source": [
        "import torch\n",
        "\n",
        "labels_en = []\n",
        "input_ids_en = []\n",
        "attn_masks_en = []\n",
        "\n",
        "print('Encoding all examples...')\n",
        "\n",
        "# Iterate through the dataset...\n",
        "for ex in mnli_dataset:\n",
        "\n",
        "    # Retrieve the premise and hypothesis strings. \n",
        "    premise = ex['premise'].numpy().decode(\"utf-8\")\n",
        "    hypothesis = ex['hypothesis'].numpy().decode(\"utf-8\")\n",
        "\n",
        "    # Convert sentence pairs to input IDs, with attention masks.\n",
        "    encoded_dict = xlmr_tokenizer.encode_plus(premise, hypothesis, \n",
        "                                              max_length=max_len, \n",
        "                                              pad_to_max_length=True,\n",
        "                                              truncation=True, \n",
        "                                              return_tensors='pt')\n",
        "\n",
        "    # Add this example to our lists.\n",
        "    input_ids_en.append(encoded_dict['input_ids'])\n",
        "    attn_masks_en.append(encoded_dict['attention_mask'])\n",
        "    labels_en.append(ex['label'].numpy())\n",
        "    \n",
        "# Convert each Python list of Tensors into a 2D Tensor matrix.\n",
        "input_ids_en = torch.cat(input_ids_en, dim=0)\n",
        "attn_masks_en = torch.cat(attn_masks_en, dim=0)\n",
        "\n",
        "# Cast the labels list to a Tensor.\n",
        "labels_en = torch.tensor(labels_en)\n",
        "\n",
        "print('   DONE. {:,} examples.'.format(len(labels_en)))"
      ],
      "execution_count": null,
      "outputs": [
        {
          "output_type": "stream",
          "text": [
            "Encoding all examples...\n"
          ],
          "name": "stdout"
        },
        {
          "output_type": "stream",
          "text": [
            "/usr/local/lib/python3.6/dist-packages/transformers/tokenization_utils_base.py:2179: FutureWarning: The `pad_to_max_length` argument is deprecated and will be removed in a future version, use `padding=True` or `padding='longest'` to pad to the longest sequence in the batch, or use `padding='max_length'` to pad to a max length. In this case, you can give a specific length with `max_length` (e.g. `max_length=45`) or leave max_length to None to pad to the maximal input size of the model (e.g. 512 for Bert).\n",
            "  FutureWarning,\n"
          ],
          "name": "stderr"
        },
        {
          "output_type": "stream",
          "text": [
            "   DONE. 10,000 examples.\n"
          ],
          "name": "stdout"
        }
      ]
    },
    {
      "cell_type": "markdown",
      "metadata": {
        "id": "KDLIFpwQ2xpt"
      },
      "source": [
        "## 3.3. Train-Validation Split"
      ]
    },
    {
      "cell_type": "markdown",
      "metadata": {
        "id": "s8DSEHsVpSPT"
      },
      "source": [
        "Split off 10% of our training examples to use for validation in between training passes. This will help us monitor our training progress and check for over-fitting."
      ]
    },
    {
      "cell_type": "code",
      "metadata": {
        "id": "D4PzuG_s2LSo"
      },
      "source": [
        "from torch.utils.data import TensorDataset, random_split\n",
        "\n",
        "# Combine the training inputs into a TensorDataset.\n",
        "dataset = TensorDataset(input_ids_en, attn_masks_en, labels_en)\n",
        "\n",
        "# Create a 90-10 train-validation split. Calculate the number of samples to \n",
        "# include in each set.\n",
        "train_size = int(0.9 * len(dataset))\n",
        "val_size = len(dataset) - train_size\n",
        "\n",
        "# Divide the dataset by randomly selecting samples.\n",
        "train_dataset, val_dataset = random_split(dataset, [train_size, val_size])"
      ],
      "execution_count": null,
      "outputs": []
    },
    {
      "cell_type": "markdown",
      "metadata": {
        "id": "8cX-gb2O21UU"
      },
      "source": [
        "## 3.4. Set batch_size for DataLoaders"
      ]
    },
    {
      "cell_type": "markdown",
      "metadata": {
        "id": "2zwLtSbz-9L7"
      },
      "source": [
        "The PyTorch DataLoader class takes care of randomly grouping our training data into batches. "
      ]
    },
    {
      "cell_type": "code",
      "metadata": {
        "id": "-gU0oZbz2LQt"
      },
      "source": [
        "from torch.utils.data import DataLoader, RandomSampler, SequentialSampler\n",
        "\n",
        "# Specify our batch size.\n",
        "batch_size = 16\n",
        "\n",
        "# Create the DataLoaders for our training sets.\n",
        "# We'll take training samples in random order. \n",
        "train_dataloader = DataLoader(\n",
        "            train_dataset,  # The training samples.\n",
        "            sampler = RandomSampler(train_dataset), # Select batches randomly\n",
        "            batch_size = batch_size # Trains with this batch size.\n",
        "        )\n",
        "\n",
        "# For validation the order doesn't matter, so we'll just read them sequentially.\n",
        "validation_dataloader = DataLoader(\n",
        "            val_dataset, # The validation samples.\n",
        "            sampler = SequentialSampler(val_dataset), # Pull out batches sequentially.\n",
        "            batch_size = batch_size # Evaluate with this batch size.\n",
        "        )\n",
        "\n"
      ],
      "execution_count": null,
      "outputs": []
    },
    {
      "cell_type": "markdown",
      "metadata": {
        "id": "FnZwOBFEg6wk"
      },
      "source": [
        "# S4. Fine-Tune XLM-Roberta on English NLI"
      ]
    },
    {
      "cell_type": "markdown",
      "metadata": {
        "id": "Zelx_QBQhz9E"
      },
      "source": [
        "## 4.1. Load Pre-Trained Model"
      ]
    },
    {
      "cell_type": "markdown",
      "metadata": {
        "id": "o9JITGTghmqz"
      },
      "source": [
        "Load the pre-trained XLM-R `base` model. You can learn more about the XLM-R model in the [appendix](https://colab.research.google.com/drive/1Juv75CnoOyI2LJnV8Y7hw7hppo-DW9ur?usp=sharing#scrollTo=vAWILJ4wPH5Z).\n",
        "\n",
        "The MNLI and XNLI tasks are both multiclass with 3 labels, so we need to add this when instantiating the model."
      ]
    },
    {
      "cell_type": "code",
      "metadata": {
        "colab": {
          "base_uri": "https://localhost:8080/",
          "height": 220,
          "referenced_widgets": [
            "016a28907ec4409cb89292230d0e7542",
            "203ae420fe1e4426a11504a8387baa3c",
            "a28c1cc12bb64b7c9c0bd231eb478f02",
            "6a24f1d9ed9d4f099e71cfc37b561dc5",
            "6cdd630b638a47d9882405f999b2c03c",
            "f86936aa2047481aa376f7974cde8be3",
            "2f3f3f2c98c34950820df5a4f0c0ebbb",
            "3d62fd30309a4e07aa23a788a2e38ff9",
            "9513a099303b4520895025e5404f70a6",
            "439383cc6414447198e17bb42fad6ca7",
            "8544a24582ae4096871c8dac75350778",
            "99f49134bec94c67b291b4cad3386345",
            "9378eb46a217427e95725892532829d7",
            "6dfe224192704b8e9c1b0bafbf1acb1a",
            "39bd5c7243d14d40b6caf32035f37166",
            "de7fed662f67499e805250c6bd9b1c75"
          ]
        },
        "id": "GXnj-q19g6Ee",
        "outputId": "b0d0306d-9ec5-4cbe-859c-b6d022d1437d"
      },
      "source": [
        "from transformers import XLMRobertaForSequenceClassification\n",
        "import torch\n",
        "\n",
        "#from transformers import XLMTokenizer, XLMForSequenceClassification\n",
        "\n",
        "xlmr_model = XLMRobertaForSequenceClassification.from_pretrained(\"xlm-roberta-base\", num_labels=3)"
      ],
      "execution_count": null,
      "outputs": [
        {
          "output_type": "display_data",
          "data": {
            "application/vnd.jupyter.widget-view+json": {
              "model_id": "016a28907ec4409cb89292230d0e7542",
              "version_major": 2,
              "version_minor": 0
            },
            "text/plain": [
              "HBox(children=(FloatProgress(value=0.0, description='Downloading', max=512.0, style=ProgressStyle(description_…"
            ]
          },
          "metadata": {
            "tags": []
          }
        },
        {
          "output_type": "stream",
          "text": [
            "\n"
          ],
          "name": "stdout"
        },
        {
          "output_type": "display_data",
          "data": {
            "application/vnd.jupyter.widget-view+json": {
              "model_id": "9513a099303b4520895025e5404f70a6",
              "version_major": 2,
              "version_minor": 0
            },
            "text/plain": [
              "HBox(children=(FloatProgress(value=0.0, description='Downloading', max=1115590446.0, style=ProgressStyle(descr…"
            ]
          },
          "metadata": {
            "tags": []
          }
        },
        {
          "output_type": "stream",
          "text": [
            "\n"
          ],
          "name": "stdout"
        },
        {
          "output_type": "stream",
          "text": [
            "Some weights of the model checkpoint at xlm-roberta-base were not used when initializing XLMRobertaForSequenceClassification: ['lm_head.bias', 'lm_head.dense.weight', 'lm_head.dense.bias', 'lm_head.layer_norm.weight', 'lm_head.layer_norm.bias', 'lm_head.decoder.weight', 'roberta.pooler.dense.weight', 'roberta.pooler.dense.bias']\n",
            "- This IS expected if you are initializing XLMRobertaForSequenceClassification from the checkpoint of a model trained on another task or with another architecture (e.g. initializing a BertForSequenceClassification model from a BertForPreTraining model).\n",
            "- This IS NOT expected if you are initializing XLMRobertaForSequenceClassification from the checkpoint of a model that you expect to be exactly identical (initializing a BertForSequenceClassification model from a BertForSequenceClassification model).\n",
            "Some weights of XLMRobertaForSequenceClassification were not initialized from the model checkpoint at xlm-roberta-base and are newly initialized: ['classifier.dense.weight', 'classifier.dense.bias', 'classifier.out_proj.weight', 'classifier.out_proj.bias']\n",
            "You should probably TRAIN this model on a down-stream task to be able to use it for predictions and inference.\n"
          ],
          "name": "stderr"
        }
      ]
    },
    {
      "cell_type": "markdown",
      "metadata": {
        "id": "JB1m8afQmdtW"
      },
      "source": [
        "Connect to the GPU and load the model..."
      ]
    },
    {
      "cell_type": "code",
      "metadata": {
        "colab": {
          "base_uri": "https://localhost:8080/"
        },
        "id": "mcAd-7nQFJIq",
        "outputId": "6369b39a-54d9-480c-a0fd-01ab7eb38965"
      },
      "source": [
        "print('Loading model to GPU...')\n",
        "\n",
        "# Connect to the GPU.\n",
        "device = torch.device('cuda')\n",
        "\n",
        "# Report what GPU we were granted.\n",
        "print('  GPU:', torch.cuda.get_device_name(0))\n",
        "\n",
        "# Copy the initial model weights to the GPU.\n",
        "desc = xlmr_model.to(device)\n",
        "\n",
        "print('    DONE.')"
      ],
      "execution_count": null,
      "outputs": [
        {
          "output_type": "stream",
          "text": [
            "Loading model to GPU...\n",
            "  GPU: Tesla T4\n",
            "    DONE.\n"
          ],
          "name": "stdout"
        }
      ]
    },
    {
      "cell_type": "markdown",
      "metadata": {
        "id": "7PzRPC4M3DaU"
      },
      "source": [
        "## 4.2. Set Learning Rate & Epochs for Optimizer"
      ]
    },
    {
      "cell_type": "code",
      "metadata": {
        "id": "MNIQVlHHZZx-"
      },
      "source": [
        "from transformers import AdamW\n",
        "\n",
        "# Note: AdamW is a class from the huggingface library (as opposed to pytorch) \n",
        "# I believe the 'W' stands for 'Weight Decay fix\"\n",
        "optimizer = AdamW(xlmr_model.parameters(),\n",
        "                  lr = 5e-6, # args.learning_rate\n",
        "                  eps = 1e-8 # args.adam_epsilon  - default is 1e-8.\n",
        "                )"
      ],
      "execution_count": null,
      "outputs": []
    },
    {
      "cell_type": "code",
      "metadata": {
        "id": "pMh4J-d4ZZvO"
      },
      "source": [
        "from transformers import get_linear_schedule_with_warmup\n",
        "\n",
        "# Number of training epochs.\n",
        "epochs = 1\n",
        "\n",
        "# Total number of training steps is [number of batches] x [number of epochs]. \n",
        "# (Note that this is not the same as the number of training samples).\n",
        "total_steps = len(train_dataloader) * epochs\n",
        "\n",
        "# Create the learning rate scheduler.\n",
        "scheduler = get_linear_schedule_with_warmup(optimizer, \n",
        "                                            num_warmup_steps = 0,\n",
        "                                            num_training_steps = total_steps)"
      ],
      "execution_count": null,
      "outputs": []
    },
    {
      "cell_type": "markdown",
      "metadata": {
        "id": "Ia0s_Z4I3KO7"
      },
      "source": [
        "A couple helper functions..."
      ]
    },
    {
      "cell_type": "code",
      "metadata": {
        "id": "u-OAa6pi5FVQ"
      },
      "source": [
        "import time\n",
        "import datetime\n",
        "\n",
        "def format_time(elapsed):\n",
        "    '''\n",
        "    Takes a time in seconds and returns a string hh:mm:ss\n",
        "    '''\n",
        "    # Round to the nearest second.\n",
        "    elapsed_rounded = int(round((elapsed)))\n",
        "    \n",
        "    # Format as hh:mm:ss\n",
        "    return str(datetime.timedelta(seconds=elapsed_rounded))  \n"
      ],
      "execution_count": null,
      "outputs": []
    },
    {
      "cell_type": "code",
      "metadata": {
        "id": "iTrHp0_FgOSg"
      },
      "source": [
        "def good_update_interval(total_iters, num_desired_updates):\n",
        "    '''\n",
        "    This function will try to pick an intelligent progress update interval \n",
        "    based on the magnitude of the total iterations.\n",
        "\n",
        "    Parameters:\n",
        "      `total_iters` - The number of iterations in the for-loop.\n",
        "      `num_desired_updates` - How many times we want to see an update over the \n",
        "                              course of the for-loop.\n",
        "    '''\n",
        "    # Divide the total iterations by the desired number of updates. Most likely\n",
        "    # this will be some ugly number.\n",
        "    exact_interval = total_iters / num_desired_updates\n",
        "\n",
        "    # The `round` function has the ability to round down a number to, e.g., the\n",
        "    # nearest thousandth: round(exact_interval, -3)\n",
        "    #\n",
        "    # To determine the magnitude to round to, find the magnitude of the total,\n",
        "    # and then go one magnitude below that.\n",
        "\n",
        "    # Get the order of magnitude of the total.\n",
        "    order_of_mag = len(str(total_iters)) - 1\n",
        "\n",
        "    # Our update interval should be rounded to an order of magnitude smaller. \n",
        "    round_mag = order_of_mag - 1\n",
        "\n",
        "    # Round down and cast to an int.\n",
        "    update_interval = int(round(exact_interval, -round_mag))\n",
        "\n",
        "    # Don't allow the interval to be zero!\n",
        "    if update_interval == 0:\n",
        "        update_interval = 1\n",
        "\n",
        "    return update_interval"
      ],
      "execution_count": null,
      "outputs": []
    },
    {
      "cell_type": "code",
      "metadata": {
        "id": "IB96zEfthttw"
      },
      "source": [
        "import sys\r\n",
        "if sys.version_info >= (3,):\r\n",
        "    def input(__prompt: any = ...) -> str: ...\r\n",
        "else:\r\n",
        "    def input(__prompt: any = ...) -> any: ...\r\n",
        "    def intern(__string: str) -> str: ..."
      ],
      "execution_count": null,
      "outputs": []
    },
    {
      "cell_type": "code",
      "metadata": {
        "colab": {
          "base_uri": "https://localhost:8080/"
        },
        "id": "WQJZYuLnkn8c",
        "outputId": "c68a06dd-5e09-4984-c24d-2addd8e2fc5e"
      },
      "source": [
        "# https://github.com/huggingface/transformers/blob/5bfcd0485ece086ebcbed2d008813037968a9e58/examples/run_glue.py#L128\r\n",
        "\r\n",
        "\r\n",
        "# Set the seed value all over the place to make this reproducible.\r\n",
        "seed_val = 42\r\n",
        "epoch=1\r\n",
        "import random\r\n",
        "random.seed(seed_val)\r\n",
        "np.random.seed(seed_val)\r\n",
        "torch.manual_seed(seed_val)\r\n",
        "torch.cuda.manual_seed_all(seed_val)\r\n",
        "\r\n",
        "# Store the average loss after each epoch so we can plot them.\r\n",
        "loss_values = []\r\n",
        "\r\n",
        "# For each epoch...\r\n",
        "for epoch_i in range(0,1):\r\n",
        "    \r\n",
        "    # ========================================\r\n",
        "    #               Training\r\n",
        "    # ========================================\r\n",
        "    \r\n",
        "    # Perform one full pass over the training set.\r\n",
        "\r\n",
        "    print(\"\")\r\n",
        "    print('======== Epoch {:} / {:} ========'.format(epoch_i + 1, epochs))\r\n",
        "    print('Training...')\r\n",
        "\r\n",
        "    # Measure how long the training epoch takes.\r\n",
        "    t0 = time.time()\r\n",
        "\r\n",
        "    # Reset the total loss for this epoch.\r\n",
        "    total_loss = 0\r\n",
        "\r\n",
        "    # Put the model into training mode. Don't be mislead--the call to \r\n",
        "    # `train` just changes the *mode*, it doesn't *perform* the training.\r\n",
        "    # `dropout` and `batchnorm` layers behave differently during training\r\n",
        "    # vs. test (source: https://stackoverflow.com/questions/51433378/what-does-model-train-do-in-pytorch)\r\n",
        "    xlmr_model.train()\r\n",
        "\r\n",
        "    # For each batch of training data...\r\n",
        "    for step, batch in enumerate(train_dataloader):\r\n",
        "\r\n",
        "        # Progress update every 100 batches.\r\n",
        "        if step % 500 == 0 and not step == 0:\r\n",
        "            # Calculate elapsed time in minutes.\r\n",
        "            elapsed = format_time(time.time() - t0)\r\n",
        "            \r\n",
        "            # Report progress.\r\n",
        "            print('  Batch {:>5,}  of  {:>5,}.    Elapsed: {:}.'.format(step, len(train_dataloader), elapsed))\r\n",
        "\r\n",
        "        # Unpack this training batch from our dataloader. \r\n",
        "        #\r\n",
        "        # As we unpack the batch, we'll also copy each tensor to the GPU using the \r\n",
        "        # `to` method.\r\n",
        "        #\r\n",
        "        # `batch` contains three pytorch tensors:\r\n",
        "        #   [0]: input ids \r\n",
        "        #   [1]: attention masks\r\n",
        "        #   [2]: labels \r\n",
        "        b_input_ids = batch[0].to(device)\r\n",
        "        b_input_mask = batch[1].to(device)\r\n",
        "        b_labels = batch[2].to(device)\r\n",
        "\r\n",
        "        # Always clear any previously calculated gradients before performing a\r\n",
        "        # backward pass. PyTorch doesn't do this automatically because \r\n",
        "        # accumulating the gradients is \"convenient while training RNNs\". \r\n",
        "        # (source: https://stackoverflow.com/questions/48001598/why-do-we-need-to-call-zero-grad-in-pytorch)\r\n",
        "        xlmr_model.zero_grad()        \r\n",
        "\r\n",
        "        # Perform a forward pass (evaluate the model on this training batch).\r\n",
        "        # This will return the loss (rather than the model output) because we\r\n",
        "        # have provided the `labels`.\r\n",
        "        # The documentation for this `model` function is here: \r\n",
        "        # https://huggingface.co/transformers/v2.2.0/model_doc/bert.html#transformers.BertForSequenceClassification\r\n",
        "        outputs = xlmr_model(b_input_ids, \r\n",
        "                    token_type_ids=None, \r\n",
        "                    attention_mask=b_input_mask, \r\n",
        "                    labels=b_labels)\r\n",
        "        \r\n",
        "        # The call to `model` always returns a tuple, so we need to pull the \r\n",
        "        # loss value out of the tuple.\r\n",
        "        loss = outputs[0]\r\n",
        "\r\n",
        "        # Accumulate the training loss over all of the batches so that we can\r\n",
        "        # calculate the average loss at the end. `loss` is a Tensor containing a\r\n",
        "        # single value; the `.item()` function just returns the Python value \r\n",
        "        # from the tensor.\r\n",
        "        total_loss += loss.item()\r\n",
        "\r\n",
        "        # Perform a backward pass to calculate the gradients.\r\n",
        "        loss.backward()\r\n",
        "\r\n",
        "        # Clip the norm of the gradients to 1.0.\r\n",
        "        # This is to help prevent the \"exploding gradients\" problem.\r\n",
        "        torch.nn.utils.clip_grad_norm_(xlmr_model.parameters(), 1.0)\r\n",
        "\r\n",
        "        # Update parameters and take a step using the computed gradient.\r\n",
        "        # The optimizer dictates the \"update rule\"--how the parameters are\r\n",
        "        # modified based on their gradients, the learning rate, etc.\r\n",
        "        optimizer.step()\r\n",
        "\r\n",
        "        # Update the learning rate.\r\n",
        "        scheduler.step()\r\n",
        "\r\n",
        "    # Calculate the average loss over the training data.\r\n",
        "    avg_train_loss = total_loss / len(train_dataloader)            \r\n",
        "    \r\n",
        "    # Store the loss value for plotting the learning curve.\r\n",
        "    loss_values.append(avg_train_loss)\r\n",
        "\r\n",
        "    print(\"\")\r\n",
        "    print(\"  Average training loss: {0:.2f}\".format(avg_train_loss))\r\n",
        "    print(\"  Training epoch took: {:}\".format(format_time(time.time() - t0)))\r\n",
        "      \r\n",
        "print(\"\")\r\n",
        "print(\"Training complete!\")"
      ],
      "execution_count": null,
      "outputs": [
        {
          "output_type": "stream",
          "text": [
            "\n",
            "======== Epoch 1 / 1 ========\n",
            "Training...\n",
            "  Batch   500  of    563.    Elapsed: 0:03:40.\n",
            "\n",
            "  Average training loss: 1.11\n",
            "  Training epoch took: 0:04:08\n",
            "\n",
            "Training complete!\n"
          ],
          "name": "stdout"
        }
      ]
    },
    {
      "cell_type": "code",
      "metadata": {
        "id": "VZKNn7M7vPGV"
      },
      "source": [
        "import numpy as np\r\n",
        "\r\n",
        "# Function to calculate the accuracy of our predictions vs labels\r\n",
        "def flat_accuracy(preds, labels):\r\n",
        "    pred_flat = np.argmax(preds, axis=1).flatten()\r\n",
        "    labels_flat = labels.flatten()\r\n",
        "    return np.sum(pred_flat == labels_flat) / len(labels_flat)"
      ],
      "execution_count": null,
      "outputs": []
    },
    {
      "cell_type": "code",
      "metadata": {
        "colab": {
          "base_uri": "https://localhost:8080/"
        },
        "id": "Db8tFL1IlGu9",
        "outputId": "5684b53d-8d39-42e0-f61d-a7543420d219"
      },
      "source": [
        "#               Validation\r\n",
        "# ========================================\r\n",
        "# After the completion of each training epoch, measure our performance on\r\n",
        "# our validation set.\r\n",
        "\r\n",
        "print(\"\")\r\n",
        "print(\"Running Validation...\")\r\n",
        "\r\n",
        "t0 = time.time()\r\n",
        "\r\n",
        "# Put the model in evaluation mode--the dropout layers behave differently\r\n",
        "# during evaluation.\r\n",
        "xlmr_model.eval()\r\n",
        "\r\n",
        "preds=[]\r\n",
        "true=[]\r\n",
        "\r\n",
        "# Tracking variables \r\n",
        "eval_loss, eval_accuracy = 0, 0\r\n",
        "nb_eval_steps, nb_eval_examples = 0, 0\r\n",
        "\r\n",
        "# Evaluate data for one epoch\r\n",
        "for batch in validation_dataloader:\r\n",
        "    \r\n",
        "    # Add batch to GPU\r\n",
        "    batch = tuple(t.to(device) for t in batch)\r\n",
        "    \r\n",
        "    # Unpack the inputs from our dataloader\r\n",
        "    b_input_ids, b_input_mask, b_labels = batch\r\n",
        "    \r\n",
        "    # Telling the model not to compute or store gradients, saving memory and\r\n",
        "    # speeding up validation\r\n",
        "    with torch.no_grad():        \r\n",
        "\r\n",
        "        # Forward pass, calculate logit predictions.\r\n",
        "        # This will return the logits rather than the loss because we have\r\n",
        "        # not provided labels.\r\n",
        "        # token_type_ids is the same as the \"segment ids\", which \r\n",
        "        # differentiates sentence 1 and 2 in 2-sentence tasks.\r\n",
        "\r\n",
        "        outputs =  xlmr_model(b_input_ids, \r\n",
        "                        token_type_ids=None, \r\n",
        "                        attention_mask=b_input_mask)\r\n",
        "    \r\n",
        "    # Get the \"logits\" output by the model. The \"logits\" are the output\r\n",
        "    # values prior to applying an activation function like the softmax.\r\n",
        "    logits = outputs[0]\r\n",
        "\r\n",
        "    # Move logits and labels to CPU\r\n",
        "    logits = logits.detach().cpu().numpy()\r\n",
        "    label_ids = b_labels.to('cpu').numpy()\r\n",
        "    \r\n",
        "    preds.append(logits)\r\n",
        "    true.append(label_ids)\r\n",
        "    # Calculate the accuracy for this batch of test sentences.\r\n",
        "    tmp_eval_accuracy = flat_accuracy(logits, label_ids)\r\n",
        "    \r\n",
        "    # Accumulate the total accuracy.\r\n",
        "    eval_accuracy += tmp_eval_accuracy\r\n",
        "\r\n",
        "    # Track the number of batches\r\n",
        "    nb_eval_steps += 1\r\n",
        "\r\n",
        "# Report the final accuracy for this validation run.\r\n",
        "print(\"  Accuracy: {0:.2f}\".format(eval_accuracy/nb_eval_steps))\r\n",
        "print(\"  Validation took: {:}\".format(format_time(time.time() - t0)))"
      ],
      "execution_count": null,
      "outputs": [
        {
          "output_type": "stream",
          "text": [
            "\n",
            "Running Validation...\n",
            "  Accuracy: 0.38\n",
            "  Validation took: 0:00:07\n"
          ],
          "name": "stdout"
        }
      ]
    },
    {
      "cell_type": "code",
      "metadata": {
        "id": "vaLmIG2k8A8D"
      },
      "source": [
        "PATH = \"/content/drive/MyDrive/xlm.pt\"\r\n",
        "\r\n",
        "# Save\r\n",
        "torch.save(xlmr_model,PATH) \r\n",
        "\r\n",
        "# # Load\r\n",
        "\r\n",
        "# model.load_state_dict(torch.load(PATH))\r\n",
        "# model.eval()"
      ],
      "execution_count": null,
      "outputs": []
    },
    {
      "cell_type": "code",
      "metadata": {
        "colab": {
          "base_uri": "https://localhost:8080/"
        },
        "id": "4E433HYp8GxV",
        "outputId": "db1a149b-776e-4f94-a761-b13d084e6818"
      },
      "source": [
        "# Load\r\n",
        "# Load\r\n",
        "model = torch.load(PATH,map_location='cpu')\r\n",
        "model.eval()"
      ],
      "execution_count": null,
      "outputs": [
        {
          "output_type": "execute_result",
          "data": {
            "text/plain": [
              "XLMRobertaForSequenceClassification(\n",
              "  (roberta): RobertaModel(\n",
              "    (embeddings): RobertaEmbeddings(\n",
              "      (word_embeddings): Embedding(250002, 768, padding_idx=1)\n",
              "      (position_embeddings): Embedding(514, 768, padding_idx=1)\n",
              "      (token_type_embeddings): Embedding(1, 768)\n",
              "      (LayerNorm): LayerNorm((768,), eps=1e-05, elementwise_affine=True)\n",
              "      (dropout): Dropout(p=0.1, inplace=False)\n",
              "    )\n",
              "    (encoder): RobertaEncoder(\n",
              "      (layer): ModuleList(\n",
              "        (0): RobertaLayer(\n",
              "          (attention): RobertaAttention(\n",
              "            (self): RobertaSelfAttention(\n",
              "              (query): Linear(in_features=768, out_features=768, bias=True)\n",
              "              (key): Linear(in_features=768, out_features=768, bias=True)\n",
              "              (value): Linear(in_features=768, out_features=768, bias=True)\n",
              "              (dropout): Dropout(p=0.1, inplace=False)\n",
              "            )\n",
              "            (output): RobertaSelfOutput(\n",
              "              (dense): Linear(in_features=768, out_features=768, bias=True)\n",
              "              (LayerNorm): LayerNorm((768,), eps=1e-05, elementwise_affine=True)\n",
              "              (dropout): Dropout(p=0.1, inplace=False)\n",
              "            )\n",
              "          )\n",
              "          (intermediate): RobertaIntermediate(\n",
              "            (dense): Linear(in_features=768, out_features=3072, bias=True)\n",
              "          )\n",
              "          (output): RobertaOutput(\n",
              "            (dense): Linear(in_features=3072, out_features=768, bias=True)\n",
              "            (LayerNorm): LayerNorm((768,), eps=1e-05, elementwise_affine=True)\n",
              "            (dropout): Dropout(p=0.1, inplace=False)\n",
              "          )\n",
              "        )\n",
              "        (1): RobertaLayer(\n",
              "          (attention): RobertaAttention(\n",
              "            (self): RobertaSelfAttention(\n",
              "              (query): Linear(in_features=768, out_features=768, bias=True)\n",
              "              (key): Linear(in_features=768, out_features=768, bias=True)\n",
              "              (value): Linear(in_features=768, out_features=768, bias=True)\n",
              "              (dropout): Dropout(p=0.1, inplace=False)\n",
              "            )\n",
              "            (output): RobertaSelfOutput(\n",
              "              (dense): Linear(in_features=768, out_features=768, bias=True)\n",
              "              (LayerNorm): LayerNorm((768,), eps=1e-05, elementwise_affine=True)\n",
              "              (dropout): Dropout(p=0.1, inplace=False)\n",
              "            )\n",
              "          )\n",
              "          (intermediate): RobertaIntermediate(\n",
              "            (dense): Linear(in_features=768, out_features=3072, bias=True)\n",
              "          )\n",
              "          (output): RobertaOutput(\n",
              "            (dense): Linear(in_features=3072, out_features=768, bias=True)\n",
              "            (LayerNorm): LayerNorm((768,), eps=1e-05, elementwise_affine=True)\n",
              "            (dropout): Dropout(p=0.1, inplace=False)\n",
              "          )\n",
              "        )\n",
              "        (2): RobertaLayer(\n",
              "          (attention): RobertaAttention(\n",
              "            (self): RobertaSelfAttention(\n",
              "              (query): Linear(in_features=768, out_features=768, bias=True)\n",
              "              (key): Linear(in_features=768, out_features=768, bias=True)\n",
              "              (value): Linear(in_features=768, out_features=768, bias=True)\n",
              "              (dropout): Dropout(p=0.1, inplace=False)\n",
              "            )\n",
              "            (output): RobertaSelfOutput(\n",
              "              (dense): Linear(in_features=768, out_features=768, bias=True)\n",
              "              (LayerNorm): LayerNorm((768,), eps=1e-05, elementwise_affine=True)\n",
              "              (dropout): Dropout(p=0.1, inplace=False)\n",
              "            )\n",
              "          )\n",
              "          (intermediate): RobertaIntermediate(\n",
              "            (dense): Linear(in_features=768, out_features=3072, bias=True)\n",
              "          )\n",
              "          (output): RobertaOutput(\n",
              "            (dense): Linear(in_features=3072, out_features=768, bias=True)\n",
              "            (LayerNorm): LayerNorm((768,), eps=1e-05, elementwise_affine=True)\n",
              "            (dropout): Dropout(p=0.1, inplace=False)\n",
              "          )\n",
              "        )\n",
              "        (3): RobertaLayer(\n",
              "          (attention): RobertaAttention(\n",
              "            (self): RobertaSelfAttention(\n",
              "              (query): Linear(in_features=768, out_features=768, bias=True)\n",
              "              (key): Linear(in_features=768, out_features=768, bias=True)\n",
              "              (value): Linear(in_features=768, out_features=768, bias=True)\n",
              "              (dropout): Dropout(p=0.1, inplace=False)\n",
              "            )\n",
              "            (output): RobertaSelfOutput(\n",
              "              (dense): Linear(in_features=768, out_features=768, bias=True)\n",
              "              (LayerNorm): LayerNorm((768,), eps=1e-05, elementwise_affine=True)\n",
              "              (dropout): Dropout(p=0.1, inplace=False)\n",
              "            )\n",
              "          )\n",
              "          (intermediate): RobertaIntermediate(\n",
              "            (dense): Linear(in_features=768, out_features=3072, bias=True)\n",
              "          )\n",
              "          (output): RobertaOutput(\n",
              "            (dense): Linear(in_features=3072, out_features=768, bias=True)\n",
              "            (LayerNorm): LayerNorm((768,), eps=1e-05, elementwise_affine=True)\n",
              "            (dropout): Dropout(p=0.1, inplace=False)\n",
              "          )\n",
              "        )\n",
              "        (4): RobertaLayer(\n",
              "          (attention): RobertaAttention(\n",
              "            (self): RobertaSelfAttention(\n",
              "              (query): Linear(in_features=768, out_features=768, bias=True)\n",
              "              (key): Linear(in_features=768, out_features=768, bias=True)\n",
              "              (value): Linear(in_features=768, out_features=768, bias=True)\n",
              "              (dropout): Dropout(p=0.1, inplace=False)\n",
              "            )\n",
              "            (output): RobertaSelfOutput(\n",
              "              (dense): Linear(in_features=768, out_features=768, bias=True)\n",
              "              (LayerNorm): LayerNorm((768,), eps=1e-05, elementwise_affine=True)\n",
              "              (dropout): Dropout(p=0.1, inplace=False)\n",
              "            )\n",
              "          )\n",
              "          (intermediate): RobertaIntermediate(\n",
              "            (dense): Linear(in_features=768, out_features=3072, bias=True)\n",
              "          )\n",
              "          (output): RobertaOutput(\n",
              "            (dense): Linear(in_features=3072, out_features=768, bias=True)\n",
              "            (LayerNorm): LayerNorm((768,), eps=1e-05, elementwise_affine=True)\n",
              "            (dropout): Dropout(p=0.1, inplace=False)\n",
              "          )\n",
              "        )\n",
              "        (5): RobertaLayer(\n",
              "          (attention): RobertaAttention(\n",
              "            (self): RobertaSelfAttention(\n",
              "              (query): Linear(in_features=768, out_features=768, bias=True)\n",
              "              (key): Linear(in_features=768, out_features=768, bias=True)\n",
              "              (value): Linear(in_features=768, out_features=768, bias=True)\n",
              "              (dropout): Dropout(p=0.1, inplace=False)\n",
              "            )\n",
              "            (output): RobertaSelfOutput(\n",
              "              (dense): Linear(in_features=768, out_features=768, bias=True)\n",
              "              (LayerNorm): LayerNorm((768,), eps=1e-05, elementwise_affine=True)\n",
              "              (dropout): Dropout(p=0.1, inplace=False)\n",
              "            )\n",
              "          )\n",
              "          (intermediate): RobertaIntermediate(\n",
              "            (dense): Linear(in_features=768, out_features=3072, bias=True)\n",
              "          )\n",
              "          (output): RobertaOutput(\n",
              "            (dense): Linear(in_features=3072, out_features=768, bias=True)\n",
              "            (LayerNorm): LayerNorm((768,), eps=1e-05, elementwise_affine=True)\n",
              "            (dropout): Dropout(p=0.1, inplace=False)\n",
              "          )\n",
              "        )\n",
              "        (6): RobertaLayer(\n",
              "          (attention): RobertaAttention(\n",
              "            (self): RobertaSelfAttention(\n",
              "              (query): Linear(in_features=768, out_features=768, bias=True)\n",
              "              (key): Linear(in_features=768, out_features=768, bias=True)\n",
              "              (value): Linear(in_features=768, out_features=768, bias=True)\n",
              "              (dropout): Dropout(p=0.1, inplace=False)\n",
              "            )\n",
              "            (output): RobertaSelfOutput(\n",
              "              (dense): Linear(in_features=768, out_features=768, bias=True)\n",
              "              (LayerNorm): LayerNorm((768,), eps=1e-05, elementwise_affine=True)\n",
              "              (dropout): Dropout(p=0.1, inplace=False)\n",
              "            )\n",
              "          )\n",
              "          (intermediate): RobertaIntermediate(\n",
              "            (dense): Linear(in_features=768, out_features=3072, bias=True)\n",
              "          )\n",
              "          (output): RobertaOutput(\n",
              "            (dense): Linear(in_features=3072, out_features=768, bias=True)\n",
              "            (LayerNorm): LayerNorm((768,), eps=1e-05, elementwise_affine=True)\n",
              "            (dropout): Dropout(p=0.1, inplace=False)\n",
              "          )\n",
              "        )\n",
              "        (7): RobertaLayer(\n",
              "          (attention): RobertaAttention(\n",
              "            (self): RobertaSelfAttention(\n",
              "              (query): Linear(in_features=768, out_features=768, bias=True)\n",
              "              (key): Linear(in_features=768, out_features=768, bias=True)\n",
              "              (value): Linear(in_features=768, out_features=768, bias=True)\n",
              "              (dropout): Dropout(p=0.1, inplace=False)\n",
              "            )\n",
              "            (output): RobertaSelfOutput(\n",
              "              (dense): Linear(in_features=768, out_features=768, bias=True)\n",
              "              (LayerNorm): LayerNorm((768,), eps=1e-05, elementwise_affine=True)\n",
              "              (dropout): Dropout(p=0.1, inplace=False)\n",
              "            )\n",
              "          )\n",
              "          (intermediate): RobertaIntermediate(\n",
              "            (dense): Linear(in_features=768, out_features=3072, bias=True)\n",
              "          )\n",
              "          (output): RobertaOutput(\n",
              "            (dense): Linear(in_features=3072, out_features=768, bias=True)\n",
              "            (LayerNorm): LayerNorm((768,), eps=1e-05, elementwise_affine=True)\n",
              "            (dropout): Dropout(p=0.1, inplace=False)\n",
              "          )\n",
              "        )\n",
              "        (8): RobertaLayer(\n",
              "          (attention): RobertaAttention(\n",
              "            (self): RobertaSelfAttention(\n",
              "              (query): Linear(in_features=768, out_features=768, bias=True)\n",
              "              (key): Linear(in_features=768, out_features=768, bias=True)\n",
              "              (value): Linear(in_features=768, out_features=768, bias=True)\n",
              "              (dropout): Dropout(p=0.1, inplace=False)\n",
              "            )\n",
              "            (output): RobertaSelfOutput(\n",
              "              (dense): Linear(in_features=768, out_features=768, bias=True)\n",
              "              (LayerNorm): LayerNorm((768,), eps=1e-05, elementwise_affine=True)\n",
              "              (dropout): Dropout(p=0.1, inplace=False)\n",
              "            )\n",
              "          )\n",
              "          (intermediate): RobertaIntermediate(\n",
              "            (dense): Linear(in_features=768, out_features=3072, bias=True)\n",
              "          )\n",
              "          (output): RobertaOutput(\n",
              "            (dense): Linear(in_features=3072, out_features=768, bias=True)\n",
              "            (LayerNorm): LayerNorm((768,), eps=1e-05, elementwise_affine=True)\n",
              "            (dropout): Dropout(p=0.1, inplace=False)\n",
              "          )\n",
              "        )\n",
              "        (9): RobertaLayer(\n",
              "          (attention): RobertaAttention(\n",
              "            (self): RobertaSelfAttention(\n",
              "              (query): Linear(in_features=768, out_features=768, bias=True)\n",
              "              (key): Linear(in_features=768, out_features=768, bias=True)\n",
              "              (value): Linear(in_features=768, out_features=768, bias=True)\n",
              "              (dropout): Dropout(p=0.1, inplace=False)\n",
              "            )\n",
              "            (output): RobertaSelfOutput(\n",
              "              (dense): Linear(in_features=768, out_features=768, bias=True)\n",
              "              (LayerNorm): LayerNorm((768,), eps=1e-05, elementwise_affine=True)\n",
              "              (dropout): Dropout(p=0.1, inplace=False)\n",
              "            )\n",
              "          )\n",
              "          (intermediate): RobertaIntermediate(\n",
              "            (dense): Linear(in_features=768, out_features=3072, bias=True)\n",
              "          )\n",
              "          (output): RobertaOutput(\n",
              "            (dense): Linear(in_features=3072, out_features=768, bias=True)\n",
              "            (LayerNorm): LayerNorm((768,), eps=1e-05, elementwise_affine=True)\n",
              "            (dropout): Dropout(p=0.1, inplace=False)\n",
              "          )\n",
              "        )\n",
              "        (10): RobertaLayer(\n",
              "          (attention): RobertaAttention(\n",
              "            (self): RobertaSelfAttention(\n",
              "              (query): Linear(in_features=768, out_features=768, bias=True)\n",
              "              (key): Linear(in_features=768, out_features=768, bias=True)\n",
              "              (value): Linear(in_features=768, out_features=768, bias=True)\n",
              "              (dropout): Dropout(p=0.1, inplace=False)\n",
              "            )\n",
              "            (output): RobertaSelfOutput(\n",
              "              (dense): Linear(in_features=768, out_features=768, bias=True)\n",
              "              (LayerNorm): LayerNorm((768,), eps=1e-05, elementwise_affine=True)\n",
              "              (dropout): Dropout(p=0.1, inplace=False)\n",
              "            )\n",
              "          )\n",
              "          (intermediate): RobertaIntermediate(\n",
              "            (dense): Linear(in_features=768, out_features=3072, bias=True)\n",
              "          )\n",
              "          (output): RobertaOutput(\n",
              "            (dense): Linear(in_features=3072, out_features=768, bias=True)\n",
              "            (LayerNorm): LayerNorm((768,), eps=1e-05, elementwise_affine=True)\n",
              "            (dropout): Dropout(p=0.1, inplace=False)\n",
              "          )\n",
              "        )\n",
              "        (11): RobertaLayer(\n",
              "          (attention): RobertaAttention(\n",
              "            (self): RobertaSelfAttention(\n",
              "              (query): Linear(in_features=768, out_features=768, bias=True)\n",
              "              (key): Linear(in_features=768, out_features=768, bias=True)\n",
              "              (value): Linear(in_features=768, out_features=768, bias=True)\n",
              "              (dropout): Dropout(p=0.1, inplace=False)\n",
              "            )\n",
              "            (output): RobertaSelfOutput(\n",
              "              (dense): Linear(in_features=768, out_features=768, bias=True)\n",
              "              (LayerNorm): LayerNorm((768,), eps=1e-05, elementwise_affine=True)\n",
              "              (dropout): Dropout(p=0.1, inplace=False)\n",
              "            )\n",
              "          )\n",
              "          (intermediate): RobertaIntermediate(\n",
              "            (dense): Linear(in_features=768, out_features=3072, bias=True)\n",
              "          )\n",
              "          (output): RobertaOutput(\n",
              "            (dense): Linear(in_features=3072, out_features=768, bias=True)\n",
              "            (LayerNorm): LayerNorm((768,), eps=1e-05, elementwise_affine=True)\n",
              "            (dropout): Dropout(p=0.1, inplace=False)\n",
              "          )\n",
              "        )\n",
              "      )\n",
              "    )\n",
              "  )\n",
              "  (classifier): RobertaClassificationHead(\n",
              "    (dense): Linear(in_features=768, out_features=768, bias=True)\n",
              "    (dropout): Dropout(p=0.1, inplace=False)\n",
              "    (out_proj): Linear(in_features=768, out_features=3, bias=True)\n",
              "  )\n",
              ")"
            ]
          },
          "metadata": {
            "tags": []
          },
          "execution_count": 39
        }
      ]
    },
    {
      "cell_type": "code",
      "metadata": {
        "id": "LiyPwqR2mVS7"
      },
      "source": [
        "PATH = \"/content/drive/MyDrive/xlm.pt\"\r\n",
        "model1 = torch.load(PATH, map_location='cpu')\r\n"
      ],
      "execution_count": null,
      "outputs": []
    },
    {
      "cell_type": "code",
      "metadata": {
        "colab": {
          "background_save": true,
          "base_uri": "https://localhost:8080/"
        },
        "id": "cjETliooBtRc",
        "outputId": "6b1ebbab-272b-49d5-e040-42754e8636df"
      },
      "source": [
        "from transformers import XLMRobertaForSequenceClassification\r\n",
        "import torch\r\n",
        "xlmr_model1 = XLMRobertaForSequenceClassification.from_pretrained(\"xlm-roberta-base\", num_labels=3)\r\n",
        "tokenizer1 = XLMRobertaTokenizer.from_pretrained(\"xlm-roberta-base\" )"
      ],
      "execution_count": null,
      "outputs": [
        {
          "output_type": "stream",
          "text": [
            "Some weights of the model checkpoint at xlm-roberta-base were not used when initializing XLMRobertaForSequenceClassification: ['lm_head.bias', 'lm_head.dense.weight', 'lm_head.dense.bias', 'lm_head.layer_norm.weight', 'lm_head.layer_norm.bias', 'lm_head.decoder.weight', 'roberta.pooler.dense.weight', 'roberta.pooler.dense.bias']\n",
            "- This IS expected if you are initializing XLMRobertaForSequenceClassification from the checkpoint of a model trained on another task or with another architecture (e.g. initializing a BertForSequenceClassification model from a BertForPreTraining model).\n",
            "- This IS NOT expected if you are initializing XLMRobertaForSequenceClassification from the checkpoint of a model that you expect to be exactly identical (initializing a BertForSequenceClassification model from a BertForSequenceClassification model).\n",
            "Some weights of XLMRobertaForSequenceClassification were not initialized from the model checkpoint at xlm-roberta-base and are newly initialized: ['classifier.dense.weight', 'classifier.dense.bias', 'classifier.out_proj.weight', 'classifier.out_proj.bias']\n",
            "You should probably TRAIN this model on a down-stream task to be able to use it for predictions and inference.\n"
          ],
          "name": "stderr"
        }
      ]
    },
    {
      "cell_type": "markdown",
      "metadata": {
        "id": "UyrxDQdQm18J"
      },
      "source": [
        "## 4.2. Training Loop"
      ]
    },
    {
      "cell_type": "code",
      "metadata": {
        "id": "4DWpKOW9CB7b"
      },
      "source": [
        ""
      ],
      "execution_count": null,
      "outputs": []
    },
    {
      "cell_type": "markdown",
      "metadata": {
        "id": "VQTvJ1vRP7u4"
      },
      "source": [
        "Let's view the summary of the training process.\n",
        "\n",
        "First we'll put the statistics into a pandas DataFrame."
      ]
    },
    {
      "cell_type": "code",
      "metadata": {
        "id": "O3F1h39QA-n0"
      },
      "source": [
        ""
      ],
      "execution_count": null,
      "outputs": []
    },
    {
      "cell_type": "markdown",
      "metadata": {
        "id": "EDBav4LrDdBE"
      },
      "source": [
        "We don't appear to be over-fitting (validation loss is still going downward), so that's good!"
      ]
    },
    {
      "cell_type": "code",
      "metadata": {
        "id": "RAeZotyTCBC5"
      },
      "source": [
        "def Prediction(sentence_1,sentence_2):\r\n",
        "  tokenizer1=XLMRobertaTokenizer.from_pretrained(\"xlm-roberta-base\")\r\n",
        "  model1=torch.load(PATH,map_location='cpu')\r\n",
        "  line_tokenized=tokenizer1.batch_encode_plus(sentence_1,sentence_2)\r\n",
        "  input_ids1=line_tokenized[\"input_ids\"]\r\n",
        "  attention_masks1=line_tokenized[\"attention_mask\"]\r\n",
        "  prediction_inputs1=torch.tensor(input_ids1)\r\n",
        "  prediction_masks1=torch.tensor(attention_masks1)\r\n",
        "  prediction_data1=TensorDataset(prediction_inputs1,prediction_masks1,label)\r\n",
        "  prediction_dataloader1= DataLoader(prediction_data1,batch_size)\r\n",
        "  # Put model in evaluation mode\r\n",
        "  model1.eval()\r\n",
        "# Tracking variables \r\n",
        "  predictions = []\r\n",
        "  true_labels=[]\r\n",
        "# Predict \r\n",
        "  for batch in prediction_dataloader1:\r\n",
        "  # Add batch to GPU\r\n",
        "    batch = tuple(t.to('cpu') for t in batch)\r\n",
        "  # Unpack the inputs from our dataloader\r\n",
        "    b_input_ids, b_input_masks,b_labels = batch\r\n",
        "  # Telling the model not to compute or store gradients, saving memory and \r\n",
        "  # speeding up prediction\r\n",
        "    with torch.no_grad():\r\n",
        "      # Forward pass, calculate logit predictions\r\n",
        "      outputs1 = model1(b_input_ids, token_type_ids=None, \r\n",
        "                      attention_mask=b_input_masks)\r\n",
        "    logits1 = outputs1[0]\r\n",
        "    label_ids = b_labels.to('cpu').numpy()\r\n",
        "\r\n",
        "  # Move logits and labels to CPU\r\n",
        "    logits1 = logits1.detach().cpu().numpy()\r\n",
        "\r\n",
        "  # Store predictions and true labels\r\n",
        "    predictions.append(logits1)\r\n",
        "    flat_predictions = np.concatenate(predictions, axis=0)\r\n",
        "    flat_true_labels = np.concatenate(true_labels, axis=0)\r\n",
        "    predicted_labels = np.argmax(flat_predictions, axis=1).flatten()\r\n",
        "\r\n",
        "    return flat_predictions"
      ],
      "execution_count": null,
      "outputs": []
    },
    {
      "cell_type": "code",
      "metadata": {
        "id": "DVoUvml8CCAY"
      },
      "source": [
        "sentence_3=['Two Men are smiling and laughing']\r\n",
        "sentence_4=['Two Men are smiling and laughing']\r\n",
        "\r\n",
        "Prediction(sentence_3,sentence_4)"
      ],
      "execution_count": null,
      "outputs": []
    },
    {
      "cell_type": "markdown",
      "metadata": {
        "id": "OS2NX8DdHJCa"
      },
      "source": [
        "# S5. Test on Turkish NLI\n"
      ]
    },
    {
      "cell_type": "markdown",
      "metadata": {
        "id": "bVhGOWRECAeq"
      },
      "source": [
        ""
      ]
    },
    {
      "cell_type": "markdown",
      "metadata": {
        "id": "GibFLFMIBjbP"
      },
      "source": [
        "## 5.1. Tokenize Turkish Test Samples"
      ]
    },
    {
      "cell_type": "markdown",
      "metadata": {
        "id": "8v6khpLVpOqG"
      },
      "source": [
        "OK! Let's retrieve and tokenize all of the Turkish sentences from the XNLI test set."
      ]
    },
    {
      "cell_type": "code",
      "metadata": {
        "colab": {
          "base_uri": "https://localhost:8080/"
        },
        "id": "Rkxc0KdlBZAH",
        "outputId": "4d018d45-1dae-42ae-c872-431cd6579b8e"
      },
      "source": [
        "import torch\n",
        "\n",
        "labels_tr = []\n",
        "input_ids_tr = []\n",
        "attn_masks_tr = []\n",
        "max_len=128\n",
        "\n",
        "print('Encoding test examples...')\n",
        "\n",
        "language_code = 'tr'\n",
        "language_index = 11\n",
        "\n",
        "# Iterate through the XNLI dataset...\n",
        "for ex in xnli_dataset:\n",
        "  \n",
        "\n",
        "    # Retrieve the premise and hypothesis strings. \n",
        "    premise = ex['premise'][language_code].numpy().decode(\"utf-8\")\n",
        "    hypothesis = ex['hypothesis']['translation'][language_index].numpy().decode(\"utf-8\")\n",
        "\n",
        "    # Convert sentence pairs to input IDs, with attention masks.\n",
        "    encoded_dict = tokenizer1.encode_plus(premise, hypothesis, \n",
        "                                              max_length=max_len, \n",
        "                                              pad_to_max_length=True,\n",
        "                                              truncation=True, \n",
        "                                              return_tensors='pt')\n",
        "\n",
        "    # Add this example to our lists.\n",
        "    input_ids_tr.append(encoded_dict['input_ids'])\n",
        "    attn_masks_tr.append(encoded_dict['attention_mask'])\n",
        "    labels_tr.append(ex['label'].numpy())\n",
        "    \n",
        "# Convert each Python list of Tensors into a 2D Tensor matrix.\n",
        "input_ids_tr = torch.cat(input_ids_tr, dim=0)\n",
        "attn_masks_tr = torch.cat(attn_masks_tr, dim=0)\n",
        "\n",
        "# Cast the labels list to a Tensor.\n",
        "labels_tr = torch.tensor(labels_tr)\n",
        "\n",
        "print('   DONE. {:,} examples.'.format(len(labels_tr)))"
      ],
      "execution_count": null,
      "outputs": [
        {
          "output_type": "stream",
          "text": [
            "Encoding test examples...\n"
          ],
          "name": "stdout"
        },
        {
          "output_type": "stream",
          "text": [
            "/usr/local/lib/python3.6/dist-packages/transformers/tokenization_utils_base.py:2142: FutureWarning: The `pad_to_max_length` argument is deprecated and will be removed in a future version, use `padding=True` or `padding='longest'` to pad to the longest sequence in the batch, or use `padding='max_length'` to pad to a max length. In this case, you can give a specific length with `max_length` (e.g. `max_length=45`) or leave max_length to None to pad to the maximal input size of the model (e.g. 512 for Bert).\n",
            "  FutureWarning,\n"
          ],
          "name": "stderr"
        },
        {
          "output_type": "stream",
          "text": [
            "   DONE. 5,010 examples.\n"
          ],
          "name": "stdout"
        }
      ]
    },
    {
      "cell_type": "code",
      "metadata": {
        "id": "mZ7bp4b1DqxP"
      },
      "source": [
        "# Construct a TensorDataset from the encoded examples.\n",
        "from torch.utils.data import TensorDataset, random_split\n",
        "from torch.utils.data import DataLoader, RandomSampler, SequentialSampler\n",
        "batch_size = 16\n",
        "prediction_dataset = TensorDataset(input_ids_tr, attn_masks_tr, labels_tr)\n",
        "\n",
        "# And a dataloader for handling batching.\n",
        "prediction_dataloader = DataLoader(prediction_dataset, batch_size=batch_size)\n"
      ],
      "execution_count": null,
      "outputs": []
    },
    {
      "cell_type": "markdown",
      "metadata": {
        "id": "s3FHCtC2Isgd"
      },
      "source": [
        "Finally, let's look at the class balance of our test set."
      ]
    },
    {
      "cell_type": "code",
      "metadata": {
        "colab": {
          "base_uri": "https://localhost:8080/",
          "height": 349
        },
        "id": "KhCwoItCIsge",
        "outputId": "6dffd5bb-02fd-41ec-c640-4d9f4305f3cc"
      },
      "source": [
        "# Plot the number of tokens of each length.\n",
        "\n",
        "import matplotlib.pyplot as plt\n",
        "import seaborn as sns\n",
        "import numpy as np\n",
        "sns.countplot(labels_tr.numpy())\n",
        "\n",
        "plt.title('Class Distribution')\n",
        "plt.xlabel('Category')\n",
        "plt.ylabel('# of Training Samples')\n",
        "\n",
        "plt.show()"
      ],
      "execution_count": null,
      "outputs": [
        {
          "output_type": "stream",
          "text": [
            "/usr/local/lib/python3.6/dist-packages/seaborn/_decorators.py:43: FutureWarning: Pass the following variable as a keyword arg: x. From version 0.12, the only valid positional argument will be `data`, and passing other arguments without an explicit keyword will result in an error or misinterpretation.\n",
            "  FutureWarning\n"
          ],
          "name": "stderr"
        },
        {
          "output_type": "display_data",
          "data": {
            "image/png": "[encoded data removed]",
            "text/plain": [
              "<Figure size 432x288 with 1 Axes>"
            ]
          },
          "metadata": {
            "tags": []
          }
        }
      ]
    },
    {
      "cell_type": "markdown",
      "metadata": {
        "id": "z3pRzQ-mJKHM"
      },
      "source": [
        "The test set is also balanced, so we can rely on simple flat accuracy as our metric."
      ]
    },
    {
      "cell_type": "markdown",
      "metadata": {
        "id": "1sCoREzoGVjI"
      },
      "source": [
        "## 5.2. Run Prediction"
      ]
    },
    {
      "cell_type": "markdown",
      "metadata": {
        "id": "xkreTtjlJQrU"
      },
      "source": [
        "Run all of our Turkish test samples through our model to get predictions!"
      ]
    },
    {
      "cell_type": "code",
      "metadata": {
        "colab": {
          "background_save": true,
          "base_uri": "https://localhost:8080/"
        },
        "id": "Hb1Eca412p-s",
        "outputId": "79d1dd71-9329-4d9c-a4ef-6f77d9c7bfaf"
      },
      "source": [
        "# Prediction on test set\n",
        "print('Predicting labels for {:,} test sentences...'.format(len(input_ids_tr)))\n",
        "\n",
        "# Put model in evaluation mode\n",
        "model1.eval()\n",
        "\n",
        "# Tracking variables \n",
        "predictions , true_labels = [], []\n",
        "\n",
        "count = 0\n",
        "\n",
        "# Predict \n",
        "for batch in prediction_dataloader:\n",
        "    \n",
        "    # Add batch to GPU\n",
        "    batch = tuple(t.to('cpu') for t in batch)\n",
        "    \n",
        "    # Unpack the inputs from our dataloader\n",
        "    b_input_ids, b_input_mask, b_labels = batch\n",
        "    \n",
        "    # Telling the model not to compute or store gradients, saving memory and \n",
        "    # speeding up prediction\n",
        "    with torch.no_grad():\n",
        "        # Forward pass, calculate logit predictions\n",
        "        outputs = model1(b_input_ids, \n",
        "                            token_type_ids=None, \n",
        "                            attention_mask=b_input_mask)\n",
        "\n",
        "    logits = outputs[0]\n",
        "\n",
        "    # Move logits and labels to CPU\n",
        "    logits = logits.detach().cpu().numpy()\n",
        "    label_ids = b_labels.to('cpu').numpy()\n",
        "    \n",
        "    # Store predictions and true labels\n",
        "    predictions.append(logits)\n",
        "    true_labels.append(label_ids)\n",
        "\n",
        "print('    DONE.')"
      ],
      "execution_count": null,
      "outputs": [
        {
          "output_type": "stream",
          "text": [
            "Predicting labels for 5,010 test sentences...\n",
            "    DONE.\n"
          ],
          "name": "stdout"
        }
      ]
    },
    {
      "cell_type": "markdown",
      "metadata": {
        "id": "JrBswmqmyH5m"
      },
      "source": [
        "To turn our model outputs into actual predictions, we need to:\n",
        "\n",
        "1. Re-combine the predictions from across all of the batches.\n",
        "2. Pick a class label for each prediction by choosing the class with the highest output value."
      ]
    },
    {
      "cell_type": "code",
      "metadata": {
        "id": "F4I59mdjXiet"
      },
      "source": [
        "# Combine the results across all batches. \n",
        "flat_predictions = np.concatenate(predictions, axis=0)\n",
        "flat_true_labels = np.concatenate(true_labels, axis=0)\n",
        "\n",
        "# For each sample, pick the label (0, 1, or 2) with the highest score.\n",
        "predicted_labels = np.argmax(flat_predictions, axis=1).flatten()"
      ],
      "execution_count": null,
      "outputs": []
    },
    {
      "cell_type": "markdown",
      "metadata": {
        "id": "6AQanICSJWHc"
      },
      "source": [
        "Now we can measure our accuracy..."
      ]
    },
    {
      "cell_type": "code",
      "metadata": {
        "id": "LIhAIxgL2p27"
      },
      "source": [
        "# Tally the number of correct predictions to get our accuracy.\n",
        "accuracy = (predicted_labels == flat_true_labels).mean()\n",
        "\n",
        "print('XLM-R Prediction accuracy: {:.3f}'.format(accuracy))"
      ],
      "execution_count": null,
      "outputs": []
    },
    {
      "cell_type": "markdown",
      "metadata": {
        "id": "57k5kj3KI8Qc"
      },
      "source": [
        "We saw earlier that the test set is balanced, so random guessing should give an accuracy of 1-out-of-3 correct. Just to sanity check..."
      ]
    },
    {
      "cell_type": "code",
      "metadata": {
        "id": "LJyh5Ud8Hnye"
      },
      "source": [
        "# Randomly guess labels for all of the test samples.\n",
        "random_labels = np.random.randint(low=0, high=2, size=(predicted_labels.shape))\n",
        "\n",
        "# Calculate accuracy.\n",
        "rand_accuracy = (random_labels == flat_true_labels).mean()\n",
        "\n",
        "print('Random guessing accuracy: {:.3f}'.format(rand_accuracy))"
      ],
      "execution_count": null,
      "outputs": []
    },
    {
      "cell_type": "markdown",
      "metadata": {
        "id": "_CTe4j8sO7jj"
      },
      "source": [
        "The authors of XML-RoBERTa reported a score of 0.742 on Turkish in their [paper](https://arxiv.org/pdf/1911.02116.pdf) in Table 1:\n",
        "\n",
        "![Turkish results](https://drive.google.com/uc?id=1WGfzITINY5ygVY8IoYAp1IshWNi6-QVw)\n",
        "\n"
      ]
    },
    {
      "cell_type": "markdown",
      "metadata": {
        "id": "oQocHdRT-4ui"
      },
      "source": [
        "Our lower accuracy here (0.654) is at least partly due to only training on a subset of the full MLNI training set (we trained on 40,000 examples, only ~10% of the full dataset!). \n",
        "\n",
        "I also ran this experiment with only 10,000 training samples, and got a score of 0.554, so the additional training samples made a big difference! "
      ]
    },
    {
      "cell_type": "markdown",
      "metadata": {
        "id": "xnEzzflIX2JE"
      },
      "source": [
        "# Appendix"
      ]
    },
    {
      "cell_type": "markdown",
      "metadata": {
        "id": "vAWILJ4wPH5Z"
      },
      "source": [
        "## A.1. About XLM-R\n"
      ]
    },
    {
      "cell_type": "markdown",
      "metadata": {
        "id": "UwV_UgIrAzJb"
      },
      "source": [
        "\n",
        "As of July 2020, the best multilingual model is XLM-R for ease of use (huggingface interface) and downstream performance. \n"
      ]
    },
    {
      "cell_type": "markdown",
      "metadata": {
        "id": "Hl0x10MG9NHe"
      },
      "source": [
        "\n",
        "**Timeline of Multilingual BERT Models**\n",
        "\n",
        "Up to this point there have only been a few major (BERT-like) multilingual language models, so a brief **multilingual BERT timeline** looks like this:\n",
        "\n",
        "* Sep 2018 - **XNLI** ([paper](https://arxiv.org/pdf/1809.05053))\n",
        "    * Authors: Conneau, Bowman et al. from Facebook and NYU\n",
        "    * XNLI dataset introduced, enabling testing of different languages.\n",
        "* Oct 2018 - **BERT** ([paper](https://arxiv.org/pdf/1810.04805))\n",
        "    * Authors: Devlin et al. from Google\n",
        "    * The original BERT\n",
        "* Nov 2018 - **mBERT** (No dedicated paper? [GitHub](https://github.com/google-research/bert/blob/master/multilingual.md))\n",
        "    * Authors: Devlin et al. from Google\n",
        "    * This model is essentially BERT but trained with multiple languages instead of just English.\n",
        "* Jan 2019 -  **XLM** ([paper](https://arxiv.org/pdf/1901.07291))\n",
        "    * Authors: Lample and Conneau from Facebook\n",
        "    * This model introduces some new techniques and multilingual training objectives and outperforms mBERT.\n",
        "* Nov 2019 - **XLM-RoBERTa**, a.k.a. \"XLM-R\" ([paper](https://arxiv.org/pdf/1911.02116.pdf))\n",
        "    * Authors: Lample, Conneau et al. from Facebook\n",
        "    * This model improves on XLM largely by:\n",
        "        * Increasing the amount of data used during pretraining\n",
        "        * Carefully identifying which aspects of the pretraining regiment lead to the most successful downstream performance (the same approach that was used to make RoBERTa successful). \n"
      ]
    },
    {
      "cell_type": "markdown",
      "metadata": {
        "id": "vKIbL1RU9O5U"
      },
      "source": [
        "**XLM-RoBERTa**\n",
        "\n",
        "Earlier, in section 1.4., we used the following bar plot, taken from the XLM-R [paper](https://arxiv.org/pdf/1911.02116.pdf), to illustrate the problem of resources by language. In the paper, this figure was actually intended to illustrate the increase in data used to train XLM-R (blue) vs. the data used to train XLM and mBERT (orange).\n",
        "\n",
        "![Bar plot showing increased data for XLM-R](https://drive.google.com/uc?id=1hIyP7UxuRXGqRLtqi8_uVHX4Twe8MPGV)\n",
        "\n",
        "The XLM-R paper also studies aspects like how many languages to train, the size of the vocabulary, and how to choose a distribution of training samples from languages with different amounts of data. The result is a model that has been trained in attempt of an optimal balance for XNLI performance, but research from the authors provide recommendations for how a model could be optimally trained to favor another task, for example good performance on lots of low-resource languages with little attention paid to English performance.\n",
        "\n",
        "Prior to these BERT-inspired approaches, translation and multilingual language models required supervised approaches with parallel data (the same sentence in multiple different languages) in large quantities, whereas models like XLM-R and mBERT take an unsupervised approach that does not require labeled data."
      ]
    }
  ]
}